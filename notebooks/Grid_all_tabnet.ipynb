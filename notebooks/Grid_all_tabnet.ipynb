{
  "cells": [
    {
      "cell_type": "code",
      "execution_count": null,
      "metadata": {
        "id": "pYuVeipSLtkD"
      },
      "outputs": [],
      "source": [
        "import numpy as np\n",
        "import pandas as pd\n",
        "import matplotlib.pyplot as plt\n",
        "import pickle\n",
        "import warnings\n",
        "import re"
      ]
    },
    {
      "cell_type": "code",
      "source": [
        "import multiprocessing\n",
        "\n",
        "cores = multiprocessing.cpu_count() # Count the number of cores in a computer\n",
        "cores"
      ],
      "metadata": {
        "id": "jy84cTsGAAqc"
      },
      "execution_count": null,
      "outputs": []
    },
    {
      "cell_type": "code",
      "execution_count": null,
      "metadata": {
        "colab": {
          "base_uri": "https://localhost:8080/"
        },
        "id": "S1hB5BbdL0NC",
        "outputId": "b6b3b7b4-f638-48e6-9c84-9b75f14f7f63"
      },
      "outputs": [
        {
          "name": "stdout",
          "output_type": "stream",
          "text": [
            "Requirement already satisfied: pytorch-tabnet in /usr/local/lib/python3.10/dist-packages (4.1.0)\n",
            "Requirement already satisfied: numpy>=1.17 in /usr/local/lib/python3.10/dist-packages (from pytorch-tabnet) (1.25.2)\n",
            "Requirement already satisfied: scikit_learn>0.21 in /usr/local/lib/python3.10/dist-packages (from pytorch-tabnet) (1.2.2)\n",
            "Requirement already satisfied: scipy>1.4 in /usr/local/lib/python3.10/dist-packages (from pytorch-tabnet) (1.11.4)\n",
            "Requirement already satisfied: torch>=1.3 in /usr/local/lib/python3.10/dist-packages (from pytorch-tabnet) (2.2.1+cu121)\n",
            "Requirement already satisfied: tqdm>=4.36 in /usr/local/lib/python3.10/dist-packages (from pytorch-tabnet) (4.66.4)\n",
            "Requirement already satisfied: joblib>=1.1.1 in /usr/local/lib/python3.10/dist-packages (from scikit_learn>0.21->pytorch-tabnet) (1.4.2)\n",
            "Requirement already satisfied: threadpoolctl>=2.0.0 in /usr/local/lib/python3.10/dist-packages (from scikit_learn>0.21->pytorch-tabnet) (3.5.0)\n",
            "Requirement already satisfied: filelock in /usr/local/lib/python3.10/dist-packages (from torch>=1.3->pytorch-tabnet) (3.14.0)\n",
            "Requirement already satisfied: typing-extensions>=4.8.0 in /usr/local/lib/python3.10/dist-packages (from torch>=1.3->pytorch-tabnet) (4.11.0)\n",
            "Requirement already satisfied: sympy in /usr/local/lib/python3.10/dist-packages (from torch>=1.3->pytorch-tabnet) (1.12)\n",
            "Requirement already satisfied: networkx in /usr/local/lib/python3.10/dist-packages (from torch>=1.3->pytorch-tabnet) (3.3)\n",
            "Requirement already satisfied: jinja2 in /usr/local/lib/python3.10/dist-packages (from torch>=1.3->pytorch-tabnet) (3.1.4)\n",
            "Requirement already satisfied: fsspec in /usr/local/lib/python3.10/dist-packages (from torch>=1.3->pytorch-tabnet) (2023.6.0)\n",
            "Requirement already satisfied: nvidia-cuda-nvrtc-cu12==12.1.105 in /usr/local/lib/python3.10/dist-packages (from torch>=1.3->pytorch-tabnet) (12.1.105)\n",
            "Requirement already satisfied: nvidia-cuda-runtime-cu12==12.1.105 in /usr/local/lib/python3.10/dist-packages (from torch>=1.3->pytorch-tabnet) (12.1.105)\n",
            "Requirement already satisfied: nvidia-cuda-cupti-cu12==12.1.105 in /usr/local/lib/python3.10/dist-packages (from torch>=1.3->pytorch-tabnet) (12.1.105)\n",
            "Requirement already satisfied: nvidia-cudnn-cu12==8.9.2.26 in /usr/local/lib/python3.10/dist-packages (from torch>=1.3->pytorch-tabnet) (8.9.2.26)\n",
            "Requirement already satisfied: nvidia-cublas-cu12==12.1.3.1 in /usr/local/lib/python3.10/dist-packages (from torch>=1.3->pytorch-tabnet) (12.1.3.1)\n",
            "Requirement already satisfied: nvidia-cufft-cu12==11.0.2.54 in /usr/local/lib/python3.10/dist-packages (from torch>=1.3->pytorch-tabnet) (11.0.2.54)\n",
            "Requirement already satisfied: nvidia-curand-cu12==10.3.2.106 in /usr/local/lib/python3.10/dist-packages (from torch>=1.3->pytorch-tabnet) (10.3.2.106)\n",
            "Requirement already satisfied: nvidia-cusolver-cu12==11.4.5.107 in /usr/local/lib/python3.10/dist-packages (from torch>=1.3->pytorch-tabnet) (11.4.5.107)\n",
            "Requirement already satisfied: nvidia-cusparse-cu12==12.1.0.106 in /usr/local/lib/python3.10/dist-packages (from torch>=1.3->pytorch-tabnet) (12.1.0.106)\n",
            "Requirement already satisfied: nvidia-nccl-cu12==2.19.3 in /usr/local/lib/python3.10/dist-packages (from torch>=1.3->pytorch-tabnet) (2.19.3)\n",
            "Requirement already satisfied: nvidia-nvtx-cu12==12.1.105 in /usr/local/lib/python3.10/dist-packages (from torch>=1.3->pytorch-tabnet) (12.1.105)\n",
            "Requirement already satisfied: triton==2.2.0 in /usr/local/lib/python3.10/dist-packages (from torch>=1.3->pytorch-tabnet) (2.2.0)\n",
            "Requirement already satisfied: nvidia-nvjitlink-cu12 in /usr/local/lib/python3.10/dist-packages (from nvidia-cusolver-cu12==11.4.5.107->torch>=1.3->pytorch-tabnet) (12.4.127)\n",
            "Requirement already satisfied: MarkupSafe>=2.0 in /usr/local/lib/python3.10/dist-packages (from jinja2->torch>=1.3->pytorch-tabnet) (2.1.5)\n",
            "Requirement already satisfied: mpmath>=0.19 in /usr/local/lib/python3.10/dist-packages (from sympy->torch>=1.3->pytorch-tabnet) (1.3.0)\n"
          ]
        }
      ],
      "source": [
        "pip install pytorch-tabnet;"
      ]
    },
    {
      "cell_type": "code",
      "execution_count": null,
      "metadata": {
        "colab": {
          "base_uri": "https://localhost:8080/"
        },
        "id": "LAvwEF0PO-FG",
        "outputId": "e8284930-182e-4fd5-d013-1432b4ef267b"
      },
      "outputs": [
        {
          "name": "stdout",
          "output_type": "stream",
          "text": [
            "Requirement already satisfied: optuna in /usr/local/lib/python3.10/dist-packages (3.6.1)\n",
            "Requirement already satisfied: alembic>=1.5.0 in /usr/local/lib/python3.10/dist-packages (from optuna) (1.13.1)\n",
            "Requirement already satisfied: colorlog in /usr/local/lib/python3.10/dist-packages (from optuna) (6.8.2)\n",
            "Requirement already satisfied: numpy in /usr/local/lib/python3.10/dist-packages (from optuna) (1.25.2)\n",
            "Requirement already satisfied: packaging>=20.0 in /usr/local/lib/python3.10/dist-packages (from optuna) (24.0)\n",
            "Requirement already satisfied: sqlalchemy>=1.3.0 in /usr/local/lib/python3.10/dist-packages (from optuna) (2.0.30)\n",
            "Requirement already satisfied: tqdm in /usr/local/lib/python3.10/dist-packages (from optuna) (4.66.4)\n",
            "Requirement already satisfied: PyYAML in /usr/local/lib/python3.10/dist-packages (from optuna) (6.0.1)\n",
            "Requirement already satisfied: Mako in /usr/local/lib/python3.10/dist-packages (from alembic>=1.5.0->optuna) (1.3.3)\n",
            "Requirement already satisfied: typing-extensions>=4 in /usr/local/lib/python3.10/dist-packages (from alembic>=1.5.0->optuna) (4.11.0)\n",
            "Requirement already satisfied: greenlet!=0.4.17 in /usr/local/lib/python3.10/dist-packages (from sqlalchemy>=1.3.0->optuna) (3.0.3)\n",
            "Requirement already satisfied: MarkupSafe>=0.9.2 in /usr/local/lib/python3.10/dist-packages (from Mako->alembic>=1.5.0->optuna) (2.1.5)\n"
          ]
        }
      ],
      "source": [
        "pip install optuna;"
      ]
    },
    {
      "cell_type": "code",
      "execution_count": null,
      "metadata": {
        "id": "x14rYfIELtkF"
      },
      "outputs": [],
      "source": [
        "from sklearn.metrics import r2_score\n",
        "from sklearn.model_selection import KFold,cross_val_score\n",
        "from sklearn.linear_model import LassoCV,LassoLarsIC,Lasso,LinearRegression"
      ]
    },
    {
      "cell_type": "code",
      "execution_count": null,
      "metadata": {
        "colab": {
          "base_uri": "https://localhost:8080/"
        },
        "id": "_8qP8SpTORfd",
        "outputId": "7c810c4d-7ce5-442f-d4c1-c41ffe6eba42"
      },
      "outputs": [
        {
          "name": "stdout",
          "output_type": "stream",
          "text": [
            "Drive already mounted at /content/drive; to attempt to forcibly remount, call drive.mount(\"/content/drive\", force_remount=True).\n"
          ]
        }
      ],
      "source": [
        "from google.colab import drive\n",
        "drive.mount('/content/drive')"
      ]
    },
    {
      "cell_type": "code",
      "execution_count": null,
      "metadata": {
        "id": "vW54cn6VLtkF"
      },
      "outputs": [],
      "source": [
        "def lasso_moran_select(data,s):\n",
        "\n",
        "    X_coords = data.iloc[:,:-3]\n",
        "\n",
        "    y = data['y']\n",
        "\n",
        "    X1 = data.X1.values\n",
        "    X2 = data.X2.values\n",
        "\n",
        "    moran = data.iloc[:,2:-3].values\n",
        "\n",
        "    moran_X1_names = [\"moran_X1_\" + str(i) for i in range(moran.shape[1])]\n",
        "    X_coords.loc[:,moran_X1_names] = moran*X1.reshape(-1,1)\n",
        "\n",
        "    moran_X2_names = [\"moran_X2_\" + str(i) for i in range(moran.shape[1])]\n",
        "    X_coords.loc[:,moran_X2_names] = moran*X2.reshape(-1,1)\n",
        "\n",
        "    kf = KFold(n_splits=5, shuffle=True, random_state=42)\n",
        "\n",
        "    if s == 'mse':\n",
        "        model = LassoCV(cv=kf,  alphas=np.logspace(-4, -2, 20))\n",
        "        model.fit(X_coords, y)\n",
        "        r2_scores = cross_val_score(model, X_coords, y, cv=kf, scoring='r2')\n",
        "\n",
        "        print(\"MSE LASSO CV R2 score: \", np.mean(r2_scores))\n",
        "\n",
        "    if s == 'bic':\n",
        "        model = LassoLarsIC(criterion='bic')\n",
        "        model.fit(X_coords, y)\n",
        "\n",
        "        r2_scores = cross_val_score(model, X_coords, y, cv=kf, scoring='r2')\n",
        "\n",
        "        print(\"BIC LASSO CV R2 score: \", np.mean(r2_scores))\n",
        "\n",
        "\n",
        "    selected_index = np.where(model.coef_ != 0)[0]\n",
        "    selected_feature = list(X_coords.columns[selected_index])\n",
        "\n",
        "    moran_X1s = [s for s in selected_feature if s.startswith('moran_X1_')]\n",
        "    moran_X2s = [s for s in selected_feature if s.startswith('moran_X2_')]\n",
        "    moran_s = [s for s in selected_feature if re.match(r\"^moran_\\d+$\", s)]\n",
        "\n",
        "    numbers_s = set(int(x.split('_')[1]) for x in moran_s)\n",
        "    numbers_x1 = set(int(x.split('_')[2]) for x in moran_X1s)\n",
        "    numbers_x2 = set(int(x.split('_')[2]) for x in moran_X2s)\n",
        "\n",
        "    # Find intersection of numbers in both lists\n",
        "    common_numbers = numbers_s.union(numbers_x1.union(numbers_x2))\n",
        "\n",
        "    moran_selected = ['moran_' + str(num) for num in sorted(common_numbers)]\n",
        "\n",
        "    return moran_selected"
      ]
    },
    {
      "cell_type": "code",
      "execution_count": null,
      "metadata": {
        "id": "ZpFASx1fO30x"
      },
      "outputs": [],
      "source": [
        "import sys\n",
        "sys.path.append('/content/drive/MyDrive/MEM Colab Runs')"
      ]
    },
    {
      "cell_type": "code",
      "execution_count": null,
      "metadata": {
        "id": "xY9x11_KLtkG"
      },
      "outputs": [],
      "source": [
        "from tabnet_model import TabNet_fit"
      ]
    },
    {
      "cell_type": "code",
      "execution_count": null,
      "metadata": {
        "id": "6Mpn4qG2LtkG"
      },
      "outputs": [],
      "source": [
        "weights = ['queen','exp'] #2\n",
        "models = ['tabnet'] #1\n",
        "selection = ['xy','all','mse','bic'] #4"
      ]
    },
    {
      "cell_type": "code",
      "execution_count": null,
      "metadata": {
        "colab": {
          "background_save": true,
          "base_uri": "https://localhost:8080/"
        },
        "id": "d0StXGzeLtkG",
        "outputId": "e656b312-7773-4760-a2dd-86e05001c309"
      },
      "outputs": [
        {
          "name": "stderr",
          "output_type": "stream",
          "text": [
            "[I 2024-05-10 19:46:44,422] A new study created in memory with name: no-name-49e70716-dc02-426e-b197-5733532f8cfc\n"
          ]
        },
        {
          "name": "stdout",
          "output_type": "stream",
          "text": [
            "Stop training because you reached max_epochs = 369 with best_epoch = 358 and best_val_0_rmse = 0.77328\n",
            "\n",
            "Early stopping occurred at epoch 309 with best_epoch = 237 and best_val_0_rmse = 0.7196\n",
            "Stop training because you reached max_epochs = 369 with best_epoch = 325 and best_val_0_rmse = 0.79927\n",
            "Stop training because you reached max_epochs = 369 with best_epoch = 347 and best_val_0_rmse = 0.77465\n"
          ]
        },
        {
          "name": "stderr",
          "output_type": "stream",
          "text": [
            "[I 2024-05-10 19:49:37,133] Trial 0 finished with value: -0.9477249292925418 and parameters: {'mask_type': 'sparsemax', 'n_da': 64, 'n_steps': 3, 'gamma': 1.1, 'n_shared': 1, 'lambda_sparse': 1.951722464144948e-08, 'patienceScheduler': 14, 'patience': 72, 'epochs': 369}. Best is trial 0 with value: -0.9477249292925418.\n"
          ]
        },
        {
          "name": "stdout",
          "output_type": "stream",
          "text": [
            "Stop training because you reached max_epochs = 369 with best_epoch = 360 and best_val_0_rmse = 0.80028\n",
            "Stop training because you reached max_epochs = 181 with best_epoch = 180 and best_val_0_rmse = 1.04726\n",
            "Stop training because you reached max_epochs = 181 with best_epoch = 165 and best_val_0_rmse = 0.87299\n",
            "Stop training because you reached max_epochs = 181 with best_epoch = 180 and best_val_0_rmse = 1.08027\n",
            "Stop training because you reached max_epochs = 181 with best_epoch = 180 and best_val_0_rmse = 0.94582\n"
          ]
        },
        {
          "name": "stderr",
          "output_type": "stream",
          "text": [
            "[I 2024-05-10 19:50:45,889] Trial 1 finished with value: -0.9149979064242191 and parameters: {'mask_type': 'sparsemax', 'n_da': 64, 'n_steps': 2, 'gamma': 1.1, 'n_shared': 1, 'lambda_sparse': 3.3205591037519537e-07, 'patienceScheduler': 9, 'patience': 60, 'epochs': 181}. Best is trial 0 with value: -0.9477249292925418.\n"
          ]
        },
        {
          "name": "stdout",
          "output_type": "stream",
          "text": [
            "Stop training because you reached max_epochs = 181 with best_epoch = 180 and best_val_0_rmse = 0.97751\n",
            "Stop training because you reached max_epochs = 70 with best_epoch = 69 and best_val_0_rmse = 0.936\n",
            "Stop training because you reached max_epochs = 70 with best_epoch = 68 and best_val_0_rmse = 0.99371\n",
            "Stop training because you reached max_epochs = 70 with best_epoch = 67 and best_val_0_rmse = 0.96085\n",
            "Stop training because you reached max_epochs = 70 with best_epoch = 65 and best_val_0_rmse = 0.91521\n"
          ]
        },
        {
          "name": "stderr",
          "output_type": "stream",
          "text": [
            "[I 2024-05-10 19:51:28,438] Trial 2 finished with value: -0.9212983954949623 and parameters: {'mask_type': 'entmax', 'n_da': 56, 'n_steps': 2, 'gamma': 1.3, 'n_shared': 4, 'lambda_sparse': 9.9625132220551e-08, 'patienceScheduler': 9, 'patience': 72, 'epochs': 70}. Best is trial 0 with value: -0.9477249292925418.\n"
          ]
        },
        {
          "name": "stdout",
          "output_type": "stream",
          "text": [
            "Stop training because you reached max_epochs = 70 with best_epoch = 65 and best_val_0_rmse = 0.92994\n",
            "Stop training because you reached max_epochs = 248 with best_epoch = 222 and best_val_0_rmse = 1.01947\n",
            "Stop training because you reached max_epochs = 248 with best_epoch = 202 and best_val_0_rmse = 1.01454\n",
            "Stop training because you reached max_epochs = 248 with best_epoch = 170 and best_val_0_rmse = 0.87693\n",
            "Stop training because you reached max_epochs = 248 with best_epoch = 174 and best_val_0_rmse = 0.93346\n",
            "\n",
            "Early stopping occurred at epoch 203 with best_epoch = 125 and best_val_0_rmse = 1.01836\n"
          ]
        },
        {
          "name": "stderr",
          "output_type": "stream",
          "text": [
            "[I 2024-05-10 19:56:24,868] Trial 3 finished with value: -0.9163218519435196 and parameters: {'mask_type': 'entmax', 'n_da': 56, 'n_steps': 5, 'gamma': 1.6, 'n_shared': 5, 'lambda_sparse': 3.3347927286375814e-07, 'patienceScheduler': 4, 'patience': 78, 'epochs': 248}. Best is trial 0 with value: -0.9477249292925418.\n"
          ]
        },
        {
          "name": "stdout",
          "output_type": "stream",
          "text": [
            "Stop training because you reached max_epochs = 133 with best_epoch = 122 and best_val_0_rmse = 0.92064\n",
            "Stop training because you reached max_epochs = 133 with best_epoch = 132 and best_val_0_rmse = 0.84971\n",
            "Stop training because you reached max_epochs = 133 with best_epoch = 132 and best_val_0_rmse = 0.99164\n",
            "Stop training because you reached max_epochs = 133 with best_epoch = 117 and best_val_0_rmse = 0.86499\n",
            "Stop training because you reached max_epochs = 133 with best_epoch = 122 and best_val_0_rmse = 0.88021\n"
          ]
        },
        {
          "name": "stderr",
          "output_type": "stream",
          "text": [
            "[I 2024-05-10 19:58:49,952] Trial 4 finished with value: -0.9289430019211263 and parameters: {'mask_type': 'sparsemax', 'n_da': 56, 'n_steps': 5, 'gamma': 1.1, 'n_shared': 4, 'lambda_sparse': 3.618723330959616e-07, 'patienceScheduler': 9, 'patience': 68, 'epochs': 133}. Best is trial 0 with value: -0.9477249292925418.\n"
          ]
        },
        {
          "name": "stdout",
          "output_type": "stream",
          "text": [
            "Stop training because you reached max_epochs = 196 with best_epoch = 193 and best_val_0_rmse = 0.87129\n",
            "\n",
            "Early stopping occurred at epoch 184 with best_epoch = 151 and best_val_0_rmse = 0.85325\n",
            "\n",
            "Early stopping occurred at epoch 131 with best_epoch = 98 and best_val_0_rmse = 0.94316\n",
            "Stop training because you reached max_epochs = 196 with best_epoch = 193 and best_val_0_rmse = 1.01782\n",
            "Stop training because you reached max_epochs = 196 with best_epoch = 170 and best_val_0_rmse = 0.95804\n"
          ]
        },
        {
          "name": "stderr",
          "output_type": "stream",
          "text": [
            "[I 2024-05-10 20:02:55,512] Trial 5 finished with value: -0.9245725581147841 and parameters: {'mask_type': 'entmax', 'n_da': 64, 'n_steps': 5, 'gamma': 1.4, 'n_shared': 5, 'lambda_sparse': 2.7698899227562766e-08, 'patienceScheduler': 5, 'patience': 33, 'epochs': 196}. Best is trial 0 with value: -0.9477249292925418.\n"
          ]
        },
        {
          "name": "stdout",
          "output_type": "stream",
          "text": [
            "\n",
            "Early stopping occurred at epoch 260 with best_epoch = 225 and best_val_0_rmse = 0.73652\n",
            "\n",
            "Early stopping occurred at epoch 221 with best_epoch = 186 and best_val_0_rmse = 0.72419\n",
            "\n",
            "Early stopping occurred at epoch 175 with best_epoch = 140 and best_val_0_rmse = 0.72271\n",
            "\n",
            "Early stopping occurred at epoch 354 with best_epoch = 319 and best_val_0_rmse = 0.68799\n"
          ]
        },
        {
          "name": "stderr",
          "output_type": "stream",
          "text": [
            "[I 2024-05-10 20:05:20,803] Trial 6 finished with value: -0.9555366471465223 and parameters: {'mask_type': 'entmax', 'n_da': 64, 'n_steps': 2, 'gamma': 1.1, 'n_shared': 3, 'lambda_sparse': 5.0654860639753365e-08, 'patienceScheduler': 13, 'patience': 35, 'epochs': 495}. Best is trial 6 with value: -0.9555366471465223.\n"
          ]
        },
        {
          "name": "stdout",
          "output_type": "stream",
          "text": [
            "\n",
            "Early stopping occurred at epoch 333 with best_epoch = 298 and best_val_0_rmse = 0.68691\n",
            "Stop training because you reached max_epochs = 102 with best_epoch = 94 and best_val_0_rmse = 1.07222\n",
            "Stop training because you reached max_epochs = 102 with best_epoch = 91 and best_val_0_rmse = 1.09175\n",
            "Stop training because you reached max_epochs = 102 with best_epoch = 100 and best_val_0_rmse = 0.95109\n",
            "Stop training because you reached max_epochs = 102 with best_epoch = 101 and best_val_0_rmse = 0.94997\n"
          ]
        },
        {
          "name": "stderr",
          "output_type": "stream",
          "text": [
            "[I 2024-05-10 20:07:13,528] Trial 7 finished with value: -0.9064541277782073 and parameters: {'mask_type': 'entmax', 'n_da': 56, 'n_steps': 5, 'gamma': 1.4, 'n_shared': 4, 'lambda_sparse': 7.183758655813986e-05, 'patienceScheduler': 3, 'patience': 55, 'epochs': 102}. Best is trial 6 with value: -0.9555366471465223.\n"
          ]
        },
        {
          "name": "stdout",
          "output_type": "stream",
          "text": [
            "Stop training because you reached max_epochs = 102 with best_epoch = 95 and best_val_0_rmse = 1.07644\n",
            "Stop training because you reached max_epochs = 262 with best_epoch = 261 and best_val_0_rmse = 0.78838\n",
            "Stop training because you reached max_epochs = 262 with best_epoch = 249 and best_val_0_rmse = 0.66776\n",
            "Stop training because you reached max_epochs = 262 with best_epoch = 259 and best_val_0_rmse = 0.72546\n",
            "Stop training because you reached max_epochs = 262 with best_epoch = 259 and best_val_0_rmse = 0.68589\n"
          ]
        },
        {
          "name": "stderr",
          "output_type": "stream",
          "text": [
            "[I 2024-05-10 20:08:35,366] Trial 8 finished with value: -0.9560632139464834 and parameters: {'mask_type': 'entmax', 'n_da': 56, 'n_steps': 1, 'gamma': 1.2, 'n_shared': 2, 'lambda_sparse': 4.446628955475447e-05, 'patienceScheduler': 11, 'patience': 92, 'epochs': 262}. Best is trial 8 with value: -0.9560632139464834.\n"
          ]
        },
        {
          "name": "stdout",
          "output_type": "stream",
          "text": [
            "Stop training because you reached max_epochs = 262 with best_epoch = 258 and best_val_0_rmse = 0.66245\n",
            "Stop training because you reached max_epochs = 98 with best_epoch = 86 and best_val_0_rmse = 1.11824\n",
            "Stop training because you reached max_epochs = 98 with best_epoch = 93 and best_val_0_rmse = 1.29716\n",
            "Stop training because you reached max_epochs = 98 with best_epoch = 97 and best_val_0_rmse = 1.09277\n",
            "Stop training because you reached max_epochs = 98 with best_epoch = 97 and best_val_0_rmse = 0.93886\n"
          ]
        },
        {
          "name": "stderr",
          "output_type": "stream",
          "text": [
            "[I 2024-05-10 20:09:43,121] Trial 9 finished with value: -0.8905918972439439 and parameters: {'mask_type': 'sparsemax', 'n_da': 64, 'n_steps': 3, 'gamma': 1.5, 'n_shared': 3, 'lambda_sparse': 4.1083188946999205e-06, 'patienceScheduler': 8, 'patience': 31, 'epochs': 98}. Best is trial 8 with value: -0.9560632139464834.\n"
          ]
        },
        {
          "name": "stdout",
          "output_type": "stream",
          "text": [
            "Stop training because you reached max_epochs = 98 with best_epoch = 97 and best_val_0_rmse = 1.09253\n",
            "\n",
            "Early stopping occurred at epoch 317 with best_epoch = 218 and best_val_0_rmse = 0.7682\n",
            "Stop training because you reached max_epochs = 358 with best_epoch = 338 and best_val_0_rmse = 0.66474\n",
            "\n",
            "Early stopping occurred at epoch 290 with best_epoch = 191 and best_val_0_rmse = 0.69223\n",
            "Stop training because you reached max_epochs = 358 with best_epoch = 325 and best_val_0_rmse = 0.67296\n"
          ]
        },
        {
          "name": "stderr",
          "output_type": "stream",
          "text": [
            "[I 2024-05-10 20:11:31,392] Trial 10 finished with value: -0.9578879285463804 and parameters: {'mask_type': 'entmax', 'n_da': 60, 'n_steps': 1, 'gamma': 1.3, 'n_shared': 2, 'lambda_sparse': 0.00034540130684562146, 'patienceScheduler': 12, 'patience': 99, 'epochs': 358}. Best is trial 10 with value: -0.9578879285463804.\n"
          ]
        },
        {
          "name": "stdout",
          "output_type": "stream",
          "text": [
            "Stop training because you reached max_epochs = 358 with best_epoch = 334 and best_val_0_rmse = 0.65733\n",
            "\n",
            "Early stopping occurred at epoch 318 with best_epoch = 218 and best_val_0_rmse = 0.76532\n",
            "Stop training because you reached max_epochs = 350 with best_epoch = 338 and best_val_0_rmse = 0.70472\n",
            "Stop training because you reached max_epochs = 350 with best_epoch = 275 and best_val_0_rmse = 0.68758\n",
            "Stop training because you reached max_epochs = 350 with best_epoch = 264 and best_val_0_rmse = 0.70847\n"
          ]
        },
        {
          "name": "stderr",
          "output_type": "stream",
          "text": [
            "[I 2024-05-10 20:13:21,309] Trial 11 finished with value: -0.9564155124899474 and parameters: {'mask_type': 'entmax', 'n_da': 60, 'n_steps': 1, 'gamma': 1.3, 'n_shared': 2, 'lambda_sparse': 0.0008964070657823873, 'patienceScheduler': 12, 'patience': 100, 'epochs': 350}. Best is trial 10 with value: -0.9578879285463804.\n"
          ]
        },
        {
          "name": "stdout",
          "output_type": "stream",
          "text": [
            "Stop training because you reached max_epochs = 350 with best_epoch = 337 and best_val_0_rmse = 0.64775\n",
            "\n",
            "Early stopping occurred at epoch 318 with best_epoch = 218 and best_val_0_rmse = 0.76487\n",
            "Stop training because you reached max_epochs = 374 with best_epoch = 367 and best_val_0_rmse = 0.66684\n",
            "\n",
            "Early stopping occurred at epoch 371 with best_epoch = 271 and best_val_0_rmse = 0.66753\n",
            "\n",
            "Early stopping occurred at epoch 371 with best_epoch = 271 and best_val_0_rmse = 0.68977\n"
          ]
        },
        {
          "name": "stderr",
          "output_type": "stream",
          "text": [
            "[I 2024-05-10 20:15:18,531] Trial 12 finished with value: -0.9580950383285927 and parameters: {'mask_type': 'entmax', 'n_da': 60, 'n_steps': 1, 'gamma': 1.3, 'n_shared': 2, 'lambda_sparse': 0.0006099621410320293, 'patienceScheduler': 12, 'patience': 100, 'epochs': 374}. Best is trial 12 with value: -0.9580950383285927.\n"
          ]
        },
        {
          "name": "stdout",
          "output_type": "stream",
          "text": [
            "Stop training because you reached max_epochs = 374 with best_epoch = 297 and best_val_0_rmse = 0.65592\n",
            "\n",
            "Early stopping occurred at epoch 369 with best_epoch = 282 and best_val_0_rmse = 0.74037\n",
            "Stop training because you reached max_epochs = 390 with best_epoch = 384 and best_val_0_rmse = 0.66252\n",
            "Stop training because you reached max_epochs = 390 with best_epoch = 379 and best_val_0_rmse = 0.66594\n",
            "Stop training because you reached max_epochs = 390 with best_epoch = 325 and best_val_0_rmse = 0.67805\n"
          ]
        },
        {
          "name": "stderr",
          "output_type": "stream",
          "text": [
            "[I 2024-05-10 20:17:22,534] Trial 13 finished with value: -0.9594175883550177 and parameters: {'mask_type': 'entmax', 'n_da': 60, 'n_steps': 1, 'gamma': 1.4, 'n_shared': 2, 'lambda_sparse': 0.0005684769945435202, 'patienceScheduler': 15, 'patience': 87, 'epochs': 390}. Best is trial 13 with value: -0.9594175883550177.\n"
          ]
        },
        {
          "name": "stdout",
          "output_type": "stream",
          "text": [
            "Stop training because you reached max_epochs = 390 with best_epoch = 334 and best_val_0_rmse = 0.64654\n"
          ]
        },
        {
          "name": "stderr",
          "output_type": "stream",
          "text": [
            "[I 2024-05-10 20:18:00,805] A new study created in memory with name: no-name-0bd73813-7e82-4055-879c-8ed5b85ea377\n"
          ]
        },
        {
          "name": "stdout",
          "output_type": "stream",
          "text": [
            "/content/drive/MyDrive/MEM Colab Runs/models/grid_tabnet_moran_xy_lasso_queen.model CV-R2 = 0.959\n",
            "\n",
            "Early stopping occurred at epoch 138 with best_epoch = 66 and best_val_0_rmse = 2.78666\n",
            "\n",
            "Early stopping occurred at epoch 199 with best_epoch = 127 and best_val_0_rmse = 2.46796\n",
            "\n",
            "Early stopping occurred at epoch 233 with best_epoch = 161 and best_val_0_rmse = 2.43933\n",
            "\n",
            "Early stopping occurred at epoch 186 with best_epoch = 114 and best_val_0_rmse = 2.77034\n"
          ]
        },
        {
          "name": "stderr",
          "output_type": "stream",
          "text": [
            "[I 2024-05-10 20:20:11,896] Trial 0 finished with value: -0.3877077998833378 and parameters: {'mask_type': 'sparsemax', 'n_da': 64, 'n_steps': 3, 'gamma': 1.1, 'n_shared': 1, 'lambda_sparse': 1.951722464144948e-08, 'patienceScheduler': 14, 'patience': 72, 'epochs': 369}. Best is trial 0 with value: -0.3877077998833378.\n"
          ]
        },
        {
          "name": "stdout",
          "output_type": "stream",
          "text": [
            "\n",
            "Early stopping occurred at epoch 189 with best_epoch = 117 and best_val_0_rmse = 2.71729\n",
            "\n",
            "Early stopping occurred at epoch 76 with best_epoch = 16 and best_val_0_rmse = 3.45661\n",
            "\n",
            "Early stopping occurred at epoch 77 with best_epoch = 17 and best_val_0_rmse = 3.52264\n",
            "\n",
            "Early stopping occurred at epoch 77 with best_epoch = 17 and best_val_0_rmse = 3.81608\n",
            "\n",
            "Early stopping occurred at epoch 73 with best_epoch = 13 and best_val_0_rmse = 3.72771\n"
          ]
        },
        {
          "name": "stderr",
          "output_type": "stream",
          "text": [
            "[I 2024-05-10 20:20:52,337] Trial 1 finished with value: 0.15317343702794717 and parameters: {'mask_type': 'sparsemax', 'n_da': 64, 'n_steps': 2, 'gamma': 1.1, 'n_shared': 1, 'lambda_sparse': 3.3205591037519537e-07, 'patienceScheduler': 9, 'patience': 60, 'epochs': 181}. Best is trial 0 with value: -0.3877077998833378.\n"
          ]
        },
        {
          "name": "stdout",
          "output_type": "stream",
          "text": [
            "\n",
            "Early stopping occurred at epoch 77 with best_epoch = 17 and best_val_0_rmse = 3.65081\n",
            "Stop training because you reached max_epochs = 70 with best_epoch = 62 and best_val_0_rmse = 2.67814\n",
            "Stop training because you reached max_epochs = 70 with best_epoch = 67 and best_val_0_rmse = 2.6852\n",
            "Stop training because you reached max_epochs = 70 with best_epoch = 61 and best_val_0_rmse = 2.87269\n",
            "Stop training because you reached max_epochs = 70 with best_epoch = 69 and best_val_0_rmse = 2.50888\n"
          ]
        },
        {
          "name": "stderr",
          "output_type": "stream",
          "text": [
            "[I 2024-05-10 20:21:44,793] Trial 2 finished with value: -0.36895800889156405 and parameters: {'mask_type': 'entmax', 'n_da': 56, 'n_steps': 2, 'gamma': 1.3, 'n_shared': 4, 'lambda_sparse': 9.9625132220551e-08, 'patienceScheduler': 9, 'patience': 72, 'epochs': 70}. Best is trial 0 with value: -0.3877077998833378.\n"
          ]
        },
        {
          "name": "stdout",
          "output_type": "stream",
          "text": [
            "Stop training because you reached max_epochs = 70 with best_epoch = 69 and best_val_0_rmse = 2.68176\n",
            "Stop training because you reached max_epochs = 248 with best_epoch = 194 and best_val_0_rmse = 3.2234\n",
            "Stop training because you reached max_epochs = 248 with best_epoch = 174 and best_val_0_rmse = 2.51713\n",
            "\n",
            "Early stopping occurred at epoch 171 with best_epoch = 93 and best_val_0_rmse = 2.65939\n",
            "\n",
            "Early stopping occurred at epoch 176 with best_epoch = 98 and best_val_0_rmse = 3.22672\n",
            "\n",
            "Early stopping occurred at epoch 137 with best_epoch = 59 and best_val_0_rmse = 2.84798\n"
          ]
        },
        {
          "name": "stderr",
          "output_type": "stream",
          "text": [
            "[I 2024-05-10 20:27:01,502] Trial 3 finished with value: -0.256365577542421 and parameters: {'mask_type': 'entmax', 'n_da': 56, 'n_steps': 5, 'gamma': 1.6, 'n_shared': 5, 'lambda_sparse': 3.3347927286375814e-07, 'patienceScheduler': 4, 'patience': 78, 'epochs': 248}. Best is trial 0 with value: -0.3877077998833378.\n"
          ]
        },
        {
          "name": "stdout",
          "output_type": "stream",
          "text": [
            "Stop training because you reached max_epochs = 133 with best_epoch = 132 and best_val_0_rmse = 2.80398\n",
            "Stop training because you reached max_epochs = 133 with best_epoch = 109 and best_val_0_rmse = 2.51812\n",
            "Stop training because you reached max_epochs = 133 with best_epoch = 103 and best_val_0_rmse = 2.53969\n",
            "Stop training because you reached max_epochs = 133 with best_epoch = 118 and best_val_0_rmse = 2.60029\n",
            "Stop training because you reached max_epochs = 133 with best_epoch = 125 and best_val_0_rmse = 2.20585\n"
          ]
        },
        {
          "name": "stderr",
          "output_type": "stream",
          "text": [
            "[I 2024-05-10 20:30:10,974] Trial 4 finished with value: -0.4320912091780061 and parameters: {'mask_type': 'sparsemax', 'n_da': 56, 'n_steps': 5, 'gamma': 1.1, 'n_shared': 4, 'lambda_sparse': 3.618723330959616e-07, 'patienceScheduler': 9, 'patience': 68, 'epochs': 133}. Best is trial 4 with value: -0.4320912091780061.\n"
          ]
        },
        {
          "name": "stdout",
          "output_type": "stream",
          "text": [
            "\n",
            "Early stopping occurred at epoch 145 with best_epoch = 112 and best_val_0_rmse = 2.64617\n",
            "\n",
            "Early stopping occurred at epoch 123 with best_epoch = 90 and best_val_0_rmse = 2.46197\n",
            "\n",
            "Early stopping occurred at epoch 153 with best_epoch = 120 and best_val_0_rmse = 2.70309\n",
            "\n",
            "Early stopping occurred at epoch 136 with best_epoch = 103 and best_val_0_rmse = 2.8436\n",
            "\n",
            "Early stopping occurred at epoch 120 with best_epoch = 87 and best_val_0_rmse = 2.50972\n"
          ]
        },
        {
          "name": "stderr",
          "output_type": "stream",
          "text": [
            "[I 2024-05-10 20:34:05,927] Trial 5 finished with value: -0.3928971778466632 and parameters: {'mask_type': 'entmax', 'n_da': 64, 'n_steps': 5, 'gamma': 1.4, 'n_shared': 5, 'lambda_sparse': 2.7698899227562766e-08, 'patienceScheduler': 5, 'patience': 33, 'epochs': 196}. Best is trial 4 with value: -0.4320912091780061.\n"
          ]
        },
        {
          "name": "stdout",
          "output_type": "stream",
          "text": [
            "\n",
            "Early stopping occurred at epoch 170 with best_epoch = 135 and best_val_0_rmse = 2.51419\n",
            "\n",
            "Early stopping occurred at epoch 211 with best_epoch = 176 and best_val_0_rmse = 2.1487\n",
            "\n",
            "Early stopping occurred at epoch 159 with best_epoch = 124 and best_val_0_rmse = 2.20602\n",
            "\n",
            "Early stopping occurred at epoch 241 with best_epoch = 206 and best_val_0_rmse = 2.27969\n"
          ]
        },
        {
          "name": "stderr",
          "output_type": "stream",
          "text": [
            "[I 2024-05-10 20:36:19,769] Trial 6 finished with value: -0.5319076492931432 and parameters: {'mask_type': 'entmax', 'n_da': 64, 'n_steps': 2, 'gamma': 1.1, 'n_shared': 3, 'lambda_sparse': 5.0654860639753365e-08, 'patienceScheduler': 13, 'patience': 35, 'epochs': 495}. Best is trial 6 with value: -0.5319076492931432.\n"
          ]
        },
        {
          "name": "stdout",
          "output_type": "stream",
          "text": [
            "\n",
            "Early stopping occurred at epoch 164 with best_epoch = 129 and best_val_0_rmse = 2.37636\n",
            "Stop training because you reached max_epochs = 102 with best_epoch = 100 and best_val_0_rmse = 2.80838\n",
            "Stop training because you reached max_epochs = 102 with best_epoch = 66 and best_val_0_rmse = 2.69869\n",
            "Stop training because you reached max_epochs = 102 with best_epoch = 51 and best_val_0_rmse = 2.85735\n",
            "Stop training because you reached max_epochs = 102 with best_epoch = 94 and best_val_0_rmse = 2.82096\n",
            "Stop training because you reached max_epochs = 102 with best_epoch = 91 and best_val_0_rmse = 2.82259\n"
          ]
        },
        {
          "name": "stderr",
          "output_type": "stream",
          "text": [
            "[I 2024-05-10 20:38:48,275] Trial 7 finished with value: -0.31358361585218286 and parameters: {'mask_type': 'entmax', 'n_da': 56, 'n_steps': 5, 'gamma': 1.4, 'n_shared': 4, 'lambda_sparse': 7.183758655813986e-05, 'patienceScheduler': 3, 'patience': 55, 'epochs': 102}. Best is trial 6 with value: -0.5319076492931432.\n"
          ]
        },
        {
          "name": "stdout",
          "output_type": "stream",
          "text": [
            "\n",
            "Early stopping occurred at epoch 137 with best_epoch = 45 and best_val_0_rmse = 3.06907\n",
            "Stop training because you reached max_epochs = 262 with best_epoch = 222 and best_val_0_rmse = 2.69142\n",
            "\n",
            "Early stopping occurred at epoch 216 with best_epoch = 124 and best_val_0_rmse = 3.44597\n",
            "\n",
            "Early stopping occurred at epoch 217 with best_epoch = 125 and best_val_0_rmse = 2.5422\n"
          ]
        },
        {
          "name": "stderr",
          "output_type": "stream",
          "text": [
            "[I 2024-05-10 20:40:16,408] Trial 8 finished with value: -0.2546157733674651 and parameters: {'mask_type': 'entmax', 'n_da': 56, 'n_steps': 1, 'gamma': 1.2, 'n_shared': 2, 'lambda_sparse': 4.446628955475447e-05, 'patienceScheduler': 11, 'patience': 92, 'epochs': 262}. Best is trial 6 with value: -0.5319076492931432.\n"
          ]
        },
        {
          "name": "stdout",
          "output_type": "stream",
          "text": [
            "Stop training because you reached max_epochs = 262 with best_epoch = 187 and best_val_0_rmse = 2.80569\n",
            "\n",
            "Early stopping occurred at epoch 79 with best_epoch = 48 and best_val_0_rmse = 2.9138\n",
            "Stop training because you reached max_epochs = 98 with best_epoch = 87 and best_val_0_rmse = 2.69986\n",
            "Stop training because you reached max_epochs = 98 with best_epoch = 85 and best_val_0_rmse = 2.78533\n",
            "Stop training because you reached max_epochs = 98 with best_epoch = 86 and best_val_0_rmse = 2.88543\n"
          ]
        },
        {
          "name": "stderr",
          "output_type": "stream",
          "text": [
            "[I 2024-05-10 20:41:42,345] Trial 9 finished with value: -0.26408743693234005 and parameters: {'mask_type': 'sparsemax', 'n_da': 64, 'n_steps': 3, 'gamma': 1.5, 'n_shared': 3, 'lambda_sparse': 4.1083188946999205e-06, 'patienceScheduler': 8, 'patience': 31, 'epochs': 98}. Best is trial 6 with value: -0.5319076492931432.\n"
          ]
        },
        {
          "name": "stdout",
          "output_type": "stream",
          "text": [
            "Stop training because you reached max_epochs = 98 with best_epoch = 68 and best_val_0_rmse = 3.19257\n",
            "\n",
            "Early stopping occurred at epoch 361 with best_epoch = 315 and best_val_0_rmse = 2.71751\n",
            "\n",
            "Early stopping occurred at epoch 289 with best_epoch = 243 and best_val_0_rmse = 2.31137\n",
            "\n",
            "Early stopping occurred at epoch 321 with best_epoch = 275 and best_val_0_rmse = 2.64678\n",
            "\n",
            "Early stopping occurred at epoch 200 with best_epoch = 154 and best_val_0_rmse = 2.60474\n"
          ]
        },
        {
          "name": "stderr",
          "output_type": "stream",
          "text": [
            "[I 2024-05-10 20:43:47,166] Trial 10 finished with value: -0.39513440255338234 and parameters: {'mask_type': 'entmax', 'n_da': 60, 'n_steps': 1, 'gamma': 1.0, 'n_shared': 2, 'lambda_sparse': 5.066634090043071e-06, 'patienceScheduler': 15, 'patience': 46, 'epochs': 487}. Best is trial 6 with value: -0.5319076492931432.\n"
          ]
        },
        {
          "name": "stdout",
          "output_type": "stream",
          "text": [
            "\n",
            "Early stopping occurred at epoch 344 with best_epoch = 298 and best_val_0_rmse = 2.84971\n",
            "\n",
            "Early stopping occurred at epoch 212 with best_epoch = 122 and best_val_0_rmse = 2.61839\n",
            "\n",
            "Early stopping occurred at epoch 259 with best_epoch = 169 and best_val_0_rmse = 2.51679\n",
            "\n",
            "Early stopping occurred at epoch 231 with best_epoch = 141 and best_val_0_rmse = 2.59206\n",
            "\n",
            "Early stopping occurred at epoch 148 with best_epoch = 58 and best_val_0_rmse = 2.61335\n",
            "\n",
            "Early stopping occurred at epoch 215 with best_epoch = 125 and best_val_0_rmse = 2.67376\n"
          ]
        },
        {
          "name": "stderr",
          "output_type": "stream",
          "text": [
            "[I 2024-05-10 20:47:40,841] Trial 11 finished with value: -0.40687682134647946 and parameters: {'mask_type': 'sparsemax', 'n_da': 60, 'n_steps': 4, 'gamma': 1.0, 'n_shared': 3, 'lambda_sparse': 6.189832776675722e-07, 'patienceScheduler': 12, 'patience': 90, 'epochs': 378}. Best is trial 6 with value: -0.5319076492931432.\n"
          ]
        },
        {
          "name": "stdout",
          "output_type": "stream",
          "text": [
            "\n",
            "Early stopping occurred at epoch 149 with best_epoch = 104 and best_val_0_rmse = 2.61313\n",
            "\n",
            "Early stopping occurred at epoch 172 with best_epoch = 127 and best_val_0_rmse = 2.50751\n",
            "\n",
            "Early stopping occurred at epoch 167 with best_epoch = 122 and best_val_0_rmse = 2.36406\n",
            "\n",
            "Early stopping occurred at epoch 141 with best_epoch = 96 and best_val_0_rmse = 2.56112\n",
            "\n",
            "Early stopping occurred at epoch 115 with best_epoch = 70 and best_val_0_rmse = 2.73752\n"
          ]
        },
        {
          "name": "stderr",
          "output_type": "stream",
          "text": [
            "[I 2024-05-10 20:50:45,635] Trial 12 finished with value: -0.4247265896428529 and parameters: {'mask_type': 'sparsemax', 'n_da': 60, 'n_steps': 4, 'gamma': 1.2, 'n_shared': 4, 'lambda_sparse': 8.157638824175087e-08, 'patienceScheduler': 7, 'patience': 45, 'epochs': 379}. Best is trial 6 with value: -0.5319076492931432.\n"
          ]
        },
        {
          "name": "stdout",
          "output_type": "stream",
          "text": [
            "/content/drive/MyDrive/MEM Colab Runs/models/grid_tabnet_moran_all_lasso_queen.model CV-R2 = 0.532\n"
          ]
        },
        {
          "name": "stderr",
          "output_type": "stream",
          "text": [
            "[I 2024-05-10 20:52:36,115] A new study created in memory with name: no-name-677724dd-ecc0-4045-a032-7310b44ed94d\n"
          ]
        },
        {
          "name": "stdout",
          "output_type": "stream",
          "text": [
            "MSE LASSO CV R2 score:  0.7952897584979441\n",
            "\n",
            "Early stopping occurred at epoch 82 with best_epoch = 10 and best_val_0_rmse = 3.45698\n",
            "\n",
            "Early stopping occurred at epoch 168 with best_epoch = 96 and best_val_0_rmse = 2.4974\n",
            "\n",
            "Early stopping occurred at epoch 179 with best_epoch = 107 and best_val_0_rmse = 2.5468\n",
            "\n",
            "Early stopping occurred at epoch 252 with best_epoch = 180 and best_val_0_rmse = 2.50869\n"
          ]
        },
        {
          "name": "stderr",
          "output_type": "stream",
          "text": [
            "[I 2024-05-10 20:54:30,953] Trial 0 finished with value: -0.2591187775355631 and parameters: {'mask_type': 'sparsemax', 'n_da': 64, 'n_steps': 3, 'gamma': 1.1, 'n_shared': 1, 'lambda_sparse': 1.951722464144948e-08, 'patienceScheduler': 14, 'patience': 72, 'epochs': 369}. Best is trial 0 with value: -0.2591187775355631.\n"
          ]
        },
        {
          "name": "stdout",
          "output_type": "stream",
          "text": [
            "\n",
            "Early stopping occurred at epoch 174 with best_epoch = 102 and best_val_0_rmse = 3.31979\n",
            "\n",
            "Early stopping occurred at epoch 130 with best_epoch = 70 and best_val_0_rmse = 2.62514\n",
            "\n",
            "Early stopping occurred at epoch 152 with best_epoch = 92 and best_val_0_rmse = 2.58474\n",
            "Stop training because you reached max_epochs = 181 with best_epoch = 169 and best_val_0_rmse = 2.75659\n",
            "\n",
            "Early stopping occurred at epoch 106 with best_epoch = 46 and best_val_0_rmse = 3.05586\n"
          ]
        },
        {
          "name": "stderr",
          "output_type": "stream",
          "text": [
            "[I 2024-05-10 20:55:49,625] Trial 1 finished with value: -0.3493492100674545 and parameters: {'mask_type': 'sparsemax', 'n_da': 64, 'n_steps': 2, 'gamma': 1.1, 'n_shared': 1, 'lambda_sparse': 3.3205591037519537e-07, 'patienceScheduler': 9, 'patience': 60, 'epochs': 181}. Best is trial 1 with value: -0.3493492100674545.\n"
          ]
        },
        {
          "name": "stdout",
          "output_type": "stream",
          "text": [
            "Stop training because you reached max_epochs = 181 with best_epoch = 136 and best_val_0_rmse = 2.60033\n",
            "Stop training because you reached max_epochs = 70 with best_epoch = 65 and best_val_0_rmse = 2.97483\n",
            "Stop training because you reached max_epochs = 70 with best_epoch = 59 and best_val_0_rmse = 2.76538\n",
            "Stop training because you reached max_epochs = 70 with best_epoch = 60 and best_val_0_rmse = 2.57464\n",
            "Stop training because you reached max_epochs = 70 with best_epoch = 56 and best_val_0_rmse = 3.01914\n"
          ]
        },
        {
          "name": "stderr",
          "output_type": "stream",
          "text": [
            "[I 2024-05-10 20:56:40,805] Trial 2 finished with value: -0.30126663681049537 and parameters: {'mask_type': 'entmax', 'n_da': 56, 'n_steps': 2, 'gamma': 1.3, 'n_shared': 4, 'lambda_sparse': 9.9625132220551e-08, 'patienceScheduler': 9, 'patience': 72, 'epochs': 70}. Best is trial 1 with value: -0.3493492100674545.\n"
          ]
        },
        {
          "name": "stdout",
          "output_type": "stream",
          "text": [
            "Stop training because you reached max_epochs = 70 with best_epoch = 69 and best_val_0_rmse = 2.73202\n",
            "\n",
            "Early stopping occurred at epoch 241 with best_epoch = 163 and best_val_0_rmse = 2.79811\n",
            "\n",
            "Early stopping occurred at epoch 240 with best_epoch = 162 and best_val_0_rmse = 2.60387\n",
            "Stop training because you reached max_epochs = 248 with best_epoch = 198 and best_val_0_rmse = 3.59839\n",
            "\n",
            "Early stopping occurred at epoch 150 with best_epoch = 72 and best_val_0_rmse = 2.76434\n",
            "\n",
            "Early stopping occurred at epoch 152 with best_epoch = 74 and best_val_0_rmse = 3.23374\n"
          ]
        },
        {
          "name": "stderr",
          "output_type": "stream",
          "text": [
            "[I 2024-05-10 21:01:55,512] Trial 3 finished with value: -0.21209985625432676 and parameters: {'mask_type': 'entmax', 'n_da': 56, 'n_steps': 5, 'gamma': 1.6, 'n_shared': 5, 'lambda_sparse': 3.3347927286375814e-07, 'patienceScheduler': 4, 'patience': 78, 'epochs': 248}. Best is trial 1 with value: -0.3493492100674545.\n"
          ]
        },
        {
          "name": "stdout",
          "output_type": "stream",
          "text": [
            "Stop training because you reached max_epochs = 133 with best_epoch = 128 and best_val_0_rmse = 2.59438\n",
            "Stop training because you reached max_epochs = 133 with best_epoch = 126 and best_val_0_rmse = 2.29495\n",
            "Stop training because you reached max_epochs = 133 with best_epoch = 120 and best_val_0_rmse = 2.56113\n",
            "Stop training because you reached max_epochs = 133 with best_epoch = 127 and best_val_0_rmse = 2.62971\n",
            "Stop training because you reached max_epochs = 133 with best_epoch = 131 and best_val_0_rmse = 2.44591\n"
          ]
        },
        {
          "name": "stderr",
          "output_type": "stream",
          "text": [
            "[I 2024-05-10 21:04:57,747] Trial 4 finished with value: -0.4501659887696903 and parameters: {'mask_type': 'sparsemax', 'n_da': 56, 'n_steps': 5, 'gamma': 1.1, 'n_shared': 4, 'lambda_sparse': 3.618723330959616e-07, 'patienceScheduler': 9, 'patience': 68, 'epochs': 133}. Best is trial 4 with value: -0.4501659887696903.\n"
          ]
        },
        {
          "name": "stdout",
          "output_type": "stream",
          "text": [
            "\n",
            "Early stopping occurred at epoch 93 with best_epoch = 60 and best_val_0_rmse = 2.64535\n",
            "\n",
            "Early stopping occurred at epoch 155 with best_epoch = 122 and best_val_0_rmse = 2.44255\n",
            "\n",
            "Early stopping occurred at epoch 92 with best_epoch = 59 and best_val_0_rmse = 2.55717\n",
            "\n",
            "Early stopping occurred at epoch 139 with best_epoch = 106 and best_val_0_rmse = 2.86235\n",
            "Stop training because you reached max_epochs = 196 with best_epoch = 169 and best_val_0_rmse = 2.37155\n"
          ]
        },
        {
          "name": "stderr",
          "output_type": "stream",
          "text": [
            "[I 2024-05-10 21:08:47,045] Trial 5 finished with value: -0.41645663567581365 and parameters: {'mask_type': 'entmax', 'n_da': 64, 'n_steps': 5, 'gamma': 1.4, 'n_shared': 5, 'lambda_sparse': 2.7698899227562766e-08, 'patienceScheduler': 5, 'patience': 33, 'epochs': 196}. Best is trial 4 with value: -0.4501659887696903.\n"
          ]
        },
        {
          "name": "stdout",
          "output_type": "stream",
          "text": [
            "\n",
            "Early stopping occurred at epoch 71 with best_epoch = 36 and best_val_0_rmse = 2.94675\n",
            "\n",
            "Early stopping occurred at epoch 77 with best_epoch = 42 and best_val_0_rmse = 2.85507\n",
            "\n",
            "Early stopping occurred at epoch 135 with best_epoch = 100 and best_val_0_rmse = 2.47409\n",
            "\n",
            "Early stopping occurred at epoch 116 with best_epoch = 81 and best_val_0_rmse = 2.62065\n"
          ]
        },
        {
          "name": "stderr",
          "output_type": "stream",
          "text": [
            "[I 2024-05-10 21:10:04,412] Trial 6 finished with value: -0.3637914420237073 and parameters: {'mask_type': 'entmax', 'n_da': 64, 'n_steps': 2, 'gamma': 1.1, 'n_shared': 3, 'lambda_sparse': 5.0654860639753365e-08, 'patienceScheduler': 13, 'patience': 35, 'epochs': 495}. Best is trial 4 with value: -0.4501659887696903.\n"
          ]
        },
        {
          "name": "stdout",
          "output_type": "stream",
          "text": [
            "\n",
            "Early stopping occurred at epoch 145 with best_epoch = 110 and best_val_0_rmse = 2.48308\n",
            "Stop training because you reached max_epochs = 102 with best_epoch = 57 and best_val_0_rmse = 2.69572\n",
            "Stop training because you reached max_epochs = 102 with best_epoch = 81 and best_val_0_rmse = 2.92083\n",
            "Stop training because you reached max_epochs = 102 with best_epoch = 97 and best_val_0_rmse = 3.70529\n",
            "\n",
            "Early stopping occurred at epoch 62 with best_epoch = 7 and best_val_0_rmse = 3.52876\n",
            "Stop training because you reached max_epochs = 102 with best_epoch = 88 and best_val_0_rmse = 2.73005\n"
          ]
        },
        {
          "name": "stderr",
          "output_type": "stream",
          "text": [
            "[I 2024-05-10 21:12:20,705] Trial 7 finished with value: -0.14617586178310393 and parameters: {'mask_type': 'entmax', 'n_da': 56, 'n_steps': 5, 'gamma': 1.4, 'n_shared': 4, 'lambda_sparse': 7.183758655813986e-05, 'patienceScheduler': 3, 'patience': 55, 'epochs': 102}. Best is trial 4 with value: -0.4501659887696903.\n"
          ]
        },
        {
          "name": "stdout",
          "output_type": "stream",
          "text": [
            "Stop training because you reached max_epochs = 262 with best_epoch = 201 and best_val_0_rmse = 2.74798\n",
            "Stop training because you reached max_epochs = 262 with best_epoch = 214 and best_val_0_rmse = 2.65049\n",
            "\n",
            "Early stopping occurred at epoch 231 with best_epoch = 139 and best_val_0_rmse = 2.63818\n",
            "Stop training because you reached max_epochs = 262 with best_epoch = 249 and best_val_0_rmse = 2.304\n"
          ]
        },
        {
          "name": "stderr",
          "output_type": "stream",
          "text": [
            "[I 2024-05-10 21:14:02,925] Trial 8 finished with value: -0.4254012234362792 and parameters: {'mask_type': 'entmax', 'n_da': 56, 'n_steps': 1, 'gamma': 1.2, 'n_shared': 2, 'lambda_sparse': 4.446628955475447e-05, 'patienceScheduler': 11, 'patience': 92, 'epochs': 262}. Best is trial 4 with value: -0.4501659887696903.\n"
          ]
        },
        {
          "name": "stdout",
          "output_type": "stream",
          "text": [
            "Stop training because you reached max_epochs = 262 with best_epoch = 202 and best_val_0_rmse = 2.41855\n",
            "Stop training because you reached max_epochs = 98 with best_epoch = 92 and best_val_0_rmse = 3.11929\n",
            "\n",
            "Early stopping occurred at epoch 44 with best_epoch = 13 and best_val_0_rmse = 3.42206\n",
            "Stop training because you reached max_epochs = 98 with best_epoch = 94 and best_val_0_rmse = 2.74205\n",
            "\n",
            "Early stopping occurred at epoch 39 with best_epoch = 8 and best_val_0_rmse = 3.50364\n"
          ]
        },
        {
          "name": "stderr",
          "output_type": "stream",
          "text": [
            "[I 2024-05-10 21:15:09,972] Trial 9 finished with value: -0.14688462773279137 and parameters: {'mask_type': 'sparsemax', 'n_da': 64, 'n_steps': 3, 'gamma': 1.5, 'n_shared': 3, 'lambda_sparse': 4.1083188946999205e-06, 'patienceScheduler': 8, 'patience': 31, 'epochs': 98}. Best is trial 4 with value: -0.4501659887696903.\n"
          ]
        },
        {
          "name": "stdout",
          "output_type": "stream",
          "text": [
            "\n",
            "Early stopping occurred at epoch 95 with best_epoch = 64 and best_val_0_rmse = 2.65926\n",
            "\n",
            "Early stopping occurred at epoch 341 with best_epoch = 245 and best_val_0_rmse = 2.55962\n",
            "\n",
            "Early stopping occurred at epoch 232 with best_epoch = 136 and best_val_0_rmse = 2.38376\n",
            "\n",
            "Early stopping occurred at epoch 170 with best_epoch = 74 and best_val_0_rmse = 2.60972\n",
            "\n",
            "Early stopping occurred at epoch 193 with best_epoch = 97 and best_val_0_rmse = 2.32129\n",
            "\n",
            "Early stopping occurred at epoch 170 with best_epoch = 74 and best_val_0_rmse = 2.55421\n"
          ]
        },
        {
          "name": "stderr",
          "output_type": "stream",
          "text": [
            "[I 2024-05-10 21:19:36,355] Trial 10 finished with value: -0.4588879789452143 and parameters: {'mask_type': 'sparsemax', 'n_da': 60, 'n_steps': 4, 'gamma': 1.0, 'n_shared': 4, 'lambda_sparse': 4.294688847755917e-06, 'patienceScheduler': 6, 'patience': 96, 'epochs': 385}. Best is trial 10 with value: -0.4588879789452143.\n"
          ]
        },
        {
          "name": "stdout",
          "output_type": "stream",
          "text": [
            "\n",
            "Early stopping occurred at epoch 213 with best_epoch = 113 and best_val_0_rmse = 2.73026\n",
            "Stop training because you reached max_epochs = 379 with best_epoch = 291 and best_val_0_rmse = 2.19806\n",
            "\n",
            "Early stopping occurred at epoch 195 with best_epoch = 95 and best_val_0_rmse = 2.51478\n",
            "\n",
            "Early stopping occurred at epoch 198 with best_epoch = 98 and best_val_0_rmse = 2.47623\n",
            "\n",
            "Early stopping occurred at epoch 160 with best_epoch = 60 and best_val_0_rmse = 2.71209\n"
          ]
        },
        {
          "name": "stderr",
          "output_type": "stream",
          "text": [
            "[I 2024-05-10 21:24:09,086] Trial 11 finished with value: -0.4383714058540179 and parameters: {'mask_type': 'sparsemax', 'n_da': 60, 'n_steps': 4, 'gamma': 1.0, 'n_shared': 4, 'lambda_sparse': 2.5673297199270067e-06, 'patienceScheduler': 6, 'patience': 100, 'epochs': 379}. Best is trial 10 with value: -0.4588879789452143.\n"
          ]
        },
        {
          "name": "stdout",
          "output_type": "stream",
          "text": [
            "/content/drive/MyDrive/MEM Colab Runs/models/grid_tabnet_moran_mse_lasso_queen.model CV-R2 = 0.459\n"
          ]
        },
        {
          "name": "stderr",
          "output_type": "stream",
          "text": [
            "[I 2024-05-10 21:26:35,030] A new study created in memory with name: no-name-e19e51e7-bbbf-4f24-a75c-4ec1345b374d\n"
          ]
        },
        {
          "name": "stdout",
          "output_type": "stream",
          "text": [
            "BIC LASSO CV R2 score:  0.7724836600621674\n",
            "\n",
            "Early stopping occurred at epoch 212 with best_epoch = 140 and best_val_0_rmse = 1.78472\n",
            "\n",
            "Early stopping occurred at epoch 198 with best_epoch = 126 and best_val_0_rmse = 1.84621\n",
            "\n",
            "Early stopping occurred at epoch 351 with best_epoch = 279 and best_val_0_rmse = 1.56982\n",
            "\n",
            "Early stopping occurred at epoch 250 with best_epoch = 178 and best_val_0_rmse = 1.9534\n"
          ]
        },
        {
          "name": "stderr",
          "output_type": "stream",
          "text": [
            "[I 2024-05-10 21:28:58,673] Trial 0 finished with value: -0.7095133995062868 and parameters: {'mask_type': 'sparsemax', 'n_da': 64, 'n_steps': 3, 'gamma': 1.1, 'n_shared': 1, 'lambda_sparse': 1.951722464144948e-08, 'patienceScheduler': 14, 'patience': 72, 'epochs': 369}. Best is trial 0 with value: -0.7095133995062868.\n"
          ]
        },
        {
          "name": "stdout",
          "output_type": "stream",
          "text": [
            "\n",
            "Early stopping occurred at epoch 239 with best_epoch = 167 and best_val_0_rmse = 1.90769\n",
            "Stop training because you reached max_epochs = 181 with best_epoch = 126 and best_val_0_rmse = 1.98022\n",
            "Stop training because you reached max_epochs = 181 with best_epoch = 179 and best_val_0_rmse = 1.9263\n",
            "Stop training because you reached max_epochs = 181 with best_epoch = 165 and best_val_0_rmse = 1.82224\n",
            "\n",
            "Early stopping occurred at epoch 137 with best_epoch = 77 and best_val_0_rmse = 1.90468\n"
          ]
        },
        {
          "name": "stderr",
          "output_type": "stream",
          "text": [
            "[I 2024-05-10 21:30:16,759] Trial 1 finished with value: -0.6747726100597056 and parameters: {'mask_type': 'sparsemax', 'n_da': 64, 'n_steps': 2, 'gamma': 1.1, 'n_shared': 1, 'lambda_sparse': 3.3205591037519537e-07, 'patienceScheduler': 9, 'patience': 60, 'epochs': 181}. Best is trial 0 with value: -0.7095133995062868.\n"
          ]
        },
        {
          "name": "stdout",
          "output_type": "stream",
          "text": [
            "Stop training because you reached max_epochs = 181 with best_epoch = 160 and best_val_0_rmse = 1.98288\n",
            "Stop training because you reached max_epochs = 70 with best_epoch = 69 and best_val_0_rmse = 1.7597\n",
            "Stop training because you reached max_epochs = 70 with best_epoch = 69 and best_val_0_rmse = 1.89721\n",
            "Stop training because you reached max_epochs = 70 with best_epoch = 62 and best_val_0_rmse = 2.35389\n",
            "Stop training because you reached max_epochs = 70 with best_epoch = 64 and best_val_0_rmse = 1.9168\n"
          ]
        },
        {
          "name": "stderr",
          "output_type": "stream",
          "text": [
            "[I 2024-05-10 21:31:03,010] Trial 2 finished with value: -0.6635925851445089 and parameters: {'mask_type': 'entmax', 'n_da': 56, 'n_steps': 2, 'gamma': 1.3, 'n_shared': 4, 'lambda_sparse': 9.9625132220551e-08, 'patienceScheduler': 9, 'patience': 72, 'epochs': 70}. Best is trial 0 with value: -0.7095133995062868.\n"
          ]
        },
        {
          "name": "stdout",
          "output_type": "stream",
          "text": [
            "Stop training because you reached max_epochs = 70 with best_epoch = 65 and best_val_0_rmse = 1.88122\n",
            "Stop training because you reached max_epochs = 248 with best_epoch = 242 and best_val_0_rmse = 2.39787\n",
            "\n",
            "Early stopping occurred at epoch 232 with best_epoch = 154 and best_val_0_rmse = 2.64129\n",
            "Stop training because you reached max_epochs = 248 with best_epoch = 226 and best_val_0_rmse = 2.70194\n",
            "\n",
            "Early stopping occurred at epoch 214 with best_epoch = 136 and best_val_0_rmse = 2.3641\n",
            "\n",
            "Early stopping occurred at epoch 189 with best_epoch = 111 and best_val_0_rmse = 2.46012\n"
          ]
        },
        {
          "name": "stderr",
          "output_type": "stream",
          "text": [
            "[I 2024-05-10 21:36:11,561] Trial 3 finished with value: -0.4467517153858126 and parameters: {'mask_type': 'entmax', 'n_da': 56, 'n_steps': 5, 'gamma': 1.6, 'n_shared': 5, 'lambda_sparse': 3.3347927286375814e-07, 'patienceScheduler': 4, 'patience': 78, 'epochs': 248}. Best is trial 0 with value: -0.7095133995062868.\n"
          ]
        },
        {
          "name": "stdout",
          "output_type": "stream",
          "text": [
            "Stop training because you reached max_epochs = 133 with best_epoch = 83 and best_val_0_rmse = 2.34653\n",
            "Stop training because you reached max_epochs = 133 with best_epoch = 87 and best_val_0_rmse = 2.28159\n",
            "Stop training because you reached max_epochs = 133 with best_epoch = 109 and best_val_0_rmse = 2.19452\n",
            "Stop training because you reached max_epochs = 133 with best_epoch = 120 and best_val_0_rmse = 2.22048\n"
          ]
        },
        {
          "name": "stderr",
          "output_type": "stream",
          "text": [
            "[I 2024-05-10 21:38:53,258] Trial 4 finished with value: -0.5539680147486203 and parameters: {'mask_type': 'sparsemax', 'n_da': 56, 'n_steps': 5, 'gamma': 1.1, 'n_shared': 4, 'lambda_sparse': 3.618723330959616e-07, 'patienceScheduler': 9, 'patience': 68, 'epochs': 133}. Best is trial 0 with value: -0.7095133995062868.\n"
          ]
        },
        {
          "name": "stdout",
          "output_type": "stream",
          "text": [
            "Stop training because you reached max_epochs = 133 with best_epoch = 91 and best_val_0_rmse = 2.2197\n",
            "\n",
            "Early stopping occurred at epoch 87 with best_epoch = 54 and best_val_0_rmse = 2.48157\n",
            "\n",
            "Early stopping occurred at epoch 165 with best_epoch = 132 and best_val_0_rmse = 2.1121\n",
            "Stop training because you reached max_epochs = 196 with best_epoch = 186 and best_val_0_rmse = 2.17462\n",
            "\n",
            "Early stopping occurred at epoch 130 with best_epoch = 97 and best_val_0_rmse = 2.34245\n",
            "\n",
            "Early stopping occurred at epoch 125 with best_epoch = 92 and best_val_0_rmse = 2.37824\n"
          ]
        },
        {
          "name": "stderr",
          "output_type": "stream",
          "text": [
            "[I 2024-05-10 21:42:25,131] Trial 5 finished with value: -0.5349139840738488 and parameters: {'mask_type': 'entmax', 'n_da': 64, 'n_steps': 5, 'gamma': 1.4, 'n_shared': 5, 'lambda_sparse': 2.7698899227562766e-08, 'patienceScheduler': 5, 'patience': 33, 'epochs': 196}. Best is trial 0 with value: -0.7095133995062868.\n"
          ]
        },
        {
          "name": "stdout",
          "output_type": "stream",
          "text": [
            "\n",
            "Early stopping occurred at epoch 175 with best_epoch = 140 and best_val_0_rmse = 1.30129\n",
            "\n",
            "Early stopping occurred at epoch 234 with best_epoch = 199 and best_val_0_rmse = 1.39393\n",
            "\n",
            "Early stopping occurred at epoch 224 with best_epoch = 189 and best_val_0_rmse = 1.24394\n",
            "\n",
            "Early stopping occurred at epoch 226 with best_epoch = 191 and best_val_0_rmse = 1.4157\n"
          ]
        },
        {
          "name": "stderr",
          "output_type": "stream",
          "text": [
            "[I 2024-05-10 21:44:31,372] Trial 6 finished with value: -0.8411938570376222 and parameters: {'mask_type': 'entmax', 'n_da': 64, 'n_steps': 2, 'gamma': 1.1, 'n_shared': 3, 'lambda_sparse': 5.0654860639753365e-08, 'patienceScheduler': 13, 'patience': 35, 'epochs': 495}. Best is trial 6 with value: -0.8411938570376222.\n"
          ]
        },
        {
          "name": "stdout",
          "output_type": "stream",
          "text": [
            "\n",
            "Early stopping occurred at epoch 154 with best_epoch = 119 and best_val_0_rmse = 1.36174\n",
            "Stop training because you reached max_epochs = 102 with best_epoch = 64 and best_val_0_rmse = 2.59566\n",
            "Stop training because you reached max_epochs = 102 with best_epoch = 92 and best_val_0_rmse = 2.4731\n",
            "Stop training because you reached max_epochs = 102 with best_epoch = 68 and best_val_0_rmse = 2.53661\n",
            "Stop training because you reached max_epochs = 102 with best_epoch = 95 and best_val_0_rmse = 2.63234\n",
            "Stop training because you reached max_epochs = 102 with best_epoch = 101 and best_val_0_rmse = 2.50985\n"
          ]
        },
        {
          "name": "stderr",
          "output_type": "stream",
          "text": [
            "[I 2024-05-10 21:46:36,974] Trial 7 finished with value: -0.4304449265116309 and parameters: {'mask_type': 'entmax', 'n_da': 56, 'n_steps': 5, 'gamma': 1.4, 'n_shared': 4, 'lambda_sparse': 7.183758655813986e-05, 'patienceScheduler': 3, 'patience': 55, 'epochs': 102}. Best is trial 6 with value: -0.8411938570376222.\n"
          ]
        },
        {
          "name": "stdout",
          "output_type": "stream",
          "text": [
            "Stop training because you reached max_epochs = 262 with best_epoch = 227 and best_val_0_rmse = 1.68113\n",
            "Stop training because you reached max_epochs = 262 with best_epoch = 200 and best_val_0_rmse = 1.65621\n",
            "Stop training because you reached max_epochs = 262 with best_epoch = 174 and best_val_0_rmse = 1.51638\n",
            "Stop training because you reached max_epochs = 262 with best_epoch = 260 and best_val_0_rmse = 1.70098\n"
          ]
        },
        {
          "name": "stderr",
          "output_type": "stream",
          "text": [
            "[I 2024-05-10 21:48:12,517] Trial 8 finished with value: -0.7647547302512571 and parameters: {'mask_type': 'entmax', 'n_da': 56, 'n_steps': 1, 'gamma': 1.2, 'n_shared': 2, 'lambda_sparse': 4.446628955475447e-05, 'patienceScheduler': 11, 'patience': 92, 'epochs': 262}. Best is trial 6 with value: -0.8411938570376222.\n"
          ]
        },
        {
          "name": "stdout",
          "output_type": "stream",
          "text": [
            "Stop training because you reached max_epochs = 262 with best_epoch = 182 and best_val_0_rmse = 1.61645\n",
            "Stop training because you reached max_epochs = 98 with best_epoch = 97 and best_val_0_rmse = 2.35029\n",
            "Stop training because you reached max_epochs = 98 with best_epoch = 96 and best_val_0_rmse = 2.34452\n",
            "Stop training because you reached max_epochs = 98 with best_epoch = 91 and best_val_0_rmse = 2.03357\n",
            "Stop training because you reached max_epochs = 98 with best_epoch = 97 and best_val_0_rmse = 2.46117\n"
          ]
        },
        {
          "name": "stderr",
          "output_type": "stream",
          "text": [
            "[I 2024-05-10 21:49:30,443] Trial 9 finished with value: -0.5523365012650396 and parameters: {'mask_type': 'sparsemax', 'n_da': 64, 'n_steps': 3, 'gamma': 1.5, 'n_shared': 3, 'lambda_sparse': 4.1083188946999205e-06, 'patienceScheduler': 8, 'patience': 31, 'epochs': 98}. Best is trial 6 with value: -0.8411938570376222.\n"
          ]
        },
        {
          "name": "stdout",
          "output_type": "stream",
          "text": [
            "Stop training because you reached max_epochs = 98 with best_epoch = 91 and best_val_0_rmse = 2.04246\n",
            "\n",
            "Early stopping occurred at epoch 213 with best_epoch = 167 and best_val_0_rmse = 1.42782\n",
            "\n",
            "Early stopping occurred at epoch 235 with best_epoch = 189 and best_val_0_rmse = 1.44278\n",
            "\n",
            "Early stopping occurred at epoch 173 with best_epoch = 127 and best_val_0_rmse = 1.555\n",
            "\n",
            "Early stopping occurred at epoch 213 with best_epoch = 167 and best_val_0_rmse = 1.45533\n"
          ]
        },
        {
          "name": "stderr",
          "output_type": "stream",
          "text": [
            "[I 2024-05-10 21:50:49,062] Trial 10 finished with value: -0.8072588802271914 and parameters: {'mask_type': 'entmax', 'n_da': 60, 'n_steps': 1, 'gamma': 1.0, 'n_shared': 2, 'lambda_sparse': 5.066634090043071e-06, 'patienceScheduler': 15, 'patience': 46, 'epochs': 487}. Best is trial 6 with value: -0.8411938570376222.\n"
          ]
        },
        {
          "name": "stdout",
          "output_type": "stream",
          "text": [
            "\n",
            "Early stopping occurred at epoch 212 with best_epoch = 166 and best_val_0_rmse = 1.54731\n",
            "\n",
            "Early stopping occurred at epoch 253 with best_epoch = 211 and best_val_0_rmse = 1.42148\n",
            "\n",
            "Early stopping occurred at epoch 170 with best_epoch = 128 and best_val_0_rmse = 1.38658\n",
            "\n",
            "Early stopping occurred at epoch 246 with best_epoch = 204 and best_val_0_rmse = 1.60313\n",
            "\n",
            "Early stopping occurred at epoch 261 with best_epoch = 219 and best_val_0_rmse = 1.58289\n"
          ]
        },
        {
          "name": "stderr",
          "output_type": "stream",
          "text": [
            "[I 2024-05-10 21:52:10,724] Trial 11 finished with value: -0.7971579642551251 and parameters: {'mask_type': 'entmax', 'n_da': 60, 'n_steps': 1, 'gamma': 1.0, 'n_shared': 2, 'lambda_sparse': 8.316169400244462e-06, 'patienceScheduler': 15, 'patience': 42, 'epochs': 500}. Best is trial 6 with value: -0.8411938570376222.\n"
          ]
        },
        {
          "name": "stdout",
          "output_type": "stream",
          "text": [
            "\n",
            "Early stopping occurred at epoch 178 with best_epoch = 136 and best_val_0_rmse = 1.62783\n",
            "\n",
            "Early stopping occurred at epoch 257 with best_epoch = 209 and best_val_0_rmse = 1.52751\n",
            "\n",
            "Early stopping occurred at epoch 180 with best_epoch = 132 and best_val_0_rmse = 1.60914\n",
            "\n",
            "Early stopping occurred at epoch 277 with best_epoch = 229 and best_val_0_rmse = 1.49775\n",
            "\n",
            "Early stopping occurred at epoch 219 with best_epoch = 171 and best_val_0_rmse = 1.57954\n"
          ]
        },
        {
          "name": "stderr",
          "output_type": "stream",
          "text": [
            "[I 2024-05-10 21:54:06,021] Trial 12 finished with value: -0.7792346141253663 and parameters: {'mask_type': 'entmax', 'n_da': 60, 'n_steps': 2, 'gamma': 1.0, 'n_shared': 2, 'lambda_sparse': 0.00022861459327001146, 'patienceScheduler': 13, 'patience': 48, 'epochs': 499}. Best is trial 6 with value: -0.8411938570376222.\n"
          ]
        },
        {
          "name": "stdout",
          "output_type": "stream",
          "text": [
            "\n",
            "Early stopping occurred at epoch 165 with best_epoch = 117 and best_val_0_rmse = 1.71246\n",
            "\n",
            "Early stopping occurred at epoch 196 with best_epoch = 154 and best_val_0_rmse = 1.46884\n",
            "\n",
            "Early stopping occurred at epoch 186 with best_epoch = 144 and best_val_0_rmse = 1.46283\n",
            "\n",
            "Early stopping occurred at epoch 185 with best_epoch = 143 and best_val_0_rmse = 1.44273\n",
            "\n",
            "Early stopping occurred at epoch 180 with best_epoch = 138 and best_val_0_rmse = 1.47084\n"
          ]
        },
        {
          "name": "stderr",
          "output_type": "stream",
          "text": [
            "[I 2024-05-10 21:55:21,141] Trial 13 finished with value: -0.8149409295581131 and parameters: {'mask_type': 'entmax', 'n_da': 60, 'n_steps': 1, 'gamma': 1.2, 'n_shared': 3, 'lambda_sparse': 2.2208704089664917e-06, 'patienceScheduler': 12, 'patience': 42, 'epochs': 402}. Best is trial 6 with value: -0.8411938570376222.\n"
          ]
        },
        {
          "name": "stdout",
          "output_type": "stream",
          "text": [
            "\n",
            "Early stopping occurred at epoch 144 with best_epoch = 102 and best_val_0_rmse = 1.41834\n",
            "\n",
            "Early stopping occurred at epoch 236 with best_epoch = 198 and best_val_0_rmse = 1.18608\n",
            "\n",
            "Early stopping occurred at epoch 194 with best_epoch = 156 and best_val_0_rmse = 1.11313\n",
            "\n",
            "Early stopping occurred at epoch 167 with best_epoch = 129 and best_val_0_rmse = 1.46394\n",
            "\n",
            "Early stopping occurred at epoch 170 with best_epoch = 132 and best_val_0_rmse = 1.52099\n"
          ]
        },
        {
          "name": "stderr",
          "output_type": "stream",
          "text": [
            "[I 2024-05-10 21:57:12,328] Trial 14 finished with value: -0.8420765040706181 and parameters: {'mask_type': 'entmax', 'n_da': 60, 'n_steps': 2, 'gamma': 1.2, 'n_shared': 3, 'lambda_sparse': 1.6389421339508618e-06, 'patienceScheduler': 12, 'patience': 38, 'epochs': 384}. Best is trial 14 with value: -0.8420765040706181.\n"
          ]
        },
        {
          "name": "stdout",
          "output_type": "stream",
          "text": [
            "\n",
            "Early stopping occurred at epoch 155 with best_epoch = 117 and best_val_0_rmse = 1.42609\n"
          ]
        },
        {
          "name": "stderr",
          "output_type": "stream",
          "text": [
            "[I 2024-05-10 21:58:20,505] A new study created in memory with name: no-name-3ed3fe44-b7d7-4c73-8433-e70358993194\n"
          ]
        },
        {
          "name": "stdout",
          "output_type": "stream",
          "text": [
            "/content/drive/MyDrive/MEM Colab Runs/models/grid_tabnet_moran_bic_lasso_queen.model CV-R2 = 0.842\n",
            "Stop training because you reached max_epochs = 369 with best_epoch = 358 and best_val_0_rmse = 0.77328\n",
            "\n",
            "Early stopping occurred at epoch 309 with best_epoch = 237 and best_val_0_rmse = 0.7196\n",
            "Stop training because you reached max_epochs = 369 with best_epoch = 325 and best_val_0_rmse = 0.79927\n",
            "Stop training because you reached max_epochs = 369 with best_epoch = 347 and best_val_0_rmse = 0.77465\n"
          ]
        },
        {
          "name": "stderr",
          "output_type": "stream",
          "text": [
            "[I 2024-05-10 22:01:15,472] Trial 0 finished with value: -0.9477249292925418 and parameters: {'mask_type': 'sparsemax', 'n_da': 64, 'n_steps': 3, 'gamma': 1.1, 'n_shared': 1, 'lambda_sparse': 1.951722464144948e-08, 'patienceScheduler': 14, 'patience': 72, 'epochs': 369}. Best is trial 0 with value: -0.9477249292925418.\n"
          ]
        },
        {
          "name": "stdout",
          "output_type": "stream",
          "text": [
            "Stop training because you reached max_epochs = 369 with best_epoch = 360 and best_val_0_rmse = 0.80028\n",
            "Stop training because you reached max_epochs = 181 with best_epoch = 180 and best_val_0_rmse = 1.04726\n",
            "Stop training because you reached max_epochs = 181 with best_epoch = 165 and best_val_0_rmse = 0.87299\n",
            "Stop training because you reached max_epochs = 181 with best_epoch = 180 and best_val_0_rmse = 1.08027\n",
            "Stop training because you reached max_epochs = 181 with best_epoch = 180 and best_val_0_rmse = 0.94582\n"
          ]
        },
        {
          "name": "stderr",
          "output_type": "stream",
          "text": [
            "[I 2024-05-10 22:02:25,613] Trial 1 finished with value: -0.9149979064242191 and parameters: {'mask_type': 'sparsemax', 'n_da': 64, 'n_steps': 2, 'gamma': 1.1, 'n_shared': 1, 'lambda_sparse': 3.3205591037519537e-07, 'patienceScheduler': 9, 'patience': 60, 'epochs': 181}. Best is trial 0 with value: -0.9477249292925418.\n"
          ]
        },
        {
          "name": "stdout",
          "output_type": "stream",
          "text": [
            "Stop training because you reached max_epochs = 181 with best_epoch = 180 and best_val_0_rmse = 0.97751\n",
            "Stop training because you reached max_epochs = 70 with best_epoch = 69 and best_val_0_rmse = 0.936\n",
            "Stop training because you reached max_epochs = 70 with best_epoch = 68 and best_val_0_rmse = 0.99371\n",
            "Stop training because you reached max_epochs = 70 with best_epoch = 67 and best_val_0_rmse = 0.96085\n",
            "Stop training because you reached max_epochs = 70 with best_epoch = 65 and best_val_0_rmse = 0.91521\n"
          ]
        },
        {
          "name": "stderr",
          "output_type": "stream",
          "text": [
            "[I 2024-05-10 22:03:07,178] Trial 2 finished with value: -0.9212983954949623 and parameters: {'mask_type': 'entmax', 'n_da': 56, 'n_steps': 2, 'gamma': 1.3, 'n_shared': 4, 'lambda_sparse': 9.9625132220551e-08, 'patienceScheduler': 9, 'patience': 72, 'epochs': 70}. Best is trial 0 with value: -0.9477249292925418.\n"
          ]
        },
        {
          "name": "stdout",
          "output_type": "stream",
          "text": [
            "Stop training because you reached max_epochs = 70 with best_epoch = 65 and best_val_0_rmse = 0.92994\n",
            "Stop training because you reached max_epochs = 248 with best_epoch = 222 and best_val_0_rmse = 1.01947\n",
            "Stop training because you reached max_epochs = 248 with best_epoch = 202 and best_val_0_rmse = 1.01454\n",
            "Stop training because you reached max_epochs = 248 with best_epoch = 170 and best_val_0_rmse = 0.87693\n",
            "Stop training because you reached max_epochs = 248 with best_epoch = 174 and best_val_0_rmse = 0.93346\n"
          ]
        },
        {
          "name": "stderr",
          "output_type": "stream",
          "text": [
            "[I 2024-05-10 22:08:01,970] Trial 3 finished with value: -0.9163218519435196 and parameters: {'mask_type': 'entmax', 'n_da': 56, 'n_steps': 5, 'gamma': 1.6, 'n_shared': 5, 'lambda_sparse': 3.3347927286375814e-07, 'patienceScheduler': 4, 'patience': 78, 'epochs': 248}. Best is trial 0 with value: -0.9477249292925418.\n"
          ]
        },
        {
          "name": "stdout",
          "output_type": "stream",
          "text": [
            "\n",
            "Early stopping occurred at epoch 203 with best_epoch = 125 and best_val_0_rmse = 1.01836\n",
            "Stop training because you reached max_epochs = 133 with best_epoch = 122 and best_val_0_rmse = 0.92064\n",
            "Stop training because you reached max_epochs = 133 with best_epoch = 132 and best_val_0_rmse = 0.84971\n",
            "Stop training because you reached max_epochs = 133 with best_epoch = 132 and best_val_0_rmse = 0.99164\n",
            "Stop training because you reached max_epochs = 133 with best_epoch = 117 and best_val_0_rmse = 0.86499\n"
          ]
        },
        {
          "name": "stderr",
          "output_type": "stream",
          "text": [
            "[I 2024-05-10 22:10:27,033] Trial 4 finished with value: -0.9289430019211263 and parameters: {'mask_type': 'sparsemax', 'n_da': 56, 'n_steps': 5, 'gamma': 1.1, 'n_shared': 4, 'lambda_sparse': 3.618723330959616e-07, 'patienceScheduler': 9, 'patience': 68, 'epochs': 133}. Best is trial 0 with value: -0.9477249292925418.\n"
          ]
        },
        {
          "name": "stdout",
          "output_type": "stream",
          "text": [
            "Stop training because you reached max_epochs = 133 with best_epoch = 122 and best_val_0_rmse = 0.88021\n",
            "Stop training because you reached max_epochs = 196 with best_epoch = 193 and best_val_0_rmse = 0.87129\n",
            "\n",
            "Early stopping occurred at epoch 184 with best_epoch = 151 and best_val_0_rmse = 0.85325\n",
            "\n",
            "Early stopping occurred at epoch 131 with best_epoch = 98 and best_val_0_rmse = 0.94316\n",
            "Stop training because you reached max_epochs = 196 with best_epoch = 193 and best_val_0_rmse = 1.01782\n",
            "Stop training because you reached max_epochs = 196 with best_epoch = 170 and best_val_0_rmse = 0.95804\n"
          ]
        },
        {
          "name": "stderr",
          "output_type": "stream",
          "text": [
            "[I 2024-05-10 22:14:29,537] Trial 5 finished with value: -0.9245725581147841 and parameters: {'mask_type': 'entmax', 'n_da': 64, 'n_steps': 5, 'gamma': 1.4, 'n_shared': 5, 'lambda_sparse': 2.7698899227562766e-08, 'patienceScheduler': 5, 'patience': 33, 'epochs': 196}. Best is trial 0 with value: -0.9477249292925418.\n"
          ]
        },
        {
          "name": "stdout",
          "output_type": "stream",
          "text": [
            "\n",
            "Early stopping occurred at epoch 260 with best_epoch = 225 and best_val_0_rmse = 0.73652\n",
            "\n",
            "Early stopping occurred at epoch 221 with best_epoch = 186 and best_val_0_rmse = 0.72419\n",
            "\n",
            "Early stopping occurred at epoch 175 with best_epoch = 140 and best_val_0_rmse = 0.72271\n",
            "\n",
            "Early stopping occurred at epoch 354 with best_epoch = 319 and best_val_0_rmse = 0.68799\n"
          ]
        },
        {
          "name": "stderr",
          "output_type": "stream",
          "text": [
            "[I 2024-05-10 22:16:58,182] Trial 6 finished with value: -0.9555366471465223 and parameters: {'mask_type': 'entmax', 'n_da': 64, 'n_steps': 2, 'gamma': 1.1, 'n_shared': 3, 'lambda_sparse': 5.0654860639753365e-08, 'patienceScheduler': 13, 'patience': 35, 'epochs': 495}. Best is trial 6 with value: -0.9555366471465223.\n"
          ]
        },
        {
          "name": "stdout",
          "output_type": "stream",
          "text": [
            "\n",
            "Early stopping occurred at epoch 333 with best_epoch = 298 and best_val_0_rmse = 0.68691\n",
            "Stop training because you reached max_epochs = 102 with best_epoch = 94 and best_val_0_rmse = 1.07222\n",
            "Stop training because you reached max_epochs = 102 with best_epoch = 91 and best_val_0_rmse = 1.09175\n",
            "Stop training because you reached max_epochs = 102 with best_epoch = 100 and best_val_0_rmse = 0.95109\n",
            "Stop training because you reached max_epochs = 102 with best_epoch = 101 and best_val_0_rmse = 0.94997\n"
          ]
        },
        {
          "name": "stderr",
          "output_type": "stream",
          "text": [
            "[I 2024-05-10 22:18:51,241] Trial 7 finished with value: -0.9064541277782073 and parameters: {'mask_type': 'entmax', 'n_da': 56, 'n_steps': 5, 'gamma': 1.4, 'n_shared': 4, 'lambda_sparse': 7.183758655813986e-05, 'patienceScheduler': 3, 'patience': 55, 'epochs': 102}. Best is trial 6 with value: -0.9555366471465223.\n"
          ]
        },
        {
          "name": "stdout",
          "output_type": "stream",
          "text": [
            "Stop training because you reached max_epochs = 102 with best_epoch = 95 and best_val_0_rmse = 1.07644\n",
            "Stop training because you reached max_epochs = 262 with best_epoch = 261 and best_val_0_rmse = 0.78838\n",
            "Stop training because you reached max_epochs = 262 with best_epoch = 249 and best_val_0_rmse = 0.66776\n",
            "Stop training because you reached max_epochs = 262 with best_epoch = 259 and best_val_0_rmse = 0.72546\n",
            "Stop training because you reached max_epochs = 262 with best_epoch = 259 and best_val_0_rmse = 0.68589\n"
          ]
        },
        {
          "name": "stderr",
          "output_type": "stream",
          "text": [
            "[I 2024-05-10 22:20:14,650] Trial 8 finished with value: -0.9560632139464834 and parameters: {'mask_type': 'entmax', 'n_da': 56, 'n_steps': 1, 'gamma': 1.2, 'n_shared': 2, 'lambda_sparse': 4.446628955475447e-05, 'patienceScheduler': 11, 'patience': 92, 'epochs': 262}. Best is trial 8 with value: -0.9560632139464834.\n"
          ]
        },
        {
          "name": "stdout",
          "output_type": "stream",
          "text": [
            "Stop training because you reached max_epochs = 262 with best_epoch = 258 and best_val_0_rmse = 0.66245\n",
            "Stop training because you reached max_epochs = 98 with best_epoch = 86 and best_val_0_rmse = 1.11824\n",
            "Stop training because you reached max_epochs = 98 with best_epoch = 93 and best_val_0_rmse = 1.29716\n",
            "Stop training because you reached max_epochs = 98 with best_epoch = 97 and best_val_0_rmse = 1.09277\n",
            "Stop training because you reached max_epochs = 98 with best_epoch = 97 and best_val_0_rmse = 0.93886\n"
          ]
        },
        {
          "name": "stderr",
          "output_type": "stream",
          "text": [
            "[I 2024-05-10 22:21:25,061] Trial 9 finished with value: -0.8905918972439439 and parameters: {'mask_type': 'sparsemax', 'n_da': 64, 'n_steps': 3, 'gamma': 1.5, 'n_shared': 3, 'lambda_sparse': 4.1083188946999205e-06, 'patienceScheduler': 8, 'patience': 31, 'epochs': 98}. Best is trial 8 with value: -0.9560632139464834.\n"
          ]
        },
        {
          "name": "stdout",
          "output_type": "stream",
          "text": [
            "Stop training because you reached max_epochs = 98 with best_epoch = 97 and best_val_0_rmse = 1.09253\n",
            "\n",
            "Early stopping occurred at epoch 317 with best_epoch = 218 and best_val_0_rmse = 0.7682\n",
            "Stop training because you reached max_epochs = 358 with best_epoch = 338 and best_val_0_rmse = 0.66474\n",
            "\n",
            "Early stopping occurred at epoch 290 with best_epoch = 191 and best_val_0_rmse = 0.69223\n",
            "Stop training because you reached max_epochs = 358 with best_epoch = 325 and best_val_0_rmse = 0.67296\n"
          ]
        },
        {
          "name": "stderr",
          "output_type": "stream",
          "text": [
            "[I 2024-05-10 22:23:15,490] Trial 10 finished with value: -0.9578879285463804 and parameters: {'mask_type': 'entmax', 'n_da': 60, 'n_steps': 1, 'gamma': 1.3, 'n_shared': 2, 'lambda_sparse': 0.00034540130684562146, 'patienceScheduler': 12, 'patience': 99, 'epochs': 358}. Best is trial 10 with value: -0.9578879285463804.\n"
          ]
        },
        {
          "name": "stdout",
          "output_type": "stream",
          "text": [
            "Stop training because you reached max_epochs = 358 with best_epoch = 334 and best_val_0_rmse = 0.65733\n",
            "\n",
            "Early stopping occurred at epoch 318 with best_epoch = 218 and best_val_0_rmse = 0.76532\n",
            "Stop training because you reached max_epochs = 350 with best_epoch = 338 and best_val_0_rmse = 0.70472\n",
            "Stop training because you reached max_epochs = 350 with best_epoch = 275 and best_val_0_rmse = 0.68758\n",
            "Stop training because you reached max_epochs = 350 with best_epoch = 264 and best_val_0_rmse = 0.70847\n"
          ]
        },
        {
          "name": "stderr",
          "output_type": "stream",
          "text": [
            "[I 2024-05-10 22:25:09,724] Trial 11 finished with value: -0.9564155124899474 and parameters: {'mask_type': 'entmax', 'n_da': 60, 'n_steps': 1, 'gamma': 1.3, 'n_shared': 2, 'lambda_sparse': 0.0008964070657823873, 'patienceScheduler': 12, 'patience': 100, 'epochs': 350}. Best is trial 10 with value: -0.9578879285463804.\n"
          ]
        },
        {
          "name": "stdout",
          "output_type": "stream",
          "text": [
            "Stop training because you reached max_epochs = 350 with best_epoch = 337 and best_val_0_rmse = 0.64775\n",
            "\n",
            "Early stopping occurred at epoch 318 with best_epoch = 218 and best_val_0_rmse = 0.76487\n",
            "Stop training because you reached max_epochs = 374 with best_epoch = 367 and best_val_0_rmse = 0.66684\n",
            "\n",
            "Early stopping occurred at epoch 371 with best_epoch = 271 and best_val_0_rmse = 0.66753\n",
            "\n",
            "Early stopping occurred at epoch 371 with best_epoch = 271 and best_val_0_rmse = 0.68977\n"
          ]
        },
        {
          "name": "stderr",
          "output_type": "stream",
          "text": [
            "[I 2024-05-10 22:27:07,294] Trial 12 finished with value: -0.9580950383285927 and parameters: {'mask_type': 'entmax', 'n_da': 60, 'n_steps': 1, 'gamma': 1.3, 'n_shared': 2, 'lambda_sparse': 0.0006099621410320293, 'patienceScheduler': 12, 'patience': 100, 'epochs': 374}. Best is trial 12 with value: -0.9580950383285927.\n"
          ]
        },
        {
          "name": "stdout",
          "output_type": "stream",
          "text": [
            "Stop training because you reached max_epochs = 374 with best_epoch = 297 and best_val_0_rmse = 0.65592\n",
            "\n",
            "Early stopping occurred at epoch 369 with best_epoch = 282 and best_val_0_rmse = 0.74037\n",
            "Stop training because you reached max_epochs = 390 with best_epoch = 384 and best_val_0_rmse = 0.66252\n",
            "Stop training because you reached max_epochs = 390 with best_epoch = 379 and best_val_0_rmse = 0.66594\n",
            "Stop training because you reached max_epochs = 390 with best_epoch = 325 and best_val_0_rmse = 0.67805\n"
          ]
        },
        {
          "name": "stderr",
          "output_type": "stream",
          "text": [
            "[I 2024-05-10 22:29:13,107] Trial 13 finished with value: -0.9594175883550177 and parameters: {'mask_type': 'entmax', 'n_da': 60, 'n_steps': 1, 'gamma': 1.4, 'n_shared': 2, 'lambda_sparse': 0.0005684769945435202, 'patienceScheduler': 15, 'patience': 87, 'epochs': 390}. Best is trial 13 with value: -0.9594175883550177.\n"
          ]
        },
        {
          "name": "stdout",
          "output_type": "stream",
          "text": [
            "Stop training because you reached max_epochs = 390 with best_epoch = 334 and best_val_0_rmse = 0.64654\n"
          ]
        },
        {
          "name": "stderr",
          "output_type": "stream",
          "text": [
            "[I 2024-05-10 22:29:52,786] A new study created in memory with name: no-name-7d6a50be-eec6-4c34-9a1a-28cd10a1af23\n"
          ]
        },
        {
          "name": "stdout",
          "output_type": "stream",
          "text": [
            "/content/drive/MyDrive/MEM Colab Runs/models/grid_tabnet_moran_xy_lasso_exp.model CV-R2 = 0.959\n",
            "\n",
            "Early stopping occurred at epoch 208 with best_epoch = 136 and best_val_0_rmse = 2.28586\n",
            "\n",
            "Early stopping occurred at epoch 276 with best_epoch = 204 and best_val_0_rmse = 2.17791\n",
            "\n",
            "Early stopping occurred at epoch 197 with best_epoch = 125 and best_val_0_rmse = 2.46687\n",
            "\n",
            "Early stopping occurred at epoch 195 with best_epoch = 123 and best_val_0_rmse = 2.20649\n"
          ]
        },
        {
          "name": "stderr",
          "output_type": "stream",
          "text": [
            "[I 2024-05-10 22:32:24,815] Trial 0 finished with value: -0.48361088159776716 and parameters: {'mask_type': 'sparsemax', 'n_da': 64, 'n_steps': 3, 'gamma': 1.1, 'n_shared': 1, 'lambda_sparse': 1.951722464144948e-08, 'patienceScheduler': 14, 'patience': 72, 'epochs': 369}. Best is trial 0 with value: -0.48361088159776716.\n"
          ]
        },
        {
          "name": "stdout",
          "output_type": "stream",
          "text": [
            "\n",
            "Early stopping occurred at epoch 215 with best_epoch = 143 and best_val_0_rmse = 2.96038\n",
            "\n",
            "Early stopping occurred at epoch 86 with best_epoch = 26 and best_val_0_rmse = 3.34544\n",
            "Stop training because you reached max_epochs = 181 with best_epoch = 136 and best_val_0_rmse = 3.09101\n",
            "\n",
            "Early stopping occurred at epoch 158 with best_epoch = 98 and best_val_0_rmse = 2.72063\n",
            "\n",
            "Early stopping occurred at epoch 161 with best_epoch = 101 and best_val_0_rmse = 2.64762\n"
          ]
        },
        {
          "name": "stderr",
          "output_type": "stream",
          "text": [
            "[I 2024-05-10 22:33:46,400] Trial 1 finished with value: -0.21782535140639858 and parameters: {'mask_type': 'sparsemax', 'n_da': 64, 'n_steps': 2, 'gamma': 1.1, 'n_shared': 1, 'lambda_sparse': 3.3205591037519537e-07, 'patienceScheduler': 9, 'patience': 60, 'epochs': 181}. Best is trial 0 with value: -0.48361088159776716.\n"
          ]
        },
        {
          "name": "stdout",
          "output_type": "stream",
          "text": [
            "Stop training because you reached max_epochs = 181 with best_epoch = 130 and best_val_0_rmse = 3.01331\n",
            "Stop training because you reached max_epochs = 70 with best_epoch = 61 and best_val_0_rmse = 2.19215\n",
            "Stop training because you reached max_epochs = 70 with best_epoch = 68 and best_val_0_rmse = 2.39471\n",
            "Stop training because you reached max_epochs = 70 with best_epoch = 46 and best_val_0_rmse = 2.51692\n",
            "Stop training because you reached max_epochs = 70 with best_epoch = 69 and best_val_0_rmse = 2.46408\n"
          ]
        },
        {
          "name": "stderr",
          "output_type": "stream",
          "text": [
            "[I 2024-05-10 22:34:38,506] Trial 2 finished with value: -0.52433287698534 and parameters: {'mask_type': 'entmax', 'n_da': 56, 'n_steps': 2, 'gamma': 1.3, 'n_shared': 4, 'lambda_sparse': 9.9625132220551e-08, 'patienceScheduler': 9, 'patience': 72, 'epochs': 70}. Best is trial 2 with value: -0.52433287698534.\n"
          ]
        },
        {
          "name": "stdout",
          "output_type": "stream",
          "text": [
            "Stop training because you reached max_epochs = 70 with best_epoch = 66 and best_val_0_rmse = 2.07719\n",
            "\n",
            "Early stopping occurred at epoch 217 with best_epoch = 139 and best_val_0_rmse = 2.76039\n",
            "Stop training because you reached max_epochs = 248 with best_epoch = 219 and best_val_0_rmse = 2.76608\n",
            "\n",
            "Early stopping occurred at epoch 167 with best_epoch = 89 and best_val_0_rmse = 2.58226\n",
            "\n",
            "Early stopping occurred at epoch 137 with best_epoch = 59 and best_val_0_rmse = 2.72845\n",
            "\n",
            "Early stopping occurred at epoch 184 with best_epoch = 106 and best_val_0_rmse = 2.4742\n"
          ]
        },
        {
          "name": "stderr",
          "output_type": "stream",
          "text": [
            "[I 2024-05-10 22:39:41,695] Trial 3 finished with value: -0.37552533209825817 and parameters: {'mask_type': 'entmax', 'n_da': 56, 'n_steps': 5, 'gamma': 1.6, 'n_shared': 5, 'lambda_sparse': 3.3347927286375814e-07, 'patienceScheduler': 4, 'patience': 78, 'epochs': 248}. Best is trial 2 with value: -0.52433287698534.\n"
          ]
        },
        {
          "name": "stdout",
          "output_type": "stream",
          "text": [
            "Stop training because you reached max_epochs = 133 with best_epoch = 129 and best_val_0_rmse = 2.52738\n",
            "Stop training because you reached max_epochs = 133 with best_epoch = 124 and best_val_0_rmse = 2.42343\n",
            "Stop training because you reached max_epochs = 133 with best_epoch = 114 and best_val_0_rmse = 2.51634\n",
            "Stop training because you reached max_epochs = 133 with best_epoch = 125 and best_val_0_rmse = 2.63857\n",
            "Stop training because you reached max_epochs = 133 with best_epoch = 131 and best_val_0_rmse = 2.42308\n"
          ]
        },
        {
          "name": "stderr",
          "output_type": "stream",
          "text": [
            "[I 2024-05-10 22:42:52,921] Trial 4 finished with value: -0.4499597454029948 and parameters: {'mask_type': 'sparsemax', 'n_da': 56, 'n_steps': 5, 'gamma': 1.1, 'n_shared': 4, 'lambda_sparse': 3.618723330959616e-07, 'patienceScheduler': 9, 'patience': 68, 'epochs': 133}. Best is trial 2 with value: -0.52433287698534.\n"
          ]
        },
        {
          "name": "stdout",
          "output_type": "stream",
          "text": [
            "\n",
            "Early stopping occurred at epoch 123 with best_epoch = 90 and best_val_0_rmse = 2.64562\n",
            "\n",
            "Early stopping occurred at epoch 92 with best_epoch = 59 and best_val_0_rmse = 2.50733\n",
            "\n",
            "Early stopping occurred at epoch 121 with best_epoch = 88 and best_val_0_rmse = 2.67055\n",
            "\n",
            "Early stopping occurred at epoch 151 with best_epoch = 118 and best_val_0_rmse = 2.54256\n",
            "\n",
            "Early stopping occurred at epoch 81 with best_epoch = 48 and best_val_0_rmse = 2.64844\n"
          ]
        },
        {
          "name": "stderr",
          "output_type": "stream",
          "text": [
            "[I 2024-05-10 22:46:11,969] Trial 5 finished with value: -0.40717435871094637 and parameters: {'mask_type': 'entmax', 'n_da': 64, 'n_steps': 5, 'gamma': 1.4, 'n_shared': 5, 'lambda_sparse': 2.7698899227562766e-08, 'patienceScheduler': 5, 'patience': 33, 'epochs': 196}. Best is trial 2 with value: -0.52433287698534.\n"
          ]
        },
        {
          "name": "stdout",
          "output_type": "stream",
          "text": [
            "\n",
            "Early stopping occurred at epoch 173 with best_epoch = 138 and best_val_0_rmse = 2.03608\n",
            "\n",
            "Early stopping occurred at epoch 223 with best_epoch = 188 and best_val_0_rmse = 2.18076\n",
            "\n",
            "Early stopping occurred at epoch 176 with best_epoch = 141 and best_val_0_rmse = 2.38826\n",
            "\n",
            "Early stopping occurred at epoch 203 with best_epoch = 168 and best_val_0_rmse = 1.86436\n"
          ]
        },
        {
          "name": "stderr",
          "output_type": "stream",
          "text": [
            "[I 2024-05-10 22:48:28,455] Trial 6 finished with value: -0.6486597503811714 and parameters: {'mask_type': 'entmax', 'n_da': 64, 'n_steps': 2, 'gamma': 1.1, 'n_shared': 3, 'lambda_sparse': 5.0654860639753365e-08, 'patienceScheduler': 13, 'patience': 35, 'epochs': 495}. Best is trial 6 with value: -0.6486597503811714.\n"
          ]
        },
        {
          "name": "stdout",
          "output_type": "stream",
          "text": [
            "\n",
            "Early stopping occurred at epoch 178 with best_epoch = 143 and best_val_0_rmse = 1.42633\n",
            "Stop training because you reached max_epochs = 102 with best_epoch = 59 and best_val_0_rmse = 2.60978\n",
            "Stop training because you reached max_epochs = 102 with best_epoch = 72 and best_val_0_rmse = 3.40206\n",
            "Stop training because you reached max_epochs = 102 with best_epoch = 48 and best_val_0_rmse = 2.60931\n",
            "Stop training because you reached max_epochs = 102 with best_epoch = 77 and best_val_0_rmse = 2.74042\n",
            "Stop training because you reached max_epochs = 102 with best_epoch = 91 and best_val_0_rmse = 2.73997\n"
          ]
        },
        {
          "name": "stderr",
          "output_type": "stream",
          "text": [
            "[I 2024-05-10 22:50:57,147] Trial 7 finished with value: -0.29038200902944994 and parameters: {'mask_type': 'entmax', 'n_da': 56, 'n_steps': 5, 'gamma': 1.4, 'n_shared': 4, 'lambda_sparse': 7.183758655813986e-05, 'patienceScheduler': 3, 'patience': 55, 'epochs': 102}. Best is trial 6 with value: -0.6486597503811714.\n"
          ]
        },
        {
          "name": "stdout",
          "output_type": "stream",
          "text": [
            "Stop training because you reached max_epochs = 262 with best_epoch = 213 and best_val_0_rmse = 1.77975\n",
            "Stop training because you reached max_epochs = 262 with best_epoch = 239 and best_val_0_rmse = 1.78117\n",
            "Stop training because you reached max_epochs = 262 with best_epoch = 178 and best_val_0_rmse = 2.44503\n",
            "Stop training because you reached max_epochs = 262 with best_epoch = 230 and best_val_0_rmse = 2.09215\n"
          ]
        },
        {
          "name": "stderr",
          "output_type": "stream",
          "text": [
            "[I 2024-05-10 22:52:43,402] Trial 8 finished with value: -0.6525402367056289 and parameters: {'mask_type': 'entmax', 'n_da': 56, 'n_steps': 1, 'gamma': 1.2, 'n_shared': 2, 'lambda_sparse': 4.446628955475447e-05, 'patienceScheduler': 11, 'patience': 92, 'epochs': 262}. Best is trial 8 with value: -0.6525402367056289.\n"
          ]
        },
        {
          "name": "stdout",
          "output_type": "stream",
          "text": [
            "Stop training because you reached max_epochs = 262 with best_epoch = 228 and best_val_0_rmse = 1.86163\n",
            "Stop training because you reached max_epochs = 98 with best_epoch = 78 and best_val_0_rmse = 2.5648\n",
            "Stop training because you reached max_epochs = 98 with best_epoch = 90 and best_val_0_rmse = 2.50769\n",
            "Stop training because you reached max_epochs = 98 with best_epoch = 73 and best_val_0_rmse = 2.68431\n",
            "Stop training because you reached max_epochs = 98 with best_epoch = 79 and best_val_0_rmse = 2.75587\n"
          ]
        },
        {
          "name": "stderr",
          "output_type": "stream",
          "text": [
            "[I 2024-05-10 22:54:13,889] Trial 9 finished with value: -0.40345393498368864 and parameters: {'mask_type': 'sparsemax', 'n_da': 64, 'n_steps': 3, 'gamma': 1.5, 'n_shared': 3, 'lambda_sparse': 4.1083188946999205e-06, 'patienceScheduler': 8, 'patience': 31, 'epochs': 98}. Best is trial 8 with value: -0.6525402367056289.\n"
          ]
        },
        {
          "name": "stdout",
          "output_type": "stream",
          "text": [
            "Stop training because you reached max_epochs = 98 with best_epoch = 82 and best_val_0_rmse = 2.54737\n",
            "\n",
            "Early stopping occurred at epoch 304 with best_epoch = 205 and best_val_0_rmse = 2.27547\n",
            "\n",
            "Early stopping occurred at epoch 291 with best_epoch = 192 and best_val_0_rmse = 1.70437\n",
            "\n",
            "Early stopping occurred at epoch 264 with best_epoch = 165 and best_val_0_rmse = 1.81518\n",
            "Stop training because you reached max_epochs = 358 with best_epoch = 336 and best_val_0_rmse = 1.96462\n"
          ]
        },
        {
          "name": "stderr",
          "output_type": "stream",
          "text": [
            "[I 2024-05-10 22:56:23,928] Trial 10 finished with value: -0.6605836544408366 and parameters: {'mask_type': 'entmax', 'n_da': 60, 'n_steps': 1, 'gamma': 1.3, 'n_shared': 2, 'lambda_sparse': 0.00034540130684562146, 'patienceScheduler': 12, 'patience': 99, 'epochs': 358}. Best is trial 10 with value: -0.6605836544408366.\n"
          ]
        },
        {
          "name": "stdout",
          "output_type": "stream",
          "text": [
            "\n",
            "Early stopping occurred at epoch 343 with best_epoch = 244 and best_val_0_rmse = 2.01112\n",
            "\n",
            "Early stopping occurred at epoch 349 with best_epoch = 249 and best_val_0_rmse = 1.96863\n",
            "\n",
            "Early stopping occurred at epoch 349 with best_epoch = 249 and best_val_0_rmse = 1.81573\n",
            "\n",
            "Early stopping occurred at epoch 246 with best_epoch = 146 and best_val_0_rmse = 1.96378\n",
            "\n",
            "Early stopping occurred at epoch 283 with best_epoch = 183 and best_val_0_rmse = 1.90485\n"
          ]
        },
        {
          "name": "stderr",
          "output_type": "stream",
          "text": [
            "[I 2024-05-10 22:58:33,583] Trial 11 finished with value: -0.6857240471772019 and parameters: {'mask_type': 'entmax', 'n_da': 60, 'n_steps': 1, 'gamma': 1.3, 'n_shared': 2, 'lambda_sparse': 0.0008964070657823873, 'patienceScheduler': 12, 'patience': 100, 'epochs': 350}. Best is trial 11 with value: -0.6857240471772019.\n"
          ]
        },
        {
          "name": "stdout",
          "output_type": "stream",
          "text": [
            "\n",
            "Early stopping occurred at epoch 343 with best_epoch = 243 and best_val_0_rmse = 1.81735\n",
            "\n",
            "Early stopping occurred at epoch 306 with best_epoch = 206 and best_val_0_rmse = 1.97508\n",
            "Stop training because you reached max_epochs = 374 with best_epoch = 280 and best_val_0_rmse = 1.6556\n",
            "\n",
            "Early stopping occurred at epoch 281 with best_epoch = 181 and best_val_0_rmse = 1.90995\n",
            "\n",
            "Early stopping occurred at epoch 251 with best_epoch = 151 and best_val_0_rmse = 2.0608\n"
          ]
        },
        {
          "name": "stderr",
          "output_type": "stream",
          "text": [
            "[I 2024-05-10 23:00:41,485] Trial 12 finished with value: -0.6892507306771005 and parameters: {'mask_type': 'entmax', 'n_da': 60, 'n_steps': 1, 'gamma': 1.3, 'n_shared': 2, 'lambda_sparse': 0.0006099621410320293, 'patienceScheduler': 12, 'patience': 100, 'epochs': 374}. Best is trial 12 with value: -0.6892507306771005.\n"
          ]
        },
        {
          "name": "stdout",
          "output_type": "stream",
          "text": [
            "\n",
            "Early stopping occurred at epoch 344 with best_epoch = 244 and best_val_0_rmse = 1.80141\n",
            "/content/drive/MyDrive/MEM Colab Runs/models/grid_tabnet_moran_all_lasso_exp.model CV-R2 = 0.689\n"
          ]
        },
        {
          "name": "stderr",
          "output_type": "stream",
          "text": [
            "[I 2024-05-10 23:01:33,528] A new study created in memory with name: no-name-f907e379-0995-4122-b4a6-9056d2a54631\n"
          ]
        },
        {
          "name": "stdout",
          "output_type": "stream",
          "text": [
            "MSE LASSO CV R2 score:  0.8328460914833382\n",
            "\n",
            "Early stopping occurred at epoch 163 with best_epoch = 91 and best_val_0_rmse = 2.44256\n",
            "\n",
            "Early stopping occurred at epoch 265 with best_epoch = 193 and best_val_0_rmse = 1.57335\n",
            "\n",
            "Early stopping occurred at epoch 314 with best_epoch = 242 and best_val_0_rmse = 1.78448\n",
            "\n",
            "Early stopping occurred at epoch 147 with best_epoch = 75 and best_val_0_rmse = 2.13957\n"
          ]
        },
        {
          "name": "stderr",
          "output_type": "stream",
          "text": [
            "[I 2024-05-10 23:04:02,262] Trial 0 finished with value: -0.6627034167069307 and parameters: {'mask_type': 'sparsemax', 'n_da': 64, 'n_steps': 3, 'gamma': 1.1, 'n_shared': 1, 'lambda_sparse': 1.951722464144948e-08, 'patienceScheduler': 14, 'patience': 72, 'epochs': 369}. Best is trial 0 with value: -0.6627034167069307.\n"
          ]
        },
        {
          "name": "stdout",
          "output_type": "stream",
          "text": [
            "\n",
            "Early stopping occurred at epoch 360 with best_epoch = 288 and best_val_0_rmse = 1.70166\n",
            "Stop training because you reached max_epochs = 181 with best_epoch = 178 and best_val_0_rmse = 1.8475\n",
            "Stop training because you reached max_epochs = 181 with best_epoch = 148 and best_val_0_rmse = 1.97073\n",
            "Stop training because you reached max_epochs = 181 with best_epoch = 172 and best_val_0_rmse = 2.2587\n",
            "Stop training because you reached max_epochs = 181 with best_epoch = 146 and best_val_0_rmse = 2.01562\n"
          ]
        },
        {
          "name": "stderr",
          "output_type": "stream",
          "text": [
            "[I 2024-05-10 23:05:25,160] Trial 1 finished with value: -0.6261864051809239 and parameters: {'mask_type': 'sparsemax', 'n_da': 64, 'n_steps': 2, 'gamma': 1.1, 'n_shared': 1, 'lambda_sparse': 3.3205591037519537e-07, 'patienceScheduler': 9, 'patience': 60, 'epochs': 181}. Best is trial 0 with value: -0.6627034167069307.\n"
          ]
        },
        {
          "name": "stdout",
          "output_type": "stream",
          "text": [
            "Stop training because you reached max_epochs = 181 with best_epoch = 134 and best_val_0_rmse = 2.25341\n",
            "Stop training because you reached max_epochs = 70 with best_epoch = 69 and best_val_0_rmse = 1.603\n",
            "Stop training because you reached max_epochs = 70 with best_epoch = 67 and best_val_0_rmse = 1.74465\n",
            "Stop training because you reached max_epochs = 70 with best_epoch = 59 and best_val_0_rmse = 1.84561\n",
            "Stop training because you reached max_epochs = 70 with best_epoch = 64 and best_val_0_rmse = 2.13094\n"
          ]
        },
        {
          "name": "stderr",
          "output_type": "stream",
          "text": [
            "[I 2024-05-10 23:06:12,854] Trial 2 finished with value: -0.7002624168983076 and parameters: {'mask_type': 'entmax', 'n_da': 56, 'n_steps': 2, 'gamma': 1.3, 'n_shared': 4, 'lambda_sparse': 9.9625132220551e-08, 'patienceScheduler': 9, 'patience': 72, 'epochs': 70}. Best is trial 2 with value: -0.7002624168983076.\n"
          ]
        },
        {
          "name": "stdout",
          "output_type": "stream",
          "text": [
            "Stop training because you reached max_epochs = 70 with best_epoch = 66 and best_val_0_rmse = 1.91508\n",
            "\n",
            "Early stopping occurred at epoch 194 with best_epoch = 116 and best_val_0_rmse = 2.95141\n",
            "Stop training because you reached max_epochs = 248 with best_epoch = 228 and best_val_0_rmse = 2.43907\n",
            "\n",
            "Early stopping occurred at epoch 217 with best_epoch = 139 and best_val_0_rmse = 2.48112\n",
            "\n",
            "Early stopping occurred at epoch 151 with best_epoch = 73 and best_val_0_rmse = 2.60187\n",
            "Stop training because you reached max_epochs = 248 with best_epoch = 179 and best_val_0_rmse = 2.46529\n"
          ]
        },
        {
          "name": "stderr",
          "output_type": "stream",
          "text": [
            "[I 2024-05-10 23:11:11,228] Trial 3 finished with value: -0.40715460116981506 and parameters: {'mask_type': 'entmax', 'n_da': 56, 'n_steps': 5, 'gamma': 1.6, 'n_shared': 5, 'lambda_sparse': 3.3347927286375814e-07, 'patienceScheduler': 4, 'patience': 78, 'epochs': 248}. Best is trial 2 with value: -0.7002624168983076.\n"
          ]
        },
        {
          "name": "stdout",
          "output_type": "stream",
          "text": [
            "Stop training because you reached max_epochs = 133 with best_epoch = 109 and best_val_0_rmse = 2.26944\n",
            "Stop training because you reached max_epochs = 133 with best_epoch = 130 and best_val_0_rmse = 1.8497\n",
            "Stop training because you reached max_epochs = 133 with best_epoch = 128 and best_val_0_rmse = 2.28433\n",
            "Stop training because you reached max_epochs = 133 with best_epoch = 121 and best_val_0_rmse = 2.30531\n",
            "Stop training because you reached max_epochs = 133 with best_epoch = 132 and best_val_0_rmse = 2.09401\n"
          ]
        },
        {
          "name": "stderr",
          "output_type": "stream",
          "text": [
            "[I 2024-05-10 23:13:58,557] Trial 4 finished with value: -0.5904526375203646 and parameters: {'mask_type': 'sparsemax', 'n_da': 56, 'n_steps': 5, 'gamma': 1.1, 'n_shared': 4, 'lambda_sparse': 3.618723330959616e-07, 'patienceScheduler': 9, 'patience': 68, 'epochs': 133}. Best is trial 2 with value: -0.7002624168983076.\n"
          ]
        },
        {
          "name": "stdout",
          "output_type": "stream",
          "text": [
            "\n",
            "Early stopping occurred at epoch 194 with best_epoch = 161 and best_val_0_rmse = 2.49643\n",
            "\n",
            "Early stopping occurred at epoch 157 with best_epoch = 124 and best_val_0_rmse = 2.48261\n",
            "\n",
            "Early stopping occurred at epoch 163 with best_epoch = 130 and best_val_0_rmse = 2.40588\n",
            "\n",
            "Early stopping occurred at epoch 145 with best_epoch = 112 and best_val_0_rmse = 2.5345\n",
            "\n",
            "Early stopping occurred at epoch 175 with best_epoch = 142 and best_val_0_rmse = 2.49173\n"
          ]
        },
        {
          "name": "stderr",
          "output_type": "stream",
          "text": [
            "[I 2024-05-10 23:18:14,054] Trial 5 finished with value: -0.45948743517946306 and parameters: {'mask_type': 'entmax', 'n_da': 64, 'n_steps': 5, 'gamma': 1.4, 'n_shared': 5, 'lambda_sparse': 2.7698899227562766e-08, 'patienceScheduler': 5, 'patience': 33, 'epochs': 196}. Best is trial 2 with value: -0.7002624168983076.\n"
          ]
        },
        {
          "name": "stdout",
          "output_type": "stream",
          "text": [
            "\n",
            "Early stopping occurred at epoch 234 with best_epoch = 199 and best_val_0_rmse = 1.05466\n",
            "\n",
            "Early stopping occurred at epoch 235 with best_epoch = 200 and best_val_0_rmse = 1.07005\n",
            "\n",
            "Early stopping occurred at epoch 206 with best_epoch = 171 and best_val_0_rmse = 1.13215\n",
            "\n",
            "Early stopping occurred at epoch 222 with best_epoch = 187 and best_val_0_rmse = 1.18686\n"
          ]
        },
        {
          "name": "stderr",
          "output_type": "stream",
          "text": [
            "[I 2024-05-10 23:20:31,329] Trial 6 finished with value: -0.8965506364561616 and parameters: {'mask_type': 'entmax', 'n_da': 64, 'n_steps': 2, 'gamma': 1.1, 'n_shared': 3, 'lambda_sparse': 5.0654860639753365e-08, 'patienceScheduler': 13, 'patience': 35, 'epochs': 495}. Best is trial 6 with value: -0.8965506364561616.\n"
          ]
        },
        {
          "name": "stdout",
          "output_type": "stream",
          "text": [
            "\n",
            "Early stopping occurred at epoch 172 with best_epoch = 137 and best_val_0_rmse = 0.98749\n",
            "Stop training because you reached max_epochs = 102 with best_epoch = 99 and best_val_0_rmse = 2.62542\n",
            "Stop training because you reached max_epochs = 102 with best_epoch = 96 and best_val_0_rmse = 2.59212\n",
            "Stop training because you reached max_epochs = 102 with best_epoch = 56 and best_val_0_rmse = 2.60675\n",
            "Stop training because you reached max_epochs = 102 with best_epoch = 97 and best_val_0_rmse = 2.674\n",
            "Stop training because you reached max_epochs = 102 with best_epoch = 101 and best_val_0_rmse = 2.55901\n"
          ]
        },
        {
          "name": "stderr",
          "output_type": "stream",
          "text": [
            "[I 2024-05-10 23:22:43,274] Trial 7 finished with value: -0.4025079513113893 and parameters: {'mask_type': 'entmax', 'n_da': 56, 'n_steps': 5, 'gamma': 1.4, 'n_shared': 4, 'lambda_sparse': 7.183758655813986e-05, 'patienceScheduler': 3, 'patience': 55, 'epochs': 102}. Best is trial 6 with value: -0.8965506364561616.\n"
          ]
        },
        {
          "name": "stdout",
          "output_type": "stream",
          "text": [
            "Stop training because you reached max_epochs = 262 with best_epoch = 198 and best_val_0_rmse = 1.40491\n",
            "\n",
            "Early stopping occurred at epoch 238 with best_epoch = 146 and best_val_0_rmse = 1.29731\n",
            "Stop training because you reached max_epochs = 262 with best_epoch = 195 and best_val_0_rmse = 1.59153\n",
            "\n",
            "Early stopping occurred at epoch 256 with best_epoch = 164 and best_val_0_rmse = 1.27024\n"
          ]
        },
        {
          "name": "stderr",
          "output_type": "stream",
          "text": [
            "[I 2024-05-10 23:24:17,022] Trial 8 finished with value: -0.8358822181802283 and parameters: {'mask_type': 'entmax', 'n_da': 56, 'n_steps': 1, 'gamma': 1.2, 'n_shared': 2, 'lambda_sparse': 4.446628955475447e-05, 'patienceScheduler': 11, 'patience': 92, 'epochs': 262}. Best is trial 6 with value: -0.8965506364561616.\n"
          ]
        },
        {
          "name": "stdout",
          "output_type": "stream",
          "text": [
            "Stop training because you reached max_epochs = 262 with best_epoch = 190 and best_val_0_rmse = 1.27678\n",
            "Stop training because you reached max_epochs = 98 with best_epoch = 90 and best_val_0_rmse = 2.51737\n",
            "Stop training because you reached max_epochs = 98 with best_epoch = 97 and best_val_0_rmse = 2.11775\n",
            "Stop training because you reached max_epochs = 98 with best_epoch = 86 and best_val_0_rmse = 2.33291\n",
            "Stop training because you reached max_epochs = 98 with best_epoch = 67 and best_val_0_rmse = 2.47732\n"
          ]
        },
        {
          "name": "stderr",
          "output_type": "stream",
          "text": [
            "[I 2024-05-10 23:25:37,549] Trial 9 finished with value: -0.5110825115225632 and parameters: {'mask_type': 'sparsemax', 'n_da': 64, 'n_steps': 3, 'gamma': 1.5, 'n_shared': 3, 'lambda_sparse': 4.1083188946999205e-06, 'patienceScheduler': 8, 'patience': 31, 'epochs': 98}. Best is trial 6 with value: -0.8965506364561616.\n"
          ]
        },
        {
          "name": "stdout",
          "output_type": "stream",
          "text": [
            "Stop training because you reached max_epochs = 98 with best_epoch = 96 and best_val_0_rmse = 2.34893\n",
            "\n",
            "Early stopping occurred at epoch 274 with best_epoch = 228 and best_val_0_rmse = 1.45287\n",
            "\n",
            "Early stopping occurred at epoch 331 with best_epoch = 285 and best_val_0_rmse = 1.56237\n",
            "\n",
            "Early stopping occurred at epoch 231 with best_epoch = 185 and best_val_0_rmse = 1.36653\n",
            "\n",
            "Early stopping occurred at epoch 266 with best_epoch = 220 and best_val_0_rmse = 1.35872\n"
          ]
        },
        {
          "name": "stderr",
          "output_type": "stream",
          "text": [
            "[I 2024-05-10 23:27:16,421] Trial 10 finished with value: -0.8203786066383192 and parameters: {'mask_type': 'entmax', 'n_da': 60, 'n_steps': 1, 'gamma': 1.0, 'n_shared': 2, 'lambda_sparse': 5.066634090043071e-06, 'patienceScheduler': 15, 'patience': 46, 'epochs': 487}. Best is trial 6 with value: -0.8965506364561616.\n"
          ]
        },
        {
          "name": "stdout",
          "output_type": "stream",
          "text": [
            "\n",
            "Early stopping occurred at epoch 192 with best_epoch = 146 and best_val_0_rmse = 1.38961\n",
            "\n",
            "Early stopping occurred at epoch 344 with best_epoch = 244 and best_val_0_rmse = 1.43741\n",
            "Stop training because you reached max_epochs = 348 with best_epoch = 280 and best_val_0_rmse = 1.50372\n",
            "\n",
            "Early stopping occurred at epoch 280 with best_epoch = 180 and best_val_0_rmse = 1.34391\n",
            "\n",
            "Early stopping occurred at epoch 294 with best_epoch = 194 and best_val_0_rmse = 1.35007\n"
          ]
        },
        {
          "name": "stderr",
          "output_type": "stream",
          "text": [
            "[I 2024-05-10 23:29:09,742] Trial 11 finished with value: -0.8282568931397296 and parameters: {'mask_type': 'entmax', 'n_da': 60, 'n_steps': 1, 'gamma': 1.2, 'n_shared': 2, 'lambda_sparse': 0.0005001147308280169, 'patienceScheduler': 12, 'patience': 100, 'epochs': 348}. Best is trial 6 with value: -0.8965506364561616.\n"
          ]
        },
        {
          "name": "stdout",
          "output_type": "stream",
          "text": [
            "\n",
            "Early stopping occurred at epoch 264 with best_epoch = 164 and best_val_0_rmse = 1.34021\n",
            "\n",
            "Early stopping occurred at epoch 217 with best_epoch = 126 and best_val_0_rmse = 1.37418\n",
            "\n",
            "Early stopping occurred at epoch 325 with best_epoch = 234 and best_val_0_rmse = 1.26614\n",
            "\n",
            "Early stopping occurred at epoch 273 with best_epoch = 182 and best_val_0_rmse = 1.31601\n",
            "\n",
            "Early stopping occurred at epoch 475 with best_epoch = 384 and best_val_0_rmse = 1.44364\n"
          ]
        },
        {
          "name": "stderr",
          "output_type": "stream",
          "text": [
            "[I 2024-05-10 23:32:02,553] Trial 12 finished with value: -0.8387146022839783 and parameters: {'mask_type': 'entmax', 'n_da': 60, 'n_steps': 2, 'gamma': 1.2, 'n_shared': 2, 'lambda_sparse': 4.791526679772836e-05, 'patienceScheduler': 12, 'patience': 91, 'epochs': 497}. Best is trial 6 with value: -0.8965506364561616.\n"
          ]
        },
        {
          "name": "stdout",
          "output_type": "stream",
          "text": [
            "\n",
            "Early stopping occurred at epoch 336 with best_epoch = 245 and best_val_0_rmse = 1.38078\n",
            "/content/drive/MyDrive/MEM Colab Runs/models/grid_tabnet_moran_mse_lasso_exp.model CV-R2 = 0.897\n"
          ]
        },
        {
          "name": "stderr",
          "output_type": "stream",
          "text": [
            "[I 2024-05-10 23:33:42,501] A new study created in memory with name: no-name-3d119647-1104-40ad-9115-05ec0c8b2518\n"
          ]
        },
        {
          "name": "stdout",
          "output_type": "stream",
          "text": [
            "BIC LASSO CV R2 score:  0.8254597912608508\n",
            "\n",
            "Early stopping occurred at epoch 309 with best_epoch = 237 and best_val_0_rmse = 1.29938\n",
            "\n",
            "Early stopping occurred at epoch 320 with best_epoch = 248 and best_val_0_rmse = 1.43607\n",
            "Stop training because you reached max_epochs = 369 with best_epoch = 314 and best_val_0_rmse = 1.31547\n",
            "Stop training because you reached max_epochs = 369 with best_epoch = 358 and best_val_0_rmse = 1.15763\n"
          ]
        },
        {
          "name": "stderr",
          "output_type": "stream",
          "text": [
            "[I 2024-05-10 23:37:01,036] Trial 0 finished with value: -0.8478312066706819 and parameters: {'mask_type': 'sparsemax', 'n_da': 64, 'n_steps': 3, 'gamma': 1.1, 'n_shared': 1, 'lambda_sparse': 1.951722464144948e-08, 'patienceScheduler': 14, 'patience': 72, 'epochs': 369}. Best is trial 0 with value: -0.8478312066706819.\n"
          ]
        },
        {
          "name": "stdout",
          "output_type": "stream",
          "text": [
            "Stop training because you reached max_epochs = 369 with best_epoch = 330 and best_val_0_rmse = 1.35729\n",
            "Stop training because you reached max_epochs = 181 with best_epoch = 172 and best_val_0_rmse = 1.17301\n",
            "\n",
            "Early stopping occurred at epoch 175 with best_epoch = 115 and best_val_0_rmse = 1.51403\n",
            "Stop training because you reached max_epochs = 181 with best_epoch = 174 and best_val_0_rmse = 1.36534\n",
            "Stop training because you reached max_epochs = 181 with best_epoch = 154 and best_val_0_rmse = 1.32227\n"
          ]
        },
        {
          "name": "stderr",
          "output_type": "stream",
          "text": [
            "[I 2024-05-10 23:38:22,244] Trial 1 finished with value: -0.8400353495859253 and parameters: {'mask_type': 'sparsemax', 'n_da': 64, 'n_steps': 2, 'gamma': 1.1, 'n_shared': 1, 'lambda_sparse': 3.3205591037519537e-07, 'patienceScheduler': 9, 'patience': 60, 'epochs': 181}. Best is trial 0 with value: -0.8478312066706819.\n"
          ]
        },
        {
          "name": "stdout",
          "output_type": "stream",
          "text": [
            "Stop training because you reached max_epochs = 181 with best_epoch = 143 and best_val_0_rmse = 1.36315\n",
            "Stop training because you reached max_epochs = 70 with best_epoch = 69 and best_val_0_rmse = 1.3126\n",
            "Stop training because you reached max_epochs = 70 with best_epoch = 68 and best_val_0_rmse = 1.15427\n",
            "Stop training because you reached max_epochs = 70 with best_epoch = 67 and best_val_0_rmse = 1.3052\n",
            "Stop training because you reached max_epochs = 70 with best_epoch = 68 and best_val_0_rmse = 1.06291\n"
          ]
        },
        {
          "name": "stderr",
          "output_type": "stream",
          "text": [
            "[I 2024-05-10 23:39:08,526] Trial 2 finished with value: -0.8798579733602511 and parameters: {'mask_type': 'entmax', 'n_da': 56, 'n_steps': 2, 'gamma': 1.3, 'n_shared': 4, 'lambda_sparse': 9.9625132220551e-08, 'patienceScheduler': 9, 'patience': 72, 'epochs': 70}. Best is trial 2 with value: -0.8798579733602511.\n"
          ]
        },
        {
          "name": "stdout",
          "output_type": "stream",
          "text": [
            "Stop training because you reached max_epochs = 70 with best_epoch = 63 and best_val_0_rmse = 0.98264\n",
            "\n",
            "Early stopping occurred at epoch 228 with best_epoch = 150 and best_val_0_rmse = 2.5794\n",
            "Stop training because you reached max_epochs = 248 with best_epoch = 217 and best_val_0_rmse = 2.38719\n",
            "\n",
            "Early stopping occurred at epoch 173 with best_epoch = 95 and best_val_0_rmse = 2.33054\n",
            "Stop training because you reached max_epochs = 248 with best_epoch = 225 and best_val_0_rmse = 2.49142\n",
            "\n",
            "Early stopping occurred at epoch 214 with best_epoch = 136 and best_val_0_rmse = 2.35752\n"
          ]
        },
        {
          "name": "stderr",
          "output_type": "stream",
          "text": [
            "[I 2024-05-10 23:44:14,028] Trial 3 finished with value: -0.48065439719851266 and parameters: {'mask_type': 'entmax', 'n_da': 56, 'n_steps': 5, 'gamma': 1.6, 'n_shared': 5, 'lambda_sparse': 3.3347927286375814e-07, 'patienceScheduler': 4, 'patience': 78, 'epochs': 248}. Best is trial 2 with value: -0.8798579733602511.\n"
          ]
        },
        {
          "name": "stdout",
          "output_type": "stream",
          "text": [
            "Stop training because you reached max_epochs = 133 with best_epoch = 131 and best_val_0_rmse = 1.5686\n",
            "Stop training because you reached max_epochs = 133 with best_epoch = 132 and best_val_0_rmse = 1.79859\n",
            "Stop training because you reached max_epochs = 133 with best_epoch = 107 and best_val_0_rmse = 2.19209\n",
            "Stop training because you reached max_epochs = 133 with best_epoch = 131 and best_val_0_rmse = 1.57558\n",
            "Stop training because you reached max_epochs = 133 with best_epoch = 121 and best_val_0_rmse = 1.59468\n"
          ]
        },
        {
          "name": "stderr",
          "output_type": "stream",
          "text": [
            "[I 2024-05-10 23:46:57,271] Trial 4 finished with value: -0.7314897531065051 and parameters: {'mask_type': 'sparsemax', 'n_da': 56, 'n_steps': 5, 'gamma': 1.1, 'n_shared': 4, 'lambda_sparse': 3.618723330959616e-07, 'patienceScheduler': 9, 'patience': 68, 'epochs': 133}. Best is trial 2 with value: -0.8798579733602511.\n"
          ]
        },
        {
          "name": "stdout",
          "output_type": "stream",
          "text": [
            "Stop training because you reached max_epochs = 196 with best_epoch = 180 and best_val_0_rmse = 1.88507\n",
            "\n",
            "Early stopping occurred at epoch 136 with best_epoch = 103 and best_val_0_rmse = 2.14709\n",
            "\n",
            "Early stopping occurred at epoch 134 with best_epoch = 101 and best_val_0_rmse = 1.76892\n",
            "\n",
            "Early stopping occurred at epoch 133 with best_epoch = 100 and best_val_0_rmse = 2.23389\n",
            "\n",
            "Early stopping occurred at epoch 153 with best_epoch = 120 and best_val_0_rmse = 1.9531\n"
          ]
        },
        {
          "name": "stderr",
          "output_type": "stream",
          "text": [
            "[I 2024-05-10 23:50:43,340] Trial 5 finished with value: -0.6464268906084996 and parameters: {'mask_type': 'entmax', 'n_da': 64, 'n_steps': 5, 'gamma': 1.4, 'n_shared': 5, 'lambda_sparse': 2.7698899227562766e-08, 'patienceScheduler': 5, 'patience': 33, 'epochs': 196}. Best is trial 2 with value: -0.8798579733602511.\n"
          ]
        },
        {
          "name": "stdout",
          "output_type": "stream",
          "text": [
            "\n",
            "Early stopping occurred at epoch 242 with best_epoch = 207 and best_val_0_rmse = 0.94342\n",
            "\n",
            "Early stopping occurred at epoch 200 with best_epoch = 165 and best_val_0_rmse = 0.81844\n",
            "\n",
            "Early stopping occurred at epoch 167 with best_epoch = 132 and best_val_0_rmse = 0.93752\n",
            "\n",
            "Early stopping occurred at epoch 191 with best_epoch = 156 and best_val_0_rmse = 0.87975\n"
          ]
        },
        {
          "name": "stderr",
          "output_type": "stream",
          "text": [
            "[I 2024-05-10 23:52:45,768] Trial 6 finished with value: -0.9321225098015617 and parameters: {'mask_type': 'entmax', 'n_da': 64, 'n_steps': 2, 'gamma': 1.1, 'n_shared': 3, 'lambda_sparse': 5.0654860639753365e-08, 'patienceScheduler': 13, 'patience': 35, 'epochs': 495}. Best is trial 6 with value: -0.9321225098015617.\n"
          ]
        },
        {
          "name": "stdout",
          "output_type": "stream",
          "text": [
            "\n",
            "Early stopping occurred at epoch 194 with best_epoch = 159 and best_val_0_rmse = 0.81762\n",
            "Stop training because you reached max_epochs = 102 with best_epoch = 101 and best_val_0_rmse = 1.80686\n",
            "Stop training because you reached max_epochs = 102 with best_epoch = 100 and best_val_0_rmse = 2.10931\n",
            "Stop training because you reached max_epochs = 102 with best_epoch = 77 and best_val_0_rmse = 2.35758\n",
            "Stop training because you reached max_epochs = 102 with best_epoch = 99 and best_val_0_rmse = 2.34055\n",
            "Stop training because you reached max_epochs = 102 with best_epoch = 89 and best_val_0_rmse = 2.10732\n"
          ]
        },
        {
          "name": "stderr",
          "output_type": "stream",
          "text": [
            "[I 2024-05-10 23:54:53,545] Trial 7 finished with value: -0.5977653607771817 and parameters: {'mask_type': 'entmax', 'n_da': 56, 'n_steps': 5, 'gamma': 1.4, 'n_shared': 4, 'lambda_sparse': 7.183758655813986e-05, 'patienceScheduler': 3, 'patience': 55, 'epochs': 102}. Best is trial 6 with value: -0.9321225098015617.\n"
          ]
        },
        {
          "name": "stdout",
          "output_type": "stream",
          "text": [
            "\n",
            "Early stopping occurred at epoch 256 with best_epoch = 164 and best_val_0_rmse = 0.86489\n",
            "Stop training because you reached max_epochs = 262 with best_epoch = 225 and best_val_0_rmse = 0.89129\n",
            "\n",
            "Early stopping occurred at epoch 260 with best_epoch = 168 and best_val_0_rmse = 0.8182\n",
            "Stop training because you reached max_epochs = 262 with best_epoch = 223 and best_val_0_rmse = 0.96575\n"
          ]
        },
        {
          "name": "stderr",
          "output_type": "stream",
          "text": [
            "[I 2024-05-10 23:56:24,727] Trial 8 finished with value: -0.9317066936624258 and parameters: {'mask_type': 'entmax', 'n_da': 56, 'n_steps': 1, 'gamma': 1.2, 'n_shared': 2, 'lambda_sparse': 4.446628955475447e-05, 'patienceScheduler': 11, 'patience': 92, 'epochs': 262}. Best is trial 6 with value: -0.9321225098015617.\n"
          ]
        },
        {
          "name": "stdout",
          "output_type": "stream",
          "text": [
            "Stop training because you reached max_epochs = 262 with best_epoch = 196 and best_val_0_rmse = 0.86347\n",
            "Stop training because you reached max_epochs = 98 with best_epoch = 90 and best_val_0_rmse = 2.1446\n",
            "Stop training because you reached max_epochs = 98 with best_epoch = 97 and best_val_0_rmse = 1.77529\n",
            "Stop training because you reached max_epochs = 98 with best_epoch = 96 and best_val_0_rmse = 2.09525\n",
            "Stop training because you reached max_epochs = 98 with best_epoch = 97 and best_val_0_rmse = 2.17495\n"
          ]
        },
        {
          "name": "stderr",
          "output_type": "stream",
          "text": [
            "[I 2024-05-10 23:57:42,396] Trial 9 finished with value: -0.6304873202215753 and parameters: {'mask_type': 'sparsemax', 'n_da': 64, 'n_steps': 3, 'gamma': 1.5, 'n_shared': 3, 'lambda_sparse': 4.1083188946999205e-06, 'patienceScheduler': 8, 'patience': 31, 'epochs': 98}. Best is trial 6 with value: -0.9321225098015617.\n"
          ]
        },
        {
          "name": "stdout",
          "output_type": "stream",
          "text": [
            "Stop training because you reached max_epochs = 98 with best_epoch = 93 and best_val_0_rmse = 2.07236\n",
            "\n",
            "Early stopping occurred at epoch 191 with best_epoch = 145 and best_val_0_rmse = 1.10924\n",
            "\n",
            "Early stopping occurred at epoch 173 with best_epoch = 127 and best_val_0_rmse = 1.03926\n",
            "\n",
            "Early stopping occurred at epoch 214 with best_epoch = 168 and best_val_0_rmse = 1.07799\n",
            "\n",
            "Early stopping occurred at epoch 213 with best_epoch = 167 and best_val_0_rmse = 0.98737\n"
          ]
        },
        {
          "name": "stderr",
          "output_type": "stream",
          "text": [
            "[I 2024-05-10 23:58:56,117] Trial 10 finished with value: -0.9057551342520028 and parameters: {'mask_type': 'entmax', 'n_da': 60, 'n_steps': 1, 'gamma': 1.0, 'n_shared': 2, 'lambda_sparse': 5.066634090043071e-06, 'patienceScheduler': 15, 'patience': 46, 'epochs': 487}. Best is trial 6 with value: -0.9321225098015617.\n"
          ]
        },
        {
          "name": "stdout",
          "output_type": "stream",
          "text": [
            "\n",
            "Early stopping occurred at epoch 216 with best_epoch = 170 and best_val_0_rmse = 0.9611\n",
            "\n",
            "Early stopping occurred at epoch 246 with best_epoch = 146 and best_val_0_rmse = 1.06517\n",
            "\n",
            "Early stopping occurred at epoch 334 with best_epoch = 234 and best_val_0_rmse = 0.97909\n",
            "\n",
            "Early stopping occurred at epoch 207 with best_epoch = 107 and best_val_0_rmse = 1.05943\n",
            "\n",
            "Early stopping occurred at epoch 283 with best_epoch = 183 and best_val_0_rmse = 0.98677\n"
          ]
        },
        {
          "name": "stderr",
          "output_type": "stream",
          "text": [
            "[I 2024-05-11 00:00:31,725] Trial 11 finished with value: -0.9109993666656674 and parameters: {'mask_type': 'entmax', 'n_da': 60, 'n_steps': 1, 'gamma': 1.2, 'n_shared': 2, 'lambda_sparse': 0.0005001147308280169, 'patienceScheduler': 12, 'patience': 100, 'epochs': 348}. Best is trial 6 with value: -0.9321225098015617.\n"
          ]
        },
        {
          "name": "stdout",
          "output_type": "stream",
          "text": [
            "\n",
            "Early stopping occurred at epoch 257 with best_epoch = 157 and best_val_0_rmse = 0.9452\n",
            "\n",
            "Early stopping occurred at epoch 360 with best_epoch = 269 and best_val_0_rmse = 0.9369\n",
            "\n",
            "Early stopping occurred at epoch 337 with best_epoch = 246 and best_val_0_rmse = 1.14677\n",
            "\n",
            "Early stopping occurred at epoch 248 with best_epoch = 157 and best_val_0_rmse = 1.12654\n",
            "\n",
            "Early stopping occurred at epoch 293 with best_epoch = 202 and best_val_0_rmse = 1.00237\n"
          ]
        },
        {
          "name": "stderr",
          "output_type": "stream",
          "text": [
            "[I 2024-05-11 00:03:10,233] Trial 12 finished with value: -0.9085939967887123 and parameters: {'mask_type': 'entmax', 'n_da': 60, 'n_steps': 2, 'gamma': 1.2, 'n_shared': 2, 'lambda_sparse': 4.791526679772836e-05, 'patienceScheduler': 12, 'patience': 91, 'epochs': 497}. Best is trial 6 with value: -0.9321225098015617.\n"
          ]
        },
        {
          "name": "stdout",
          "output_type": "stream",
          "text": [
            "\n",
            "Early stopping occurred at epoch 301 with best_epoch = 210 and best_val_0_rmse = 0.8729\n",
            "\n",
            "Early stopping occurred at epoch 257 with best_epoch = 171 and best_val_0_rmse = 0.92339\n",
            "\n",
            "Early stopping occurred at epoch 277 with best_epoch = 191 and best_val_0_rmse = 0.94298\n",
            "\n",
            "Early stopping occurred at epoch 204 with best_epoch = 118 and best_val_0_rmse = 1.07575\n",
            "Stop training because you reached max_epochs = 340 with best_epoch = 316 and best_val_0_rmse = 0.99348\n"
          ]
        },
        {
          "name": "stderr",
          "output_type": "stream",
          "text": [
            "[I 2024-05-11 00:04:59,333] Trial 13 finished with value: -0.9213061899631892 and parameters: {'mask_type': 'entmax', 'n_da': 60, 'n_steps': 1, 'gamma': 1.0, 'n_shared': 3, 'lambda_sparse': 1.984329576941398e-05, 'patienceScheduler': 12, 'patience': 86, 'epochs': 340}. Best is trial 6 with value: -0.9321225098015617.\n"
          ]
        },
        {
          "name": "stdout",
          "output_type": "stream",
          "text": [
            "\n",
            "Early stopping occurred at epoch 250 with best_epoch = 164 and best_val_0_rmse = 0.79547\n",
            "/content/drive/MyDrive/MEM Colab Runs/models/grid_tabnet_moran_bic_lasso_exp.model CV-R2 = 0.932\n"
          ]
        }
      ],
      "source": [
        "warnings.filterwarnings('ignore')\n",
        "\n",
        "for w in weights:\n",
        "    data = pd.read_csv('/content/drive/MyDrive/MEM Colab Runs/data/grid_moran_' + w + '.csv',index_col=0)\n",
        "\n",
        "    for s in selection:\n",
        "\n",
        "        if s == 'all':\n",
        "            selected = list(data.columns[2:-3])\n",
        "        if s == 'xy':\n",
        "            selected = list(data.columns[-3: -1])\n",
        "        if s =='mse':\n",
        "            selected = lasso_moran_select(data,s)\n",
        "        if s == 'bic':\n",
        "            selected = lasso_moran_select(data,s)\n",
        "        if s == 'aic':\n",
        "            selected = lasso_moran_select(data,s)\n",
        "\n",
        "        X_coords = data[['X1','X2']  + selected]\n",
        "\n",
        "        moran = X_coords[selected]\n",
        "        moran = (np.array(moran) - np.array(moran).mean(axis=0))/np.array(moran).std(axis=0)\n",
        "        X_coords[selected] = moran\n",
        "\n",
        "        y = data['y']\n",
        "\n",
        "        for m in models:\n",
        "\n",
        "            model,best_loss = TabNet_fit(X_coords.values, y.values.reshape(-1,1), timeout=60*30)\n",
        "\n",
        "            #model.fit(X_coords, y, estimator_list = [m], **settings)\n",
        "\n",
        "            name = \"/content/drive/MyDrive/MEM Colab Runs/models/grid_\" + m + \"_moran_\" + s + \"_lasso_\" + w + \".model\"\n",
        "\n",
        "            pickle.dump(model, open(name, 'wb'))\n",
        "\n",
        "            print(name + ' CV-R2 = {0:.3g}'.format(best_loss))"
      ]
    },
    {
      "cell_type": "code",
      "execution_count": null,
      "metadata": {
        "colab": {
          "background_save": true
        },
        "id": "91jrLezKLtkH"
      },
      "outputs": [],
      "source": []
    },
    {
      "cell_type": "markdown",
      "metadata": {
        "id": "tGax-zBeLtkH"
      },
      "source": [
        "### LASSO Results"
      ]
    },
    {
      "cell_type": "code",
      "execution_count": null,
      "metadata": {
        "colab": {
          "background_save": true
        },
        "id": "dLg7K4nHLtkH",
        "outputId": "76c51b27-5cb0-42f8-cb9b-cc88e0f55a1b"
      },
      "outputs": [
        {
          "name": "stdout",
          "output_type": "stream",
          "text": [
            "MSE LASSO CV R2 score:  0.7952897584979441\n",
            "172\n",
            "BIC LASSO CV R2 score:  0.7724836600621674\n",
            "64\n",
            "MSE LASSO CV R2 score:  0.8328460914833382\n",
            "90\n",
            "BIC LASSO CV R2 score:  0.8254597912608508\n",
            "47\n"
          ]
        }
      ],
      "source": [
        "for w in weights:\n",
        "    data = pd.read_csv('/content/drive/MyDrive/MEM Colab Runs/data/grid_moran_' + w + '.csv',index_col=0)\n",
        "\n",
        "    for s in ['mse','bic','aic']:\n",
        "\n",
        "        if s =='mse':\n",
        "            selected = lasso_moran_select(data,s)\n",
        "            print(len(selected))\n",
        "        if s == 'bic':\n",
        "            selected = lasso_moran_select(data,s)\n",
        "            print(len(selected))"
      ]
    },
    {
      "cell_type": "markdown",
      "metadata": {
        "id": "UMXkWfLKLtkI"
      },
      "source": [
        "### Linear Model"
      ]
    },
    {
      "cell_type": "code",
      "execution_count": null,
      "metadata": {
        "colab": {
          "background_save": true
        },
        "id": "oGxHOmWqLtkI"
      },
      "outputs": [],
      "source": [
        "X_coords = data.iloc[:,:2]\n",
        "\n",
        "model = LinearRegression()\n",
        "\n",
        "# Set up cross-validation strategy\n",
        "kf = KFold(n_splits=5, shuffle=True, random_state=42)\n",
        "\n",
        "# Perform cross-validation and calculate R2 scores\n",
        "r2_scores = cross_val_score(model, X_coords, y, cv=kf, scoring='r2')"
      ]
    },
    {
      "cell_type": "code",
      "execution_count": null,
      "metadata": {
        "colab": {
          "background_save": true
        },
        "id": "bxZkD619LtkI",
        "outputId": "3db32f43-0569-4983-e245-523cafecfdb1"
      },
      "outputs": [
        {
          "data": {
            "text/plain": [
              "0.4645777849249237"
            ]
          },
          "execution_count": 13,
          "metadata": {},
          "output_type": "execute_result"
        }
      ],
      "source": [
        "r2_scores.mean()"
      ]
    },
    {
      "cell_type": "code",
      "execution_count": null,
      "metadata": {
        "colab": {
          "background_save": true
        },
        "id": "ULkQMGYrLtkI"
      },
      "outputs": [],
      "source": []
    }
  ],
  "metadata": {
    "colab": {
      "machine_shape": "hm",
      "provenance": []
    },
    "kernelspec": {
      "display_name": "Python 3",
      "name": "python3"
    },
    "language_info": {
      "codemirror_mode": {
        "name": "ipython",
        "version": 3
      },
      "file_extension": ".py",
      "mimetype": "text/x-python",
      "name": "python",
      "nbconvert_exporter": "python",
      "pygments_lexer": "ipython3",
      "version": "3.11.5"
    }
  },
  "nbformat": 4,
  "nbformat_minor": 0
}