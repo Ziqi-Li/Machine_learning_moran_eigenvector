{
  "cells": [
    {
      "cell_type": "code",
      "execution_count": null,
      "metadata": {
        "id": "V3d6YIkcCryQ"
      },
      "outputs": [],
      "source": [
        "import numpy as np\n",
        "import pandas as pd\n",
        "import geopandas as gpd\n",
        "import matplotlib.pyplot as plt\n",
        "import pickle\n",
        "import warnings\n",
        "import re"
      ]
    },
    {
      "cell_type": "code",
      "execution_count": null,
      "metadata": {
        "colab": {
          "base_uri": "https://localhost:8080/"
        },
        "id": "BWkYOJsrCwZW",
        "outputId": "a47c5171-76cf-462f-9c20-5cfc13aff490"
      },
      "outputs": [
        {
          "data": {
            "text/plain": [
              "8"
            ]
          },
          "execution_count": 2,
          "metadata": {},
          "output_type": "execute_result"
        }
      ],
      "source": [
        "import multiprocessing\n",
        "\n",
        "cores = multiprocessing.cpu_count() # Count the number of cores in a computer\n",
        "cores"
      ]
    },
    {
      "cell_type": "code",
      "execution_count": null,
      "metadata": {
        "colab": {
          "base_uri": "https://localhost:8080/"
        },
        "id": "suhwsgNwCy_F",
        "outputId": "f8d52358-c889-4b57-d108-ecbb54fcd6ae"
      },
      "outputs": [
        {
          "name": "stdout",
          "output_type": "stream",
          "text": [
            "Requirement already satisfied: flaml in /usr/local/lib/python3.10/dist-packages (2.1.2)\n",
            "Requirement already satisfied: NumPy>=1.17 in /usr/local/lib/python3.10/dist-packages (from flaml) (1.25.2)\n"
          ]
        }
      ],
      "source": [
        "pip install flaml"
      ]
    },
    {
      "cell_type": "code",
      "execution_count": null,
      "metadata": {
        "colab": {
          "base_uri": "https://localhost:8080/"
        },
        "id": "53nPEIyjC0J8",
        "outputId": "c07342f8-8466-4416-943c-18cd2f1410b9"
      },
      "outputs": [
        {
          "name": "stdout",
          "output_type": "stream",
          "text": [
            "Drive already mounted at /content/drive; to attempt to forcibly remount, call drive.mount(\"/content/drive\", force_remount=True).\n"
          ]
        }
      ],
      "source": [
        "from google.colab import drive\n",
        "drive.mount('/content/drive')"
      ]
    },
    {
      "cell_type": "code",
      "execution_count": null,
      "metadata": {
        "id": "3KkWP4ehC1RX"
      },
      "outputs": [],
      "source": [
        "from sklearn.metrics import r2_score\n",
        "from sklearn.model_selection import KFold,cross_val_score\n",
        "from sklearn.linear_model import LassoCV,LassoLarsIC,Lasso,LinearRegression"
      ]
    },
    {
      "cell_type": "code",
      "execution_count": null,
      "metadata": {
        "id": "gNjqJINECryS"
      },
      "outputs": [],
      "source": [
        "def lasso_moran_select(data,s):\n",
        "\n",
        "    X_coords = data.iloc[:,:-3]\n",
        "\n",
        "    y = data['y']\n",
        "\n",
        "    X1 = data.X1.values\n",
        "    X2 = data.X2.values\n",
        "\n",
        "    moran = data.iloc[:,2:-3].values\n",
        "\n",
        "    moran_X1_names = [\"moran_X1_\" + str(i) for i in range(moran.shape[1])]\n",
        "    X_coords.loc[:,moran_X1_names] = moran*X1.reshape(-1,1)\n",
        "\n",
        "    moran_X2_names = [\"moran_X2_\" + str(i) for i in range(moran.shape[1])]\n",
        "    X_coords.loc[:,moran_X2_names] = moran*X2.reshape(-1,1)\n",
        "\n",
        "    kf = KFold(n_splits=5, shuffle=True, random_state=42)\n",
        "\n",
        "    if s == 'mse':\n",
        "        model = LassoCV(cv=kf,  alphas=np.logspace(-4, -2, 20))\n",
        "        model.fit(X_coords, y)\n",
        "        r2_scores = cross_val_score(model, X_coords, y, cv=kf, scoring='r2')\n",
        "\n",
        "    if s == 'bic':\n",
        "        model = LassoLarsIC(criterion='bic')\n",
        "        model.fit(X_coords, y)\n",
        "        r2_scores = cross_val_score(model, X_coords, y, cv=kf, scoring='r2')\n",
        "\n",
        "\n",
        "    selected_index = np.where(model.coef_ != 0)[0]\n",
        "    selected_feature = list(X_coords.columns[selected_index])\n",
        "\n",
        "    moran_X1s = [s for s in selected_feature if s.startswith('moran_X1_')]\n",
        "    moran_X2s = [s for s in selected_feature if s.startswith('moran_X2_')]\n",
        "    moran_s = [s for s in selected_feature if re.match(r\"^moran_\\d+$\", s)]\n",
        "\n",
        "    numbers_s = set(int(x.split('_')[1]) for x in moran_s)\n",
        "    numbers_x1 = set(int(x.split('_')[2]) for x in moran_X1s)\n",
        "    numbers_x2 = set(int(x.split('_')[2]) for x in moran_X2s)\n",
        "\n",
        "    # Find intersection of numbers in both lists\n",
        "    common_numbers = numbers_s.union(numbers_x1.union(numbers_x2))\n",
        "\n",
        "    moran_selected = ['moran_' + str(num) for num in sorted(common_numbers)]\n",
        "\n",
        "    return moran_selected"
      ]
    },
    {
      "cell_type": "code",
      "execution_count": null,
      "metadata": {
        "id": "GRJWlRAlCryT"
      },
      "outputs": [],
      "source": [
        "weights = ['exp','queen']#2\n",
        "models = ['xgboost','lgbm','rf'] #3\n",
        "selection = ['xy','all','mse','bic'] #4"
      ]
    },
    {
      "cell_type": "code",
      "execution_count": null,
      "metadata": {
        "id": "tHWaCtAzCryT"
      },
      "outputs": [],
      "source": [
        "from flaml import AutoML\n",
        "\n",
        "model = AutoML()\n",
        "\n",
        "settings = {\n",
        "    \"time_budget\": 60*30, #seconds\n",
        "    #\"max_iter\": 200,\n",
        "    \"metric\": 'r2',\n",
        "    \"task\": 'regression',\n",
        "    \"n_splits\": 5,\n",
        "    \"eval_method\": 'cv',\n",
        "    \"seed\": 111,    # random seed\n",
        "    \"verbose\":2\n",
        "}"
      ]
    },
    {
      "cell_type": "code",
      "execution_count": null,
      "metadata": {
        "colab": {
          "background_save": true
        },
        "id": "Uao3RxX0CryT",
        "outputId": "c9aab011-81d8-43d9-c4cb-f16fc221a65c"
      },
      "outputs": [
        {
          "name": "stdout",
          "output_type": "stream",
          "text": [
            "/content/drive/MyDrive/MEM Colab Runs/models/us_xgboost_moran_xy_lasso_exp.model CV-R2 = 0.931\n",
            "/content/drive/MyDrive/MEM Colab Runs/models/us_lgbm_moran_xy_lasso_exp.model CV-R2 = 0.931\n",
            "/content/drive/MyDrive/MEM Colab Runs/models/us_rf_moran_xy_lasso_exp.model CV-R2 = 0.842\n",
            "/content/drive/MyDrive/MEM Colab Runs/models/us_xgboost_moran_all_lasso_exp.model CV-R2 = 0.894\n",
            "/content/drive/MyDrive/MEM Colab Runs/models/us_lgbm_moran_all_lasso_exp.model CV-R2 = 0.895\n",
            "/content/drive/MyDrive/MEM Colab Runs/models/us_rf_moran_all_lasso_exp.model CV-R2 = 0.787\n",
            "/content/drive/MyDrive/MEM Colab Runs/models/us_xgboost_moran_mse_lasso_exp.model CV-R2 = 0.91\n",
            "/content/drive/MyDrive/MEM Colab Runs/models/us_lgbm_moran_mse_lasso_exp.model CV-R2 = 0.909\n",
            "/content/drive/MyDrive/MEM Colab Runs/models/us_rf_moran_mse_lasso_exp.model CV-R2 = 0.809\n",
            "/content/drive/MyDrive/MEM Colab Runs/models/us_xgboost_moran_bic_lasso_exp.model CV-R2 = 0.931\n",
            "/content/drive/MyDrive/MEM Colab Runs/models/us_lgbm_moran_bic_lasso_exp.model CV-R2 = 0.935\n",
            "/content/drive/MyDrive/MEM Colab Runs/models/us_rf_moran_bic_lasso_exp.model CV-R2 = 0.83\n",
            "/content/drive/MyDrive/MEM Colab Runs/models/us_xgboost_moran_xy_lasso_queen.model CV-R2 = 0.931\n",
            "/content/drive/MyDrive/MEM Colab Runs/models/us_lgbm_moran_xy_lasso_queen.model CV-R2 = 0.932\n",
            "/content/drive/MyDrive/MEM Colab Runs/models/us_rf_moran_xy_lasso_queen.model CV-R2 = 0.842\n",
            "/content/drive/MyDrive/MEM Colab Runs/models/us_xgboost_moran_all_lasso_queen.model CV-R2 = 0.841\n",
            "/content/drive/MyDrive/MEM Colab Runs/models/us_lgbm_moran_all_lasso_queen.model CV-R2 = 0.848\n",
            "/content/drive/MyDrive/MEM Colab Runs/models/us_rf_moran_all_lasso_queen.model CV-R2 = 0.717\n",
            "/content/drive/MyDrive/MEM Colab Runs/models/us_xgboost_moran_mse_lasso_queen.model CV-R2 = 0.842\n",
            "/content/drive/MyDrive/MEM Colab Runs/models/us_lgbm_moran_mse_lasso_queen.model CV-R2 = 0.854\n",
            "/content/drive/MyDrive/MEM Colab Runs/models/us_rf_moran_mse_lasso_queen.model CV-R2 = 0.721\n",
            "/content/drive/MyDrive/MEM Colab Runs/models/us_xgboost_moran_bic_lasso_queen.model CV-R2 = 0.859\n",
            "/content/drive/MyDrive/MEM Colab Runs/models/us_lgbm_moran_bic_lasso_queen.model CV-R2 = 0.873\n",
            "/content/drive/MyDrive/MEM Colab Runs/models/us_rf_moran_bic_lasso_queen.model CV-R2 = 0.737\n"
          ]
        }
      ],
      "source": [
        "warnings.filterwarnings('ignore')\n",
        "\n",
        "for w in weights:\n",
        "    data = pd.read_csv('/content/drive/MyDrive/MEM Colab Runs/data/us_moran_' + w + '.csv',index_col=0)\n",
        "\n",
        "    for s in selection:\n",
        "\n",
        "        if s == 'all':\n",
        "            selected = list(data.columns[2:-3])\n",
        "        if s == 'xy':\n",
        "            selected = list(data.columns[-3: -1])\n",
        "        if s =='mse':\n",
        "            selected = lasso_moran_select(data,s)\n",
        "        if s == 'bic':\n",
        "            selected = lasso_moran_select(data,s)\n",
        "        if s == 'aic':\n",
        "            selected = lasso_moran_select(data,s)\n",
        "\n",
        "        X_coords = data[['X1','X2']  + selected]\n",
        "\n",
        "        moran = X_coords[selected]\n",
        "        moran = (np.array(moran) - np.array(moran).mean(axis=0))/np.array(moran).std(axis=0)\n",
        "        X_coords[selected] = moran\n",
        "\n",
        "        y = data['y']\n",
        "\n",
        "        for m in models:\n",
        "            model.fit(X_coords, y, estimator_list = [m], **settings)\n",
        "\n",
        "            name = \"/content/drive/MyDrive/MEM Colab Runs/models/us_\" + m + \"_moran_\" + s + \"_lasso_\" + w + \".model\"\n",
        "\n",
        "            pickle.dump(model, open(name, 'wb'))\n",
        "\n",
        "            print(name + ' CV-R2 = {0:.3g}'.format(1-model.best_loss))"
      ]
    },
    {
      "cell_type": "code",
      "execution_count": null,
      "metadata": {
        "colab": {
          "background_save": true
        },
        "id": "_obUVQsFCryU"
      },
      "outputs": [],
      "source": []
    },
    {
      "cell_type": "code",
      "execution_count": null,
      "metadata": {
        "colab": {
          "background_save": true
        },
        "id": "MutzlbPlCryU"
      },
      "outputs": [],
      "source": []
    },
    {
      "cell_type": "code",
      "execution_count": null,
      "metadata": {
        "colab": {
          "background_save": true
        },
        "id": "i5DnayThCryU"
      },
      "outputs": [],
      "source": []
    },
    {
      "cell_type": "code",
      "execution_count": null,
      "metadata": {
        "colab": {
          "background_save": true
        },
        "id": "zQzYSgWUCryU"
      },
      "outputs": [],
      "source": []
    }
  ],
  "metadata": {
    "colab": {
      "machine_shape": "hm",
      "provenance": []
    },
    "kernelspec": {
      "display_name": "Python 3",
      "name": "python3"
    },
    "language_info": {
      "codemirror_mode": {
        "name": "ipython",
        "version": 3
      },
      "file_extension": ".py",
      "mimetype": "text/x-python",
      "name": "python",
      "nbconvert_exporter": "python",
      "pygments_lexer": "ipython3",
      "version": "3.11.5"
    }
  },
  "nbformat": 4,
  "nbformat_minor": 0
}