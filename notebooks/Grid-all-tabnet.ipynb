{
 "cells": [
  {
   "cell_type": "code",
   "execution_count": 1,
   "metadata": {},
   "outputs": [],
   "source": [
    "import numpy as np\n",
    "import pandas as pd\n",
    "import matplotlib.pyplot as plt\n",
    "import pickle\n",
    "import warnings\n",
    "import re"
   ]
  },
  {
   "cell_type": "code",
   "execution_count": 2,
   "metadata": {},
   "outputs": [],
   "source": [
    "from sklearn.metrics import r2_score\n",
    "from sklearn.model_selection import KFold,cross_val_score\n",
    "from sklearn.linear_model import LassoCV,LassoLarsIC,Lasso,LinearRegression"
   ]
  },
  {
   "cell_type": "code",
   "execution_count": 3,
   "metadata": {},
   "outputs": [],
   "source": [
    "def lasso_moran_select(data,s):\n",
    "    \n",
    "    X_coords = data.iloc[:,:-3]\n",
    "    \n",
    "    y = data['y']\n",
    "    \n",
    "    X1 = data.X1.values\n",
    "    X2 = data.X2.values\n",
    "    \n",
    "    moran = data.iloc[:,2:-3].values\n",
    "    \n",
    "    moran_X1_names = [\"moran_X1_\" + str(i) for i in range(moran.shape[1])]\n",
    "    X_coords.loc[:,moran_X1_names] = moran*X1.reshape(-1,1)\n",
    "    \n",
    "    moran_X2_names = [\"moran_X2_\" + str(i) for i in range(moran.shape[1])]\n",
    "    X_coords.loc[:,moran_X2_names] = moran*X2.reshape(-1,1)\n",
    "    \n",
    "    kf = KFold(n_splits=5, shuffle=True, random_state=42)\n",
    "    \n",
    "    if s == 'mse':\n",
    "        model = LassoCV(cv=kf,  alphas=np.logspace(-4, -2, 20))\n",
    "        model.fit(X_coords, y)\n",
    "        r2_scores = cross_val_score(model, X_coords, y, cv=kf, scoring='r2')\n",
    "        \n",
    "        print(\"MSE LASSO CV R2 score: \", np.mean(r2_scores))\n",
    "        \n",
    "    if s == 'bic':\n",
    "        model = LassoLarsIC(criterion='bic')\n",
    "        model.fit(X_coords, y)\n",
    "        \n",
    "        r2_scores = cross_val_score(model, X_coords, y, cv=kf, scoring='r2')\n",
    "        \n",
    "        print(\"BIC LASSO CV R2 score: \", np.mean(r2_scores))\n",
    "        \n",
    "\n",
    "    selected_index = np.where(model.coef_ != 0)[0]\n",
    "    selected_feature = list(X_coords.columns[selected_index])\n",
    "\n",
    "    moran_X1s = [s for s in selected_feature if s.startswith('moran_X1_')]\n",
    "    moran_X2s = [s for s in selected_feature if s.startswith('moran_X2_')]\n",
    "    moran_s = [s for s in selected_feature if re.match(r\"^moran_\\d+$\", s)]\n",
    "\n",
    "    numbers_s = set(int(x.split('_')[1]) for x in moran_s)\n",
    "    numbers_x1 = set(int(x.split('_')[2]) for x in moran_X1s)\n",
    "    numbers_x2 = set(int(x.split('_')[2]) for x in moran_X2s)\n",
    "\n",
    "    # Find intersection of numbers in both lists\n",
    "    common_numbers = numbers_s.union(numbers_x1.union(numbers_x2))\n",
    "\n",
    "    moran_selected = ['moran_' + str(num) for num in sorted(common_numbers)]\n",
    "    \n",
    "    return moran_selected"
   ]
  },
  {
   "cell_type": "code",
   "execution_count": 4,
   "metadata": {},
   "outputs": [],
   "source": [
    "from tabnet_model import TabNet_fit"
   ]
  },
  {
   "cell_type": "code",
   "execution_count": 5,
   "metadata": {},
   "outputs": [],
   "source": [
    "weights = ['queen','exp'] #2\n",
    "models = ['tabnet'] #1\n",
    "selection = ['xy','all','mse','bic'] #4"
   ]
  },
  {
   "cell_type": "code",
   "execution_count": 6,
   "metadata": {},
   "outputs": [
    {
     "name": "stderr",
     "output_type": "stream",
     "text": [
      "[I 2024-05-09 17:29:02,180] A new study created in memory with name: no-name-7a7ad317-a2ea-4621-8c3b-67d425945f61\n"
     ]
    },
    {
     "name": "stdout",
     "output_type": "stream",
     "text": [
      "\n",
      "Early stopping occurred at epoch 362 with best_epoch = 290 and best_val_0_rmse = 0.79886\n",
      "Stop training because you reached max_epochs = 369 with best_epoch = 328 and best_val_0_rmse = 0.71172\n",
      "Stop training because you reached max_epochs = 369 with best_epoch = 363 and best_val_0_rmse = 0.77065\n",
      "Stop training because you reached max_epochs = 369 with best_epoch = 357 and best_val_0_rmse = 0.82278\n"
     ]
    },
    {
     "name": "stderr",
     "output_type": "stream",
     "text": [
      "[I 2024-05-09 17:31:10,141] Trial 0 finished with value: -0.9465930317783684 and parameters: {'mask_type': 'sparsemax', 'n_da': 64, 'n_steps': 3, 'gamma': 1.1, 'n_shared': 1, 'lambda_sparse': 1.951722464144948e-08, 'patienceScheduler': 14, 'patience': 72, 'epochs': 369}. Best is trial 0 with value: -0.9465930317783684.\n"
     ]
    },
    {
     "name": "stdout",
     "output_type": "stream",
     "text": [
      "Stop training because you reached max_epochs = 369 with best_epoch = 366 and best_val_0_rmse = 0.79889\n",
      "Stop training because you reached max_epochs = 181 with best_epoch = 176 and best_val_0_rmse = 1.07735\n",
      "Stop training because you reached max_epochs = 181 with best_epoch = 167 and best_val_0_rmse = 0.86404\n",
      "Stop training because you reached max_epochs = 181 with best_epoch = 170 and best_val_0_rmse = 1.16619\n",
      "Stop training because you reached max_epochs = 181 with best_epoch = 180 and best_val_0_rmse = 0.95872\n"
     ]
    },
    {
     "name": "stderr",
     "output_type": "stream",
     "text": [
      "[I 2024-05-09 17:31:58,202] Trial 1 finished with value: -0.9114547178890305 and parameters: {'mask_type': 'sparsemax', 'n_da': 64, 'n_steps': 2, 'gamma': 1.1, 'n_shared': 1, 'lambda_sparse': 3.3205591037519537e-07, 'patienceScheduler': 9, 'patience': 60, 'epochs': 181}. Best is trial 0 with value: -0.9465930317783684.\n"
     ]
    },
    {
     "name": "stdout",
     "output_type": "stream",
     "text": [
      "Stop training because you reached max_epochs = 181 with best_epoch = 169 and best_val_0_rmse = 0.95262\n",
      "Stop training because you reached max_epochs = 70 with best_epoch = 66 and best_val_0_rmse = 0.9272\n",
      "Stop training because you reached max_epochs = 70 with best_epoch = 69 and best_val_0_rmse = 0.95239\n",
      "Stop training because you reached max_epochs = 70 with best_epoch = 69 and best_val_0_rmse = 0.87378\n",
      "Stop training because you reached max_epochs = 70 with best_epoch = 67 and best_val_0_rmse = 0.91442\n"
     ]
    },
    {
     "name": "stderr",
     "output_type": "stream",
     "text": [
      "[I 2024-05-09 17:32:30,790] Trial 2 finished with value: -0.9260908169120569 and parameters: {'mask_type': 'entmax', 'n_da': 56, 'n_steps': 2, 'gamma': 1.3, 'n_shared': 4, 'lambda_sparse': 9.9625132220551e-08, 'patienceScheduler': 9, 'patience': 72, 'epochs': 70}. Best is trial 0 with value: -0.9465930317783684.\n"
     ]
    },
    {
     "name": "stdout",
     "output_type": "stream",
     "text": [
      "Stop training because you reached max_epochs = 70 with best_epoch = 62 and best_val_0_rmse = 0.91564\n",
      "Stop training because you reached max_epochs = 248 with best_epoch = 239 and best_val_0_rmse = 1.08835\n",
      "Stop training because you reached max_epochs = 248 with best_epoch = 241 and best_val_0_rmse = 0.96839\n",
      "Stop training because you reached max_epochs = 248 with best_epoch = 225 and best_val_0_rmse = 1.19497\n",
      "Stop training because you reached max_epochs = 248 with best_epoch = 245 and best_val_0_rmse = 1.00873\n"
     ]
    },
    {
     "name": "stderr",
     "output_type": "stream",
     "text": [
      "[I 2024-05-09 17:36:59,347] Trial 3 finished with value: -0.9035869495372204 and parameters: {'mask_type': 'entmax', 'n_da': 56, 'n_steps': 5, 'gamma': 1.6, 'n_shared': 5, 'lambda_sparse': 3.3347927286375814e-07, 'patienceScheduler': 4, 'patience': 78, 'epochs': 248}. Best is trial 0 with value: -0.9465930317783684.\n"
     ]
    },
    {
     "name": "stdout",
     "output_type": "stream",
     "text": [
      "Stop training because you reached max_epochs = 248 with best_epoch = 178 and best_val_0_rmse = 0.98523\n",
      "Stop training because you reached max_epochs = 133 with best_epoch = 128 and best_val_0_rmse = 1.07308\n",
      "Stop training because you reached max_epochs = 133 with best_epoch = 132 and best_val_0_rmse = 0.88552\n",
      "Stop training because you reached max_epochs = 133 with best_epoch = 127 and best_val_0_rmse = 0.93583\n",
      "Stop training because you reached max_epochs = 133 with best_epoch = 131 and best_val_0_rmse = 0.93615\n"
     ]
    },
    {
     "name": "stderr",
     "output_type": "stream",
     "text": [
      "[I 2024-05-09 17:39:49,960] Trial 4 finished with value: -0.9225521253323979 and parameters: {'mask_type': 'sparsemax', 'n_da': 56, 'n_steps': 5, 'gamma': 1.1, 'n_shared': 4, 'lambda_sparse': 3.618723330959616e-07, 'patienceScheduler': 9, 'patience': 68, 'epochs': 133}. Best is trial 0 with value: -0.9465930317783684.\n"
     ]
    },
    {
     "name": "stdout",
     "output_type": "stream",
     "text": [
      "Stop training because you reached max_epochs = 133 with best_epoch = 132 and best_val_0_rmse = 0.84482\n",
      "Stop training because you reached max_epochs = 196 with best_epoch = 183 and best_val_0_rmse = 0.88485\n",
      "\n",
      "Early stopping occurred at epoch 161 with best_epoch = 128 and best_val_0_rmse = 0.98291\n",
      "Stop training because you reached max_epochs = 196 with best_epoch = 194 and best_val_0_rmse = 0.94881\n",
      "\n",
      "Early stopping occurred at epoch 149 with best_epoch = 116 and best_val_0_rmse = 0.90193\n"
     ]
    },
    {
     "name": "stderr",
     "output_type": "stream",
     "text": [
      "[I 2024-05-09 17:44:39,909] Trial 5 finished with value: -0.9248784188226216 and parameters: {'mask_type': 'entmax', 'n_da': 64, 'n_steps': 5, 'gamma': 1.4, 'n_shared': 5, 'lambda_sparse': 2.7698899227562766e-08, 'patienceScheduler': 5, 'patience': 33, 'epochs': 196}. Best is trial 0 with value: -0.9465930317783684.\n"
     ]
    },
    {
     "name": "stdout",
     "output_type": "stream",
     "text": [
      "Stop training because you reached max_epochs = 196 with best_epoch = 169 and best_val_0_rmse = 0.90944\n",
      "\n",
      "Early stopping occurred at epoch 261 with best_epoch = 226 and best_val_0_rmse = 0.73566\n",
      "\n",
      "Early stopping occurred at epoch 316 with best_epoch = 281 and best_val_0_rmse = 0.66614\n",
      "\n",
      "Early stopping occurred at epoch 246 with best_epoch = 211 and best_val_0_rmse = 0.69443\n",
      "\n",
      "Early stopping occurred at epoch 310 with best_epoch = 275 and best_val_0_rmse = 0.71174\n"
     ]
    },
    {
     "name": "stderr",
     "output_type": "stream",
     "text": [
      "[I 2024-05-09 17:47:39,817] Trial 6 finished with value: -0.9575982277178381 and parameters: {'mask_type': 'entmax', 'n_da': 64, 'n_steps': 2, 'gamma': 1.1, 'n_shared': 3, 'lambda_sparse': 5.0654860639753365e-08, 'patienceScheduler': 13, 'patience': 35, 'epochs': 495}. Best is trial 6 with value: -0.9575982277178381.\n"
     ]
    },
    {
     "name": "stdout",
     "output_type": "stream",
     "text": [
      "\n",
      "Early stopping occurred at epoch 333 with best_epoch = 298 and best_val_0_rmse = 0.66651\n",
      "Stop training because you reached max_epochs = 102 with best_epoch = 101 and best_val_0_rmse = 1.04077\n",
      "Stop training because you reached max_epochs = 102 with best_epoch = 95 and best_val_0_rmse = 1.10167\n",
      "Stop training because you reached max_epochs = 102 with best_epoch = 101 and best_val_0_rmse = 0.97257\n",
      "Stop training because you reached max_epochs = 102 with best_epoch = 101 and best_val_0_rmse = 1.20847\n"
     ]
    },
    {
     "name": "stderr",
     "output_type": "stream",
     "text": [
      "[I 2024-05-09 17:49:39,626] Trial 7 finished with value: -0.8983062978336595 and parameters: {'mask_type': 'entmax', 'n_da': 56, 'n_steps': 5, 'gamma': 1.4, 'n_shared': 4, 'lambda_sparse': 7.183758655813986e-05, 'patienceScheduler': 3, 'patience': 55, 'epochs': 102}. Best is trial 6 with value: -0.9575982277178381.\n"
     ]
    },
    {
     "name": "stdout",
     "output_type": "stream",
     "text": [
      "Stop training because you reached max_epochs = 102 with best_epoch = 101 and best_val_0_rmse = 1.04166\n",
      "Stop training because you reached max_epochs = 262 with best_epoch = 261 and best_val_0_rmse = 0.79083\n",
      "Stop training because you reached max_epochs = 262 with best_epoch = 249 and best_val_0_rmse = 0.65871\n",
      "Stop training because you reached max_epochs = 262 with best_epoch = 248 and best_val_0_rmse = 0.7263\n",
      "Stop training because you reached max_epochs = 262 with best_epoch = 225 and best_val_0_rmse = 0.68576\n"
     ]
    },
    {
     "name": "stderr",
     "output_type": "stream",
     "text": [
      "[I 2024-05-09 17:50:47,221] Trial 8 finished with value: -0.9561958144964342 and parameters: {'mask_type': 'entmax', 'n_da': 56, 'n_steps': 1, 'gamma': 1.2, 'n_shared': 2, 'lambda_sparse': 4.446628955475447e-05, 'patienceScheduler': 11, 'patience': 92, 'epochs': 262}. Best is trial 6 with value: -0.9575982277178381.\n"
     ]
    },
    {
     "name": "stdout",
     "output_type": "stream",
     "text": [
      "Stop training because you reached max_epochs = 262 with best_epoch = 258 and best_val_0_rmse = 0.66257\n",
      "Stop training because you reached max_epochs = 98 with best_epoch = 85 and best_val_0_rmse = 1.09472\n",
      "Stop training because you reached max_epochs = 98 with best_epoch = 97 and best_val_0_rmse = 1.31641\n",
      "Stop training because you reached max_epochs = 98 with best_epoch = 97 and best_val_0_rmse = 1.0699\n",
      "Stop training because you reached max_epochs = 98 with best_epoch = 96 and best_val_0_rmse = 1.05192\n"
     ]
    },
    {
     "name": "stderr",
     "output_type": "stream",
     "text": [
      "[I 2024-05-09 17:51:50,151] Trial 9 finished with value: -0.8895297694297144 and parameters: {'mask_type': 'sparsemax', 'n_da': 64, 'n_steps': 3, 'gamma': 1.5, 'n_shared': 3, 'lambda_sparse': 4.1083188946999205e-06, 'patienceScheduler': 8, 'patience': 31, 'epochs': 98}. Best is trial 6 with value: -0.9575982277178381.\n"
     ]
    },
    {
     "name": "stdout",
     "output_type": "stream",
     "text": [
      "Stop training because you reached max_epochs = 98 with best_epoch = 94 and best_val_0_rmse = 1.03762\n",
      "\n",
      "Early stopping occurred at epoch 328 with best_epoch = 282 and best_val_0_rmse = 0.74304\n",
      "\n",
      "Early stopping occurred at epoch 395 with best_epoch = 349 and best_val_0_rmse = 0.63726\n",
      "\n",
      "Early stopping occurred at epoch 316 with best_epoch = 270 and best_val_0_rmse = 0.67342\n",
      "\n",
      "Early stopping occurred at epoch 317 with best_epoch = 271 and best_val_0_rmse = 0.68642\n"
     ]
    },
    {
     "name": "stderr",
     "output_type": "stream",
     "text": [
      "[I 2024-05-09 17:53:23,833] Trial 10 finished with value: -0.9599054529392832 and parameters: {'mask_type': 'entmax', 'n_da': 60, 'n_steps': 1, 'gamma': 1.0, 'n_shared': 2, 'lambda_sparse': 5.066634090043089e-06, 'patienceScheduler': 15, 'patience': 46, 'epochs': 487}. Best is trial 10 with value: -0.9599054529392832.\n"
     ]
    },
    {
     "name": "stdout",
     "output_type": "stream",
     "text": [
      "\n",
      "Early stopping occurred at epoch 368 with best_epoch = 322 and best_val_0_rmse = 0.63275\n",
      "\n",
      "Early stopping occurred at epoch 324 with best_epoch = 282 and best_val_0_rmse = 0.74371\n",
      "\n",
      "Early stopping occurred at epoch 291 with best_epoch = 249 and best_val_0_rmse = 0.65252\n",
      "\n",
      "Early stopping occurred at epoch 317 with best_epoch = 275 and best_val_0_rmse = 0.66514\n",
      "\n",
      "Early stopping occurred at epoch 313 with best_epoch = 271 and best_val_0_rmse = 0.68272\n"
     ]
    },
    {
     "name": "stderr",
     "output_type": "stream",
     "text": [
      "[I 2024-05-09 17:54:49,664] Trial 11 finished with value: -0.9597164801216161 and parameters: {'mask_type': 'entmax', 'n_da': 60, 'n_steps': 1, 'gamma': 1.0, 'n_shared': 2, 'lambda_sparse': 8.316169400244493e-06, 'patienceScheduler': 15, 'patience': 42, 'epochs': 500}. Best is trial 10 with value: -0.9599054529392832.\n"
     ]
    },
    {
     "name": "stdout",
     "output_type": "stream",
     "text": [
      "\n",
      "Early stopping occurred at epoch 325 with best_epoch = 283 and best_val_0_rmse = 0.63563\n",
      "\n",
      "Early stopping occurred at epoch 329 with best_epoch = 282 and best_val_0_rmse = 0.75422\n",
      "\n",
      "Early stopping occurred at epoch 351 with best_epoch = 304 and best_val_0_rmse = 0.64353\n",
      "\n",
      "Early stopping occurred at epoch 317 with best_epoch = 270 and best_val_0_rmse = 0.67501\n",
      "\n",
      "Early stopping occurred at epoch 319 with best_epoch = 272 and best_val_0_rmse = 0.68102\n"
     ]
    },
    {
     "name": "stderr",
     "output_type": "stream",
     "text": [
      "[I 2024-05-09 17:56:22,539] Trial 12 finished with value: -0.9594830562008182 and parameters: {'mask_type': 'entmax', 'n_da': 60, 'n_steps': 1, 'gamma': 1.0, 'n_shared': 2, 'lambda_sparse': 7.00719461285498e-06, 'patienceScheduler': 15, 'patience': 47, 'epochs': 497}. Best is trial 10 with value: -0.9599054529392832.\n"
     ]
    },
    {
     "name": "stdout",
     "output_type": "stream",
     "text": [
      "\n",
      "Early stopping occurred at epoch 366 with best_epoch = 319 and best_val_0_rmse = 0.63501\n",
      "\n",
      "Early stopping occurred at epoch 269 with best_epoch = 223 and best_val_0_rmse = 0.78078\n",
      "\n",
      "Early stopping occurred at epoch 318 with best_epoch = 272 and best_val_0_rmse = 0.6825\n",
      "\n",
      "Early stopping occurred at epoch 321 with best_epoch = 275 and best_val_0_rmse = 0.68488\n",
      "\n",
      "Early stopping occurred at epoch 310 with best_epoch = 264 and best_val_0_rmse = 0.68891\n"
     ]
    },
    {
     "name": "stderr",
     "output_type": "stream",
     "text": [
      "[I 2024-05-09 17:57:45,661] Trial 13 finished with value: -0.9569362925502007 and parameters: {'mask_type': 'entmax', 'n_da': 60, 'n_steps': 1, 'gamma': 1.0, 'n_shared': 2, 'lambda_sparse': 1.5257368639860137e-05, 'patienceScheduler': 12, 'patience': 46, 'epochs': 395}. Best is trial 10 with value: -0.9599054529392832.\n"
     ]
    },
    {
     "name": "stdout",
     "output_type": "stream",
     "text": [
      "\n",
      "Early stopping occurred at epoch 338 with best_epoch = 292 and best_val_0_rmse = 0.65373\n",
      "\n",
      "Early stopping occurred at epoch 339 with best_epoch = 295 and best_val_0_rmse = 0.75561\n",
      "\n",
      "Early stopping occurred at epoch 402 with best_epoch = 358 and best_val_0_rmse = 0.6429\n",
      "\n",
      "Early stopping occurred at epoch 235 with best_epoch = 191 and best_val_0_rmse = 0.66744\n",
      "\n",
      "Early stopping occurred at epoch 407 with best_epoch = 363 and best_val_0_rmse = 0.66844\n"
     ]
    },
    {
     "name": "stderr",
     "output_type": "stream",
     "text": [
      "[I 2024-05-09 17:59:18,486] Trial 14 finished with value: -0.9596020165547209 and parameters: {'mask_type': 'entmax', 'n_da': 60, 'n_steps': 1, 'gamma': 1.0, 'n_shared': 2, 'lambda_sparse': 0.0003228682044844314, 'patienceScheduler': 15, 'patience': 44, 'epochs': 420}. Best is trial 10 with value: -0.9599054529392832.\n"
     ]
    },
    {
     "name": "stdout",
     "output_type": "stream",
     "text": [
      "\n",
      "Early stopping occurred at epoch 336 with best_epoch = 292 and best_val_0_rmse = 0.64905\n"
     ]
    },
    {
     "name": "stderr",
     "output_type": "stream",
     "text": [
      "[I 2024-05-09 18:00:02,374] A new study created in memory with name: no-name-741360f1-ec07-42d3-ba51-7fcea8901d3c\n"
     ]
    },
    {
     "name": "stdout",
     "output_type": "stream",
     "text": [
      "models/grid_tabnet_moran_xy_lasso_queen.model CV-R2 = 0.96\n",
      "\n",
      "Early stopping occurred at epoch 201 with best_epoch = 129 and best_val_0_rmse = 2.86664\n",
      "\n",
      "Early stopping occurred at epoch 334 with best_epoch = 262 and best_val_0_rmse = 2.95953\n",
      "\n",
      "Early stopping occurred at epoch 176 with best_epoch = 104 and best_val_0_rmse = 2.69625\n",
      "\n",
      "Early stopping occurred at epoch 176 with best_epoch = 104 and best_val_0_rmse = 2.59332\n"
     ]
    },
    {
     "name": "stderr",
     "output_type": "stream",
     "text": [
      "[I 2024-05-09 18:02:05,651] Trial 0 finished with value: -0.3018798169036943 and parameters: {'mask_type': 'sparsemax', 'n_da': 64, 'n_steps': 3, 'gamma': 1.1, 'n_shared': 1, 'lambda_sparse': 1.951722464144948e-08, 'patienceScheduler': 14, 'patience': 72, 'epochs': 369}. Best is trial 0 with value: -0.3018798169036943.\n"
     ]
    },
    {
     "name": "stdout",
     "output_type": "stream",
     "text": [
      "\n",
      "Early stopping occurred at epoch 188 with best_epoch = 116 and best_val_0_rmse = 2.95491\n",
      "\n",
      "Early stopping occurred at epoch 80 with best_epoch = 20 and best_val_0_rmse = 3.57111\n",
      "\n",
      "Early stopping occurred at epoch 102 with best_epoch = 42 and best_val_0_rmse = 3.50911\n",
      "\n",
      "Early stopping occurred at epoch 95 with best_epoch = 35 and best_val_0_rmse = 3.79874\n",
      "\n",
      "Early stopping occurred at epoch 71 with best_epoch = 11 and best_val_0_rmse = 3.72368\n"
     ]
    },
    {
     "name": "stderr",
     "output_type": "stream",
     "text": [
      "[I 2024-05-09 18:02:42,421] Trial 1 finished with value: 0.16375764034568493 and parameters: {'mask_type': 'sparsemax', 'n_da': 64, 'n_steps': 2, 'gamma': 1.1, 'n_shared': 1, 'lambda_sparse': 3.3205591037519537e-07, 'patienceScheduler': 9, 'patience': 60, 'epochs': 181}. Best is trial 0 with value: -0.3018798169036943.\n"
     ]
    },
    {
     "name": "stdout",
     "output_type": "stream",
     "text": [
      "\n",
      "Early stopping occurred at epoch 73 with best_epoch = 13 and best_val_0_rmse = 3.64868\n",
      "Stop training because you reached max_epochs = 70 with best_epoch = 69 and best_val_0_rmse = 2.80639\n",
      "Stop training because you reached max_epochs = 70 with best_epoch = 67 and best_val_0_rmse = 2.76389\n",
      "Stop training because you reached max_epochs = 70 with best_epoch = 45 and best_val_0_rmse = 2.91766\n",
      "Stop training because you reached max_epochs = 70 with best_epoch = 68 and best_val_0_rmse = 2.93213\n"
     ]
    },
    {
     "name": "stderr",
     "output_type": "stream",
     "text": [
      "[I 2024-05-09 18:03:25,760] Trial 2 finished with value: -0.3011911885195479 and parameters: {'mask_type': 'entmax', 'n_da': 56, 'n_steps': 2, 'gamma': 1.3, 'n_shared': 4, 'lambda_sparse': 9.9625132220551e-08, 'patienceScheduler': 9, 'patience': 72, 'epochs': 70}. Best is trial 0 with value: -0.3018798169036943.\n"
     ]
    },
    {
     "name": "stdout",
     "output_type": "stream",
     "text": [
      "Stop training because you reached max_epochs = 70 with best_epoch = 63 and best_val_0_rmse = 2.71112\n",
      "\n",
      "Early stopping occurred at epoch 221 with best_epoch = 143 and best_val_0_rmse = 2.88688\n",
      "\n",
      "Early stopping occurred at epoch 196 with best_epoch = 118 and best_val_0_rmse = 3.0302\n",
      "Stop training because you reached max_epochs = 248 with best_epoch = 226 and best_val_0_rmse = 2.56421\n",
      "\n",
      "Early stopping occurred at epoch 114 with best_epoch = 36 and best_val_0_rmse = 3.44194\n"
     ]
    },
    {
     "name": "stderr",
     "output_type": "stream",
     "text": [
      "[I 2024-05-09 18:08:13,634] Trial 3 finished with value: -0.23291667318125125 and parameters: {'mask_type': 'entmax', 'n_da': 56, 'n_steps': 5, 'gamma': 1.6, 'n_shared': 5, 'lambda_sparse': 3.3347927286375814e-07, 'patienceScheduler': 4, 'patience': 78, 'epochs': 248}. Best is trial 0 with value: -0.3018798169036943.\n"
     ]
    },
    {
     "name": "stdout",
     "output_type": "stream",
     "text": [
      "\n",
      "Early stopping occurred at epoch 235 with best_epoch = 157 and best_val_0_rmse = 2.76569\n",
      "Stop training because you reached max_epochs = 133 with best_epoch = 89 and best_val_0_rmse = 2.74502\n",
      "Stop training because you reached max_epochs = 133 with best_epoch = 128 and best_val_0_rmse = 2.33193\n",
      "Stop training because you reached max_epochs = 133 with best_epoch = 118 and best_val_0_rmse = 2.59759\n",
      "Stop training because you reached max_epochs = 133 with best_epoch = 93 and best_val_0_rmse = 2.38809\n",
      "Stop training because you reached max_epochs = 133 with best_epoch = 121 and best_val_0_rmse = 2.62883\n"
     ]
    },
    {
     "name": "stderr",
     "output_type": "stream",
     "text": [
      "[I 2024-05-09 18:10:58,211] Trial 4 finished with value: -0.43383660008701447 and parameters: {'mask_type': 'sparsemax', 'n_da': 56, 'n_steps': 5, 'gamma': 1.1, 'n_shared': 4, 'lambda_sparse': 3.618723330959616e-07, 'patienceScheduler': 9, 'patience': 68, 'epochs': 133}. Best is trial 4 with value: -0.43383660008701447.\n"
     ]
    },
    {
     "name": "stdout",
     "output_type": "stream",
     "text": [
      "\n",
      "Early stopping occurred at epoch 153 with best_epoch = 120 and best_val_0_rmse = 2.74571\n",
      "Stop training because you reached max_epochs = 196 with best_epoch = 166 and best_val_0_rmse = 2.54666\n",
      "\n",
      "Early stopping occurred at epoch 118 with best_epoch = 85 and best_val_0_rmse = 2.64371\n",
      "\n",
      "Early stopping occurred at epoch 159 with best_epoch = 126 and best_val_0_rmse = 2.73681\n",
      "\n",
      "Early stopping occurred at epoch 96 with best_epoch = 63 and best_val_0_rmse = 2.81038\n"
     ]
    },
    {
     "name": "stderr",
     "output_type": "stream",
     "text": [
      "[I 2024-05-09 18:14:37,649] Trial 5 finished with value: -0.36272745585395183 and parameters: {'mask_type': 'entmax', 'n_da': 64, 'n_steps': 5, 'gamma': 1.4, 'n_shared': 5, 'lambda_sparse': 2.7698899227562766e-08, 'patienceScheduler': 5, 'patience': 33, 'epochs': 196}. Best is trial 4 with value: -0.43383660008701447.\n"
     ]
    },
    {
     "name": "stdout",
     "output_type": "stream",
     "text": [
      "\n",
      "Early stopping occurred at epoch 244 with best_epoch = 209 and best_val_0_rmse = 2.58381\n",
      "\n",
      "Early stopping occurred at epoch 170 with best_epoch = 135 and best_val_0_rmse = 2.54538\n",
      "\n",
      "Early stopping occurred at epoch 142 with best_epoch = 107 and best_val_0_rmse = 2.54894\n",
      "\n",
      "Early stopping occurred at epoch 200 with best_epoch = 165 and best_val_0_rmse = 2.42541\n"
     ]
    },
    {
     "name": "stderr",
     "output_type": "stream",
     "text": [
      "[I 2024-05-09 18:16:22,767] Trial 6 finished with value: -0.4449426201461252 and parameters: {'mask_type': 'entmax', 'n_da': 64, 'n_steps': 2, 'gamma': 1.1, 'n_shared': 3, 'lambda_sparse': 5.0654860639753365e-08, 'patienceScheduler': 13, 'patience': 35, 'epochs': 495}. Best is trial 6 with value: -0.4449426201461252.\n"
     ]
    },
    {
     "name": "stdout",
     "output_type": "stream",
     "text": [
      "\n",
      "Early stopping occurred at epoch 122 with best_epoch = 87 and best_val_0_rmse = 2.47356\n",
      "Stop training because you reached max_epochs = 102 with best_epoch = 98 and best_val_0_rmse = 3.26837\n",
      "Stop training because you reached max_epochs = 102 with best_epoch = 99 and best_val_0_rmse = 2.69664\n",
      "Stop training because you reached max_epochs = 102 with best_epoch = 99 and best_val_0_rmse = 2.87928\n",
      "Stop training because you reached max_epochs = 102 with best_epoch = 75 and best_val_0_rmse = 2.7223\n",
      "Stop training because you reached max_epochs = 102 with best_epoch = 72 and best_val_0_rmse = 2.67467\n"
     ]
    },
    {
     "name": "stderr",
     "output_type": "stream",
     "text": [
      "[I 2024-05-09 18:18:43,817] Trial 7 finished with value: -0.28227111095923363 and parameters: {'mask_type': 'entmax', 'n_da': 56, 'n_steps': 5, 'gamma': 1.4, 'n_shared': 4, 'lambda_sparse': 7.183758655813986e-05, 'patienceScheduler': 3, 'patience': 55, 'epochs': 102}. Best is trial 6 with value: -0.4449426201461252.\n"
     ]
    },
    {
     "name": "stdout",
     "output_type": "stream",
     "text": [
      "\n",
      "Early stopping occurred at epoch 237 with best_epoch = 145 and best_val_0_rmse = 2.5505\n",
      "Stop training because you reached max_epochs = 262 with best_epoch = 252 and best_val_0_rmse = 2.84127\n",
      "\n",
      "Early stopping occurred at epoch 167 with best_epoch = 75 and best_val_0_rmse = 3.52898\n",
      "Stop training because you reached max_epochs = 262 with best_epoch = 172 and best_val_0_rmse = 2.4471\n"
     ]
    },
    {
     "name": "stderr",
     "output_type": "stream",
     "text": [
      "[I 2024-05-09 18:20:18,175] Trial 8 finished with value: -0.2604074772458624 and parameters: {'mask_type': 'entmax', 'n_da': 56, 'n_steps': 1, 'gamma': 1.2, 'n_shared': 2, 'lambda_sparse': 4.446628955475447e-05, 'patienceScheduler': 11, 'patience': 92, 'epochs': 262}. Best is trial 6 with value: -0.4449426201461252.\n"
     ]
    },
    {
     "name": "stdout",
     "output_type": "stream",
     "text": [
      "Stop training because you reached max_epochs = 262 with best_epoch = 245 and best_val_0_rmse = 3.13019\n",
      "Stop training because you reached max_epochs = 98 with best_epoch = 94 and best_val_0_rmse = 2.90248\n",
      "Stop training because you reached max_epochs = 98 with best_epoch = 82 and best_val_0_rmse = 2.88519\n",
      "Stop training because you reached max_epochs = 98 with best_epoch = 79 and best_val_0_rmse = 2.73449\n",
      "Stop training because you reached max_epochs = 98 with best_epoch = 97 and best_val_0_rmse = 2.92259\n"
     ]
    },
    {
     "name": "stderr",
     "output_type": "stream",
     "text": [
      "[I 2024-05-09 18:21:33,993] Trial 9 finished with value: -0.1908461557090831 and parameters: {'mask_type': 'sparsemax', 'n_da': 64, 'n_steps': 3, 'gamma': 1.5, 'n_shared': 3, 'lambda_sparse': 4.1083188946999205e-06, 'patienceScheduler': 8, 'patience': 31, 'epochs': 98}. Best is trial 6 with value: -0.4449426201461252.\n"
     ]
    },
    {
     "name": "stdout",
     "output_type": "stream",
     "text": [
      "\n",
      "Early stopping occurred at epoch 43 with best_epoch = 12 and best_val_0_rmse = 3.66869\n",
      "\n",
      "Early stopping occurred at epoch 241 with best_epoch = 195 and best_val_0_rmse = 2.68607\n",
      "\n",
      "Early stopping occurred at epoch 176 with best_epoch = 130 and best_val_0_rmse = 2.43605\n",
      "\n",
      "Early stopping occurred at epoch 314 with best_epoch = 268 and best_val_0_rmse = 2.47298\n",
      "\n",
      "Early stopping occurred at epoch 203 with best_epoch = 157 and best_val_0_rmse = 2.51356\n"
     ]
    },
    {
     "name": "stderr",
     "output_type": "stream",
     "text": [
      "[I 2024-05-09 18:22:50,003] Trial 10 finished with value: -0.3929350249400577 and parameters: {'mask_type': 'entmax', 'n_da': 60, 'n_steps': 1, 'gamma': 1.0, 'n_shared': 2, 'lambda_sparse': 5.066634090043089e-06, 'patienceScheduler': 15, 'patience': 46, 'epochs': 487}. Best is trial 6 with value: -0.4449426201461252.\n"
     ]
    },
    {
     "name": "stdout",
     "output_type": "stream",
     "text": [
      "\n",
      "Early stopping occurred at epoch 174 with best_epoch = 128 and best_val_0_rmse = 3.01255\n",
      "\n",
      "Early stopping occurred at epoch 199 with best_epoch = 109 and best_val_0_rmse = 2.68928\n",
      "\n",
      "Early stopping occurred at epoch 225 with best_epoch = 135 and best_val_0_rmse = 2.22497\n",
      "\n",
      "Early stopping occurred at epoch 171 with best_epoch = 81 and best_val_0_rmse = 2.57551\n",
      "\n",
      "Early stopping occurred at epoch 211 with best_epoch = 121 and best_val_0_rmse = 2.45535\n"
     ]
    },
    {
     "name": "stderr",
     "output_type": "stream",
     "text": [
      "[I 2024-05-09 18:26:12,643] Trial 11 finished with value: -0.45135317737931324 and parameters: {'mask_type': 'sparsemax', 'n_da': 60, 'n_steps': 4, 'gamma': 1.0, 'n_shared': 3, 'lambda_sparse': 6.189832776675734e-07, 'patienceScheduler': 12, 'patience': 90, 'epochs': 378}. Best is trial 11 with value: -0.45135317737931324.\n"
     ]
    },
    {
     "name": "stdout",
     "output_type": "stream",
     "text": [
      "\n",
      "Early stopping occurred at epoch 177 with best_epoch = 87 and best_val_0_rmse = 2.55558\n",
      "\n",
      "Early stopping occurred at epoch 227 with best_epoch = 127 and best_val_0_rmse = 2.70772\n",
      "\n",
      "Early stopping occurred at epoch 260 with best_epoch = 160 and best_val_0_rmse = 2.39216\n",
      "\n",
      "Early stopping occurred at epoch 201 with best_epoch = 101 and best_val_0_rmse = 2.31032\n",
      "\n",
      "Early stopping occurred at epoch 181 with best_epoch = 81 and best_val_0_rmse = 2.37197\n"
     ]
    },
    {
     "name": "stderr",
     "output_type": "stream",
     "text": [
      "[I 2024-05-09 18:29:48,080] Trial 12 finished with value: -0.4623549419821531 and parameters: {'mask_type': 'sparsemax', 'n_da': 60, 'n_steps': 4, 'gamma': 1.0, 'n_shared': 3, 'lambda_sparse': 1.3820217003696026e-06, 'patienceScheduler': 12, 'patience': 100, 'epochs': 498}. Best is trial 12 with value: -0.4623549419821531.\n"
     ]
    },
    {
     "name": "stdout",
     "output_type": "stream",
     "text": [
      "\n",
      "Early stopping occurred at epoch 167 with best_epoch = 67 and best_val_0_rmse = 2.55424\n",
      "\n",
      "Early stopping occurred at epoch 162 with best_epoch = 62 and best_val_0_rmse = 3.34487\n",
      "\n",
      "Early stopping occurred at epoch 316 with best_epoch = 216 and best_val_0_rmse = 2.22846\n",
      "\n",
      "Early stopping occurred at epoch 260 with best_epoch = 160 and best_val_0_rmse = 2.42496\n",
      "\n",
      "Early stopping occurred at epoch 220 with best_epoch = 120 and best_val_0_rmse = 2.39724\n"
     ]
    },
    {
     "name": "stderr",
     "output_type": "stream",
     "text": [
      "[I 2024-05-09 18:33:19,535] Trial 13 finished with value: -0.34358219703967374 and parameters: {'mask_type': 'sparsemax', 'n_da': 60, 'n_steps': 4, 'gamma': 1.0, 'n_shared': 2, 'lambda_sparse': 1.656024036510825e-06, 'patienceScheduler': 12, 'patience': 100, 'epochs': 386}. Best is trial 12 with value: -0.4623549419821531.\n"
     ]
    },
    {
     "name": "stdout",
     "output_type": "stream",
     "text": [
      "\n",
      "Early stopping occurred at epoch 210 with best_epoch = 110 and best_val_0_rmse = 3.06912\n",
      "models/grid_tabnet_moran_all_lasso_queen.model CV-R2 = 0.462\n"
     ]
    },
    {
     "name": "stderr",
     "output_type": "stream",
     "text": [
      "[I 2024-05-09 18:36:13,379] A new study created in memory with name: no-name-22de4cef-8e7f-407b-973c-5e6cdd8cf001\n"
     ]
    },
    {
     "name": "stdout",
     "output_type": "stream",
     "text": [
      "MSE LASSO CV R2 score:  0.7952897584979441\n",
      "\n",
      "Early stopping occurred at epoch 199 with best_epoch = 127 and best_val_0_rmse = 2.67178\n",
      "\n",
      "Early stopping occurred at epoch 159 with best_epoch = 87 and best_val_0_rmse = 2.74418\n",
      "\n",
      "Early stopping occurred at epoch 222 with best_epoch = 150 and best_val_0_rmse = 2.35852\n",
      "\n",
      "Early stopping occurred at epoch 189 with best_epoch = 117 and best_val_0_rmse = 2.96664\n"
     ]
    },
    {
     "name": "stderr",
     "output_type": "stream",
     "text": [
      "[I 2024-05-09 18:38:34,307] Trial 0 finished with value: -0.3585738596387638 and parameters: {'mask_type': 'sparsemax', 'n_da': 64, 'n_steps': 3, 'gamma': 1.1, 'n_shared': 1, 'lambda_sparse': 1.951722464144948e-08, 'patienceScheduler': 14, 'patience': 72, 'epochs': 369}. Best is trial 0 with value: -0.3585738596387638.\n"
     ]
    },
    {
     "name": "stdout",
     "output_type": "stream",
     "text": [
      "\n",
      "Early stopping occurred at epoch 348 with best_epoch = 276 and best_val_0_rmse = 2.72497\n",
      "Stop training because you reached max_epochs = 181 with best_epoch = 162 and best_val_0_rmse = 2.67912\n",
      "\n",
      "Early stopping occurred at epoch 117 with best_epoch = 57 and best_val_0_rmse = 3.02824\n",
      "Stop training because you reached max_epochs = 181 with best_epoch = 137 and best_val_0_rmse = 2.47552\n",
      "\n",
      "Early stopping occurred at epoch 106 with best_epoch = 46 and best_val_0_rmse = 2.6333\n"
     ]
    },
    {
     "name": "stderr",
     "output_type": "stream",
     "text": [
      "[I 2024-05-09 18:39:31,417] Trial 1 finished with value: -0.3330880075757142 and parameters: {'mask_type': 'sparsemax', 'n_da': 64, 'n_steps': 2, 'gamma': 1.1, 'n_shared': 1, 'lambda_sparse': 3.3205591037519537e-07, 'patienceScheduler': 9, 'patience': 60, 'epochs': 181}. Best is trial 0 with value: -0.3585738596387638.\n"
     ]
    },
    {
     "name": "stdout",
     "output_type": "stream",
     "text": [
      "\n",
      "Early stopping occurred at epoch 160 with best_epoch = 100 and best_val_0_rmse = 2.90524\n",
      "Stop training because you reached max_epochs = 70 with best_epoch = 69 and best_val_0_rmse = 2.79422\n",
      "Stop training because you reached max_epochs = 70 with best_epoch = 65 and best_val_0_rmse = 2.46859\n",
      "Stop training because you reached max_epochs = 70 with best_epoch = 62 and best_val_0_rmse = 2.50476\n",
      "Stop training because you reached max_epochs = 70 with best_epoch = 60 and best_val_0_rmse = 2.92499\n"
     ]
    },
    {
     "name": "stderr",
     "output_type": "stream",
     "text": [
      "[I 2024-05-09 18:40:14,466] Trial 2 finished with value: -0.3632008250074401 and parameters: {'mask_type': 'entmax', 'n_da': 56, 'n_steps': 2, 'gamma': 1.3, 'n_shared': 4, 'lambda_sparse': 9.9625132220551e-08, 'patienceScheduler': 9, 'patience': 72, 'epochs': 70}. Best is trial 2 with value: -0.3632008250074401.\n"
     ]
    },
    {
     "name": "stdout",
     "output_type": "stream",
     "text": [
      "Stop training because you reached max_epochs = 70 with best_epoch = 69 and best_val_0_rmse = 2.75387\n",
      "\n",
      "Early stopping occurred at epoch 171 with best_epoch = 93 and best_val_0_rmse = 3.27239\n",
      "Stop training because you reached max_epochs = 248 with best_epoch = 173 and best_val_0_rmse = 2.77063\n",
      "\n",
      "Early stopping occurred at epoch 144 with best_epoch = 66 and best_val_0_rmse = 3.0221\n",
      "\n",
      "Early stopping occurred at epoch 203 with best_epoch = 125 and best_val_0_rmse = 2.92359\n"
     ]
    },
    {
     "name": "stderr",
     "output_type": "stream",
     "text": [
      "[I 2024-05-09 18:44:49,022] Trial 3 finished with value: -0.2331271191700453 and parameters: {'mask_type': 'entmax', 'n_da': 56, 'n_steps': 5, 'gamma': 1.6, 'n_shared': 5, 'lambda_sparse': 3.3347927286375814e-07, 'patienceScheduler': 4, 'patience': 78, 'epochs': 248}. Best is trial 2 with value: -0.3632008250074401.\n"
     ]
    },
    {
     "name": "stdout",
     "output_type": "stream",
     "text": [
      "\n",
      "Early stopping occurred at epoch 228 with best_epoch = 150 and best_val_0_rmse = 2.76408\n",
      "Stop training because you reached max_epochs = 133 with best_epoch = 107 and best_val_0_rmse = 2.44711\n",
      "Stop training because you reached max_epochs = 133 with best_epoch = 132 and best_val_0_rmse = 2.5133\n",
      "Stop training because you reached max_epochs = 133 with best_epoch = 114 and best_val_0_rmse = 2.52657\n",
      "Stop training because you reached max_epochs = 133 with best_epoch = 99 and best_val_0_rmse = 2.50872\n"
     ]
    },
    {
     "name": "stderr",
     "output_type": "stream",
     "text": [
      "[I 2024-05-09 18:47:30,108] Trial 4 finished with value: -0.45542700610378706 and parameters: {'mask_type': 'sparsemax', 'n_da': 56, 'n_steps': 5, 'gamma': 1.1, 'n_shared': 4, 'lambda_sparse': 3.618723330959616e-07, 'patienceScheduler': 9, 'patience': 68, 'epochs': 133}. Best is trial 4 with value: -0.45542700610378706.\n"
     ]
    },
    {
     "name": "stdout",
     "output_type": "stream",
     "text": [
      "Stop training because you reached max_epochs = 133 with best_epoch = 123 and best_val_0_rmse = 2.47661\n",
      "\n",
      "Early stopping occurred at epoch 133 with best_epoch = 100 and best_val_0_rmse = 2.80667\n",
      "\n",
      "Early stopping occurred at epoch 88 with best_epoch = 55 and best_val_0_rmse = 2.71356\n",
      "\n",
      "Early stopping occurred at epoch 143 with best_epoch = 110 and best_val_0_rmse = 2.47272\n",
      "\n",
      "Early stopping occurred at epoch 98 with best_epoch = 65 and best_val_0_rmse = 2.65951\n"
     ]
    },
    {
     "name": "stderr",
     "output_type": "stream",
     "text": [
      "[I 2024-05-09 18:50:15,823] Trial 5 finished with value: -0.3907110760453473 and parameters: {'mask_type': 'entmax', 'n_da': 64, 'n_steps': 5, 'gamma': 1.4, 'n_shared': 5, 'lambda_sparse': 2.7698899227562766e-08, 'patienceScheduler': 5, 'patience': 33, 'epochs': 196}. Best is trial 4 with value: -0.45542700610378706.\n"
     ]
    },
    {
     "name": "stdout",
     "output_type": "stream",
     "text": [
      "\n",
      "Early stopping occurred at epoch 131 with best_epoch = 98 and best_val_0_rmse = 2.47892\n",
      "\n",
      "Early stopping occurred at epoch 177 with best_epoch = 142 and best_val_0_rmse = 2.59888\n",
      "\n",
      "Early stopping occurred at epoch 149 with best_epoch = 114 and best_val_0_rmse = 2.43085\n",
      "\n",
      "Early stopping occurred at epoch 107 with best_epoch = 72 and best_val_0_rmse = 2.6968\n",
      "\n",
      "Early stopping occurred at epoch 94 with best_epoch = 59 and best_val_0_rmse = 2.66755\n"
     ]
    },
    {
     "name": "stderr",
     "output_type": "stream",
     "text": [
      "[I 2024-05-09 18:51:48,583] Trial 6 finished with value: -0.445166426771579 and parameters: {'mask_type': 'entmax', 'n_da': 64, 'n_steps': 2, 'gamma': 1.1, 'n_shared': 3, 'lambda_sparse': 5.0654860639753365e-08, 'patienceScheduler': 13, 'patience': 35, 'epochs': 495}. Best is trial 4 with value: -0.45542700610378706.\n"
     ]
    },
    {
     "name": "stdout",
     "output_type": "stream",
     "text": [
      "\n",
      "Early stopping occurred at epoch 335 with best_epoch = 300 and best_val_0_rmse = 2.16538\n",
      "Stop training because you reached max_epochs = 102 with best_epoch = 97 and best_val_0_rmse = 3.11652\n",
      "Stop training because you reached max_epochs = 102 with best_epoch = 56 and best_val_0_rmse = 3.37238\n",
      "Stop training because you reached max_epochs = 102 with best_epoch = 101 and best_val_0_rmse = 2.9597\n",
      "Stop training because you reached max_epochs = 102 with best_epoch = 71 and best_val_0_rmse = 3.52249\n",
      "Stop training because you reached max_epochs = 102 with best_epoch = 71 and best_val_0_rmse = 2.73586\n"
     ]
    },
    {
     "name": "stderr",
     "output_type": "stream",
     "text": [
      "[I 2024-05-09 18:54:00,235] Trial 7 finished with value: -0.12476104798448417 and parameters: {'mask_type': 'entmax', 'n_da': 56, 'n_steps': 5, 'gamma': 1.4, 'n_shared': 4, 'lambda_sparse': 7.183758655813986e-05, 'patienceScheduler': 3, 'patience': 55, 'epochs': 102}. Best is trial 4 with value: -0.45542700610378706.\n"
     ]
    },
    {
     "name": "stdout",
     "output_type": "stream",
     "text": [
      "\n",
      "Early stopping occurred at epoch 170 with best_epoch = 78 and best_val_0_rmse = 2.94537\n",
      "Stop training because you reached max_epochs = 262 with best_epoch = 245 and best_val_0_rmse = 2.60794\n",
      "\n",
      "Early stopping occurred at epoch 258 with best_epoch = 166 and best_val_0_rmse = 2.6227\n",
      "Stop training because you reached max_epochs = 262 with best_epoch = 182 and best_val_0_rmse = 2.41159\n"
     ]
    },
    {
     "name": "stderr",
     "output_type": "stream",
     "text": [
      "[I 2024-05-09 18:55:30,557] Trial 8 finished with value: -0.38943293593540507 and parameters: {'mask_type': 'entmax', 'n_da': 56, 'n_steps': 1, 'gamma': 1.2, 'n_shared': 2, 'lambda_sparse': 4.446628955475447e-05, 'patienceScheduler': 11, 'patience': 92, 'epochs': 262}. Best is trial 4 with value: -0.45542700610378706.\n"
     ]
    },
    {
     "name": "stdout",
     "output_type": "stream",
     "text": [
      "Stop training because you reached max_epochs = 262 with best_epoch = 200 and best_val_0_rmse = 2.55337\n",
      "\n",
      "Early stopping occurred at epoch 49 with best_epoch = 18 and best_val_0_rmse = 3.34399\n",
      "\n",
      "Early stopping occurred at epoch 38 with best_epoch = 7 and best_val_0_rmse = 3.40791\n",
      "Stop training because you reached max_epochs = 98 with best_epoch = 97 and best_val_0_rmse = 2.98472\n",
      "Stop training because you reached max_epochs = 98 with best_epoch = 97 and best_val_0_rmse = 2.82194\n"
     ]
    },
    {
     "name": "stderr",
     "output_type": "stream",
     "text": [
      "[I 2024-05-09 18:56:27,130] Trial 9 finished with value: -0.12835382856549196 and parameters: {'mask_type': 'sparsemax', 'n_da': 64, 'n_steps': 3, 'gamma': 1.5, 'n_shared': 3, 'lambda_sparse': 4.1083188946999205e-06, 'patienceScheduler': 8, 'patience': 31, 'epochs': 98}. Best is trial 4 with value: -0.45542700610378706.\n"
     ]
    },
    {
     "name": "stdout",
     "output_type": "stream",
     "text": [
      "Stop training because you reached max_epochs = 98 with best_epoch = 73 and best_val_0_rmse = 3.11914\n",
      "\n",
      "Early stopping occurred at epoch 207 with best_epoch = 111 and best_val_0_rmse = 2.65965\n",
      "\n",
      "Early stopping occurred at epoch 255 with best_epoch = 159 and best_val_0_rmse = 2.52132\n",
      "\n",
      "Early stopping occurred at epoch 191 with best_epoch = 95 and best_val_0_rmse = 2.78845\n",
      "\n",
      "Early stopping occurred at epoch 201 with best_epoch = 105 and best_val_0_rmse = 2.38395\n"
     ]
    },
    {
     "name": "stderr",
     "output_type": "stream",
     "text": [
      "[I 2024-05-09 19:00:20,242] Trial 10 finished with value: -0.41890135710448784 and parameters: {'mask_type': 'sparsemax', 'n_da': 60, 'n_steps': 4, 'gamma': 1.0, 'n_shared': 4, 'lambda_sparse': 4.294688847755925e-06, 'patienceScheduler': 6, 'patience': 96, 'epochs': 385}. Best is trial 4 with value: -0.45542700610378706.\n"
     ]
    },
    {
     "name": "stdout",
     "output_type": "stream",
     "text": [
      "\n",
      "Early stopping occurred at epoch 185 with best_epoch = 89 and best_val_0_rmse = 2.52302\n",
      "\n",
      "Early stopping occurred at epoch 152 with best_epoch = 100 and best_val_0_rmse = 3.14037\n",
      "\n",
      "Early stopping occurred at epoch 250 with best_epoch = 198 and best_val_0_rmse = 2.54831\n",
      "\n",
      "Early stopping occurred at epoch 235 with best_epoch = 183 and best_val_0_rmse = 3.38463\n",
      "\n",
      "Early stopping occurred at epoch 222 with best_epoch = 170 and best_val_0_rmse = 2.79672\n"
     ]
    },
    {
     "name": "stderr",
     "output_type": "stream",
     "text": [
      "[I 2024-05-09 19:01:36,097] Trial 11 finished with value: -0.21432541837163327 and parameters: {'mask_type': 'sparsemax', 'n_da': 60, 'n_steps': 1, 'gamma': 1.0, 'n_shared': 3, 'lambda_sparse': 6.189832776675734e-07, 'patienceScheduler': 13, 'patience': 52, 'epochs': 500}. Best is trial 4 with value: -0.45542700610378706.\n"
     ]
    },
    {
     "name": "stdout",
     "output_type": "stream",
     "text": [
      "\n",
      "Early stopping occurred at epoch 198 with best_epoch = 146 and best_val_0_rmse = 3.09472\n",
      "\n",
      "Early stopping occurred at epoch 199 with best_epoch = 154 and best_val_0_rmse = 2.6979\n",
      "\n",
      "Early stopping occurred at epoch 199 with best_epoch = 154 and best_val_0_rmse = 1.87481\n",
      "\n",
      "Early stopping occurred at epoch 272 with best_epoch = 227 and best_val_0_rmse = 1.79904\n",
      "\n",
      "Early stopping occurred at epoch 137 with best_epoch = 92 and best_val_0_rmse = 2.02716\n"
     ]
    },
    {
     "name": "stderr",
     "output_type": "stream",
     "text": [
      "[I 2024-05-09 19:04:28,550] Trial 12 finished with value: -0.5950762605565312 and parameters: {'mask_type': 'entmax', 'n_da': 60, 'n_steps': 4, 'gamma': 1.2, 'n_shared': 2, 'lambda_sparse': 8.157638824175087e-08, 'patienceScheduler': 12, 'patience': 45, 'epochs': 379}. Best is trial 12 with value: -0.5950762605565312.\n"
     ]
    },
    {
     "name": "stdout",
     "output_type": "stream",
     "text": [
      "\n",
      "Early stopping occurred at epoch 231 with best_epoch = 186 and best_val_0_rmse = 2.16503\n",
      "\n",
      "Early stopping occurred at epoch 195 with best_epoch = 148 and best_val_0_rmse = 2.36217\n",
      "\n",
      "Early stopping occurred at epoch 142 with best_epoch = 95 and best_val_0_rmse = 2.52754\n",
      "\n",
      "Early stopping occurred at epoch 135 with best_epoch = 88 and best_val_0_rmse = 2.55724\n",
      "\n",
      "Early stopping occurred at epoch 162 with best_epoch = 115 and best_val_0_rmse = 2.38347\n"
     ]
    },
    {
     "name": "stderr",
     "output_type": "stream",
     "text": [
      "[I 2024-05-09 19:06:35,542] Trial 13 finished with value: -0.4645080197480668 and parameters: {'mask_type': 'sparsemax', 'n_da': 60, 'n_steps': 4, 'gamma': 1.2, 'n_shared': 2, 'lambda_sparse': 1.0720895153554375e-06, 'patienceScheduler': 11, 'patience': 47, 'epochs': 359}. Best is trial 12 with value: -0.5950762605565312.\n"
     ]
    },
    {
     "name": "stdout",
     "output_type": "stream",
     "text": [
      "\n",
      "Early stopping occurred at epoch 151 with best_epoch = 104 and best_val_0_rmse = 2.53976\n",
      "models/grid_tabnet_moran_mse_lasso_queen.model CV-R2 = 0.595\n"
     ]
    },
    {
     "name": "stderr",
     "output_type": "stream",
     "text": [
      "[I 2024-05-09 19:08:40,010] A new study created in memory with name: no-name-2fcee7e1-7fb6-48d8-86eb-5296ed236f6e\n"
     ]
    },
    {
     "name": "stdout",
     "output_type": "stream",
     "text": [
      "BIC LASSO CV R2 score:  0.7724836600621674\n",
      "\n",
      "Early stopping occurred at epoch 354 with best_epoch = 282 and best_val_0_rmse = 1.53571\n",
      "\n",
      "Early stopping occurred at epoch 359 with best_epoch = 287 and best_val_0_rmse = 1.84254\n",
      "\n",
      "Early stopping occurred at epoch 319 with best_epoch = 247 and best_val_0_rmse = 2.17864\n",
      "\n",
      "Early stopping occurred at epoch 359 with best_epoch = 287 and best_val_0_rmse = 1.95877\n"
     ]
    },
    {
     "name": "stderr",
     "output_type": "stream",
     "text": [
      "[I 2024-05-09 19:11:12,501] Trial 0 finished with value: -0.6925747730628679 and parameters: {'mask_type': 'sparsemax', 'n_da': 64, 'n_steps': 3, 'gamma': 1.1, 'n_shared': 1, 'lambda_sparse': 1.951722464144948e-08, 'patienceScheduler': 14, 'patience': 72, 'epochs': 369}. Best is trial 0 with value: -0.6925747730628679.\n"
     ]
    },
    {
     "name": "stdout",
     "output_type": "stream",
     "text": [
      "\n",
      "Early stopping occurred at epoch 209 with best_epoch = 137 and best_val_0_rmse = 1.85679\n",
      "Stop training because you reached max_epochs = 181 with best_epoch = 173 and best_val_0_rmse = 2.02186\n",
      "Stop training because you reached max_epochs = 181 with best_epoch = 135 and best_val_0_rmse = 1.98273\n",
      "Stop training because you reached max_epochs = 181 with best_epoch = 180 and best_val_0_rmse = 1.77983\n",
      "Stop training because you reached max_epochs = 181 with best_epoch = 177 and best_val_0_rmse = 1.39409\n"
     ]
    },
    {
     "name": "stderr",
     "output_type": "stream",
     "text": [
      "[I 2024-05-09 19:12:12,909] Trial 1 finished with value: -0.6717827675159633 and parameters: {'mask_type': 'sparsemax', 'n_da': 64, 'n_steps': 2, 'gamma': 1.1, 'n_shared': 1, 'lambda_sparse': 3.3205591037519537e-07, 'patienceScheduler': 9, 'patience': 60, 'epochs': 181}. Best is trial 0 with value: -0.6925747730628679.\n"
     ]
    },
    {
     "name": "stdout",
     "output_type": "stream",
     "text": [
      "\n",
      "Early stopping occurred at epoch 125 with best_epoch = 65 and best_val_0_rmse = 2.34931\n",
      "Stop training because you reached max_epochs = 70 with best_epoch = 64 and best_val_0_rmse = 1.93096\n",
      "Stop training because you reached max_epochs = 70 with best_epoch = 65 and best_val_0_rmse = 1.69418\n",
      "Stop training because you reached max_epochs = 70 with best_epoch = 64 and best_val_0_rmse = 1.99774\n",
      "Stop training because you reached max_epochs = 70 with best_epoch = 62 and best_val_0_rmse = 1.72551\n"
     ]
    },
    {
     "name": "stderr",
     "output_type": "stream",
     "text": [
      "[I 2024-05-09 19:12:53,794] Trial 2 finished with value: -0.7128139573684427 and parameters: {'mask_type': 'entmax', 'n_da': 56, 'n_steps': 2, 'gamma': 1.3, 'n_shared': 4, 'lambda_sparse': 9.9625132220551e-08, 'patienceScheduler': 9, 'patience': 72, 'epochs': 70}. Best is trial 2 with value: -0.7128139573684427.\n"
     ]
    },
    {
     "name": "stdout",
     "output_type": "stream",
     "text": [
      "Stop training because you reached max_epochs = 70 with best_epoch = 69 and best_val_0_rmse = 1.69704\n",
      "\n",
      "Early stopping occurred at epoch 188 with best_epoch = 110 and best_val_0_rmse = 2.69209\n",
      "\n",
      "Early stopping occurred at epoch 169 with best_epoch = 91 and best_val_0_rmse = 2.33679\n",
      "\n",
      "Early stopping occurred at epoch 230 with best_epoch = 152 and best_val_0_rmse = 2.73375\n",
      "\n",
      "Early stopping occurred at epoch 188 with best_epoch = 110 and best_val_0_rmse = 2.6876\n"
     ]
    },
    {
     "name": "stderr",
     "output_type": "stream",
     "text": [
      "[I 2024-05-09 19:17:34,272] Trial 3 finished with value: -0.42752707758580366 and parameters: {'mask_type': 'entmax', 'n_da': 56, 'n_steps': 5, 'gamma': 1.6, 'n_shared': 5, 'lambda_sparse': 3.3347927286375814e-07, 'patienceScheduler': 4, 'patience': 78, 'epochs': 248}. Best is trial 2 with value: -0.7128139573684427.\n"
     ]
    },
    {
     "name": "stdout",
     "output_type": "stream",
     "text": [
      "Stop training because you reached max_epochs = 248 with best_epoch = 236 and best_val_0_rmse = 2.31844\n",
      "Stop training because you reached max_epochs = 133 with best_epoch = 80 and best_val_0_rmse = 2.34812\n",
      "Stop training because you reached max_epochs = 133 with best_epoch = 110 and best_val_0_rmse = 2.23736\n",
      "Stop training because you reached max_epochs = 133 with best_epoch = 113 and best_val_0_rmse = 2.38627\n",
      "Stop training because you reached max_epochs = 133 with best_epoch = 124 and best_val_0_rmse = 2.2889\n"
     ]
    },
    {
     "name": "stderr",
     "output_type": "stream",
     "text": [
      "[I 2024-05-09 19:20:04,261] Trial 4 finished with value: -0.5458335081796065 and parameters: {'mask_type': 'sparsemax', 'n_da': 56, 'n_steps': 5, 'gamma': 1.1, 'n_shared': 4, 'lambda_sparse': 3.618723330959616e-07, 'patienceScheduler': 9, 'patience': 68, 'epochs': 133}. Best is trial 2 with value: -0.7128139573684427.\n"
     ]
    },
    {
     "name": "stdout",
     "output_type": "stream",
     "text": [
      "Stop training because you reached max_epochs = 133 with best_epoch = 119 and best_val_0_rmse = 2.12078\n",
      "\n",
      "Early stopping occurred at epoch 131 with best_epoch = 98 and best_val_0_rmse = 2.10483\n",
      "\n",
      "Early stopping occurred at epoch 96 with best_epoch = 63 and best_val_0_rmse = 2.29755\n",
      "Stop training because you reached max_epochs = 196 with best_epoch = 173 and best_val_0_rmse = 2.5814\n",
      "Stop training because you reached max_epochs = 196 with best_epoch = 174 and best_val_0_rmse = 2.4961\n"
     ]
    },
    {
     "name": "stderr",
     "output_type": "stream",
     "text": [
      "[I 2024-05-09 19:23:52,361] Trial 5 finished with value: -0.5237378991427384 and parameters: {'mask_type': 'entmax', 'n_da': 64, 'n_steps': 5, 'gamma': 1.4, 'n_shared': 5, 'lambda_sparse': 2.7698899227562766e-08, 'patienceScheduler': 5, 'patience': 33, 'epochs': 196}. Best is trial 2 with value: -0.7128139573684427.\n"
     ]
    },
    {
     "name": "stdout",
     "output_type": "stream",
     "text": [
      "\n",
      "Early stopping occurred at epoch 181 with best_epoch = 148 and best_val_0_rmse = 2.19164\n",
      "\n",
      "Early stopping occurred at epoch 203 with best_epoch = 168 and best_val_0_rmse = 1.32076\n",
      "\n",
      "Early stopping occurred at epoch 137 with best_epoch = 102 and best_val_0_rmse = 1.42503\n",
      "\n",
      "Early stopping occurred at epoch 225 with best_epoch = 190 and best_val_0_rmse = 1.46314\n",
      "\n",
      "Early stopping occurred at epoch 203 with best_epoch = 168 and best_val_0_rmse = 1.2574\n"
     ]
    },
    {
     "name": "stderr",
     "output_type": "stream",
     "text": [
      "[I 2024-05-09 19:25:33,922] Trial 6 finished with value: -0.8332746715202999 and parameters: {'mask_type': 'entmax', 'n_da': 64, 'n_steps': 2, 'gamma': 1.1, 'n_shared': 3, 'lambda_sparse': 5.0654860639753365e-08, 'patienceScheduler': 13, 'patience': 35, 'epochs': 495}. Best is trial 6 with value: -0.8332746715202999.\n"
     ]
    },
    {
     "name": "stdout",
     "output_type": "stream",
     "text": [
      "\n",
      "Early stopping occurred at epoch 162 with best_epoch = 127 and best_val_0_rmse = 1.43109\n",
      "Stop training because you reached max_epochs = 102 with best_epoch = 91 and best_val_0_rmse = 2.62186\n",
      "Stop training because you reached max_epochs = 102 with best_epoch = 53 and best_val_0_rmse = 2.62219\n",
      "Stop training because you reached max_epochs = 102 with best_epoch = 56 and best_val_0_rmse = 2.40572\n",
      "\n",
      "Early stopping occurred at epoch 92 with best_epoch = 37 and best_val_0_rmse = 2.96685\n"
     ]
    },
    {
     "name": "stderr",
     "output_type": "stream",
     "text": [
      "[I 2024-05-09 19:27:34,770] Trial 7 finished with value: -0.3904538077735158 and parameters: {'mask_type': 'entmax', 'n_da': 56, 'n_steps': 5, 'gamma': 1.4, 'n_shared': 4, 'lambda_sparse': 7.183758655813986e-05, 'patienceScheduler': 3, 'patience': 55, 'epochs': 102}. Best is trial 6 with value: -0.8332746715202999.\n"
     ]
    },
    {
     "name": "stdout",
     "output_type": "stream",
     "text": [
      "Stop training because you reached max_epochs = 102 with best_epoch = 81 and best_val_0_rmse = 2.52218\n",
      "Stop training because you reached max_epochs = 262 with best_epoch = 182 and best_val_0_rmse = 1.60191\n",
      "Stop training because you reached max_epochs = 262 with best_epoch = 221 and best_val_0_rmse = 1.72899\n",
      "Stop training because you reached max_epochs = 262 with best_epoch = 192 and best_val_0_rmse = 1.4534\n",
      "Stop training because you reached max_epochs = 262 with best_epoch = 191 and best_val_0_rmse = 1.65114\n"
     ]
    },
    {
     "name": "stderr",
     "output_type": "stream",
     "text": [
      "[I 2024-05-09 19:28:56,158] Trial 8 finished with value: -0.7726424582235143 and parameters: {'mask_type': 'entmax', 'n_da': 56, 'n_steps': 1, 'gamma': 1.2, 'n_shared': 2, 'lambda_sparse': 4.446628955475447e-05, 'patienceScheduler': 11, 'patience': 92, 'epochs': 262}. Best is trial 6 with value: -0.8332746715202999.\n"
     ]
    },
    {
     "name": "stdout",
     "output_type": "stream",
     "text": [
      "\n",
      "Early stopping occurred at epoch 261 with best_epoch = 169 and best_val_0_rmse = 1.58395\n",
      "Stop training because you reached max_epochs = 98 with best_epoch = 95 and best_val_0_rmse = 2.18522\n",
      "Stop training because you reached max_epochs = 98 with best_epoch = 96 and best_val_0_rmse = 2.26751\n",
      "Stop training because you reached max_epochs = 98 with best_epoch = 69 and best_val_0_rmse = 2.12828\n",
      "Stop training because you reached max_epochs = 98 with best_epoch = 97 and best_val_0_rmse = 2.28313\n"
     ]
    },
    {
     "name": "stderr",
     "output_type": "stream",
     "text": [
      "[I 2024-05-09 19:30:09,074] Trial 9 finished with value: -0.562557975815314 and parameters: {'mask_type': 'sparsemax', 'n_da': 64, 'n_steps': 3, 'gamma': 1.5, 'n_shared': 3, 'lambda_sparse': 4.1083188946999205e-06, 'patienceScheduler': 8, 'patience': 31, 'epochs': 98}. Best is trial 6 with value: -0.8332746715202999.\n"
     ]
    },
    {
     "name": "stdout",
     "output_type": "stream",
     "text": [
      "Stop training because you reached max_epochs = 98 with best_epoch = 80 and best_val_0_rmse = 2.29823\n",
      "\n",
      "Early stopping occurred at epoch 203 with best_epoch = 157 and best_val_0_rmse = 1.4468\n",
      "\n",
      "Early stopping occurred at epoch 183 with best_epoch = 137 and best_val_0_rmse = 1.39409\n",
      "\n",
      "Early stopping occurred at epoch 181 with best_epoch = 135 and best_val_0_rmse = 1.57598\n",
      "\n",
      "Early stopping occurred at epoch 224 with best_epoch = 178 and best_val_0_rmse = 1.44391\n"
     ]
    },
    {
     "name": "stderr",
     "output_type": "stream",
     "text": [
      "[I 2024-05-09 19:31:13,005] Trial 10 finished with value: -0.8059835741256706 and parameters: {'mask_type': 'entmax', 'n_da': 60, 'n_steps': 1, 'gamma': 1.0, 'n_shared': 2, 'lambda_sparse': 5.066634090043089e-06, 'patienceScheduler': 15, 'patience': 46, 'epochs': 487}. Best is trial 6 with value: -0.8332746715202999.\n"
     ]
    },
    {
     "name": "stdout",
     "output_type": "stream",
     "text": [
      "\n",
      "Early stopping occurred at epoch 221 with best_epoch = 175 and best_val_0_rmse = 1.59156\n",
      "\n",
      "Early stopping occurred at epoch 198 with best_epoch = 156 and best_val_0_rmse = 1.4431\n",
      "\n",
      "Early stopping occurred at epoch 200 with best_epoch = 158 and best_val_0_rmse = 1.40092\n",
      "\n",
      "Early stopping occurred at epoch 177 with best_epoch = 135 and best_val_0_rmse = 1.5442\n",
      "\n",
      "Early stopping occurred at epoch 204 with best_epoch = 162 and best_val_0_rmse = 1.43835\n"
     ]
    },
    {
     "name": "stderr",
     "output_type": "stream",
     "text": [
      "[I 2024-05-09 19:32:10,685] Trial 11 finished with value: -0.804475325872383 and parameters: {'mask_type': 'entmax', 'n_da': 60, 'n_steps': 1, 'gamma': 1.0, 'n_shared': 2, 'lambda_sparse': 8.316169400244493e-06, 'patienceScheduler': 15, 'patience': 42, 'epochs': 500}. Best is trial 6 with value: -0.8332746715202999.\n"
     ]
    },
    {
     "name": "stdout",
     "output_type": "stream",
     "text": [
      "\n",
      "Early stopping occurred at epoch 144 with best_epoch = 102 and best_val_0_rmse = 1.64906\n",
      "\n",
      "Early stopping occurred at epoch 298 with best_epoch = 250 and best_val_0_rmse = 1.79146\n",
      "\n",
      "Early stopping occurred at epoch 263 with best_epoch = 215 and best_val_0_rmse = 1.56974\n",
      "\n",
      "Early stopping occurred at epoch 164 with best_epoch = 116 and best_val_0_rmse = 1.61909\n",
      "\n",
      "Early stopping occurred at epoch 217 with best_epoch = 169 and best_val_0_rmse = 1.29615\n"
     ]
    },
    {
     "name": "stderr",
     "output_type": "stream",
     "text": [
      "[I 2024-05-09 19:34:00,183] Trial 12 finished with value: -0.7821090208122451 and parameters: {'mask_type': 'entmax', 'n_da': 60, 'n_steps': 2, 'gamma': 1.0, 'n_shared': 2, 'lambda_sparse': 0.00022861459327001146, 'patienceScheduler': 13, 'patience': 48, 'epochs': 499}. Best is trial 6 with value: -0.8332746715202999.\n"
     ]
    },
    {
     "name": "stdout",
     "output_type": "stream",
     "text": [
      "\n",
      "Early stopping occurred at epoch 233 with best_epoch = 185 and best_val_0_rmse = 1.55128\n",
      "\n",
      "Early stopping occurred at epoch 173 with best_epoch = 131 and best_val_0_rmse = 1.52362\n",
      "\n",
      "Early stopping occurred at epoch 206 with best_epoch = 164 and best_val_0_rmse = 1.48469\n",
      "\n",
      "Early stopping occurred at epoch 169 with best_epoch = 127 and best_val_0_rmse = 1.49278\n",
      "\n",
      "Early stopping occurred at epoch 227 with best_epoch = 185 and best_val_0_rmse = 1.36631\n"
     ]
    },
    {
     "name": "stderr",
     "output_type": "stream",
     "text": [
      "[I 2024-05-09 19:35:09,491] Trial 13 finished with value: -0.8136600238490453 and parameters: {'mask_type': 'entmax', 'n_da': 60, 'n_steps': 1, 'gamma': 1.2, 'n_shared': 3, 'lambda_sparse': 2.2208704089664955e-06, 'patienceScheduler': 12, 'patience': 42, 'epochs': 402}. Best is trial 6 with value: -0.8332746715202999.\n"
     ]
    },
    {
     "name": "stdout",
     "output_type": "stream",
     "text": [
      "\n",
      "Early stopping occurred at epoch 211 with best_epoch = 169 and best_val_0_rmse = 1.41382\n",
      "\n",
      "Early stopping occurred at epoch 196 with best_epoch = 158 and best_val_0_rmse = 1.21591\n",
      "\n",
      "Early stopping occurred at epoch 222 with best_epoch = 184 and best_val_0_rmse = 1.11064\n",
      "\n",
      "Early stopping occurred at epoch 202 with best_epoch = 164 and best_val_0_rmse = 1.24739\n",
      "\n",
      "Early stopping occurred at epoch 205 with best_epoch = 167 and best_val_0_rmse = 1.2928\n"
     ]
    },
    {
     "name": "stderr",
     "output_type": "stream",
     "text": [
      "[I 2024-05-09 19:37:06,582] Trial 14 finished with value: -0.8649457583749094 and parameters: {'mask_type': 'entmax', 'n_da': 60, 'n_steps': 2, 'gamma': 1.2, 'n_shared': 3, 'lambda_sparse': 1.6389421339508647e-06, 'patienceScheduler': 12, 'patience': 38, 'epochs': 384}. Best is trial 14 with value: -0.8649457583749094.\n"
     ]
    },
    {
     "name": "stdout",
     "output_type": "stream",
     "text": [
      "\n",
      "Early stopping occurred at epoch 233 with best_epoch = 195 and best_val_0_rmse = 1.34429\n",
      "\n",
      "Early stopping occurred at epoch 200 with best_epoch = 170 and best_val_0_rmse = 1.08882\n",
      "\n",
      "Early stopping occurred at epoch 229 with best_epoch = 199 and best_val_0_rmse = 1.08918\n",
      "\n",
      "Early stopping occurred at epoch 262 with best_epoch = 232 and best_val_0_rmse = 1.04852\n",
      "\n",
      "Early stopping occurred at epoch 187 with best_epoch = 157 and best_val_0_rmse = 1.17206\n"
     ]
    },
    {
     "name": "stderr",
     "output_type": "stream",
     "text": [
      "[I 2024-05-09 19:40:31,032] Trial 15 finished with value: -0.8878757793528465 and parameters: {'mask_type': 'entmax', 'n_da': 60, 'n_steps': 4, 'gamma': 1.2, 'n_shared': 3, 'lambda_sparse': 0.00081927703968916, 'patienceScheduler': 11, 'patience': 30, 'epochs': 394}. Best is trial 15 with value: -0.8878757793528465.\n"
     ]
    },
    {
     "name": "stdout",
     "output_type": "stream",
     "text": [
      "\n",
      "Early stopping occurred at epoch 246 with best_epoch = 216 and best_val_0_rmse = 1.24869\n"
     ]
    },
    {
     "name": "stderr",
     "output_type": "stream",
     "text": [
      "[I 2024-05-09 19:42:31,348] A new study created in memory with name: no-name-08767c23-5711-4ac3-b0ea-e5f29a93945e\n"
     ]
    },
    {
     "name": "stdout",
     "output_type": "stream",
     "text": [
      "models/grid_tabnet_moran_bic_lasso_queen.model CV-R2 = 0.888\n",
      "\n",
      "Early stopping occurred at epoch 362 with best_epoch = 290 and best_val_0_rmse = 0.79886\n",
      "Stop training because you reached max_epochs = 369 with best_epoch = 328 and best_val_0_rmse = 0.71172\n",
      "Stop training because you reached max_epochs = 369 with best_epoch = 363 and best_val_0_rmse = 0.77065\n",
      "Stop training because you reached max_epochs = 369 with best_epoch = 357 and best_val_0_rmse = 0.82278\n"
     ]
    },
    {
     "name": "stderr",
     "output_type": "stream",
     "text": [
      "[I 2024-05-09 19:45:10,704] Trial 0 finished with value: -0.9465930317783684 and parameters: {'mask_type': 'sparsemax', 'n_da': 64, 'n_steps': 3, 'gamma': 1.1, 'n_shared': 1, 'lambda_sparse': 1.951722464144948e-08, 'patienceScheduler': 14, 'patience': 72, 'epochs': 369}. Best is trial 0 with value: -0.9465930317783684.\n"
     ]
    },
    {
     "name": "stdout",
     "output_type": "stream",
     "text": [
      "Stop training because you reached max_epochs = 369 with best_epoch = 366 and best_val_0_rmse = 0.79889\n",
      "Stop training because you reached max_epochs = 181 with best_epoch = 176 and best_val_0_rmse = 1.07735\n",
      "Stop training because you reached max_epochs = 181 with best_epoch = 167 and best_val_0_rmse = 0.86404\n",
      "Stop training because you reached max_epochs = 181 with best_epoch = 170 and best_val_0_rmse = 1.16619\n",
      "Stop training because you reached max_epochs = 181 with best_epoch = 180 and best_val_0_rmse = 0.95872\n"
     ]
    },
    {
     "name": "stderr",
     "output_type": "stream",
     "text": [
      "[I 2024-05-09 19:46:10,236] Trial 1 finished with value: -0.9114547178890305 and parameters: {'mask_type': 'sparsemax', 'n_da': 64, 'n_steps': 2, 'gamma': 1.1, 'n_shared': 1, 'lambda_sparse': 3.3205591037519537e-07, 'patienceScheduler': 9, 'patience': 60, 'epochs': 181}. Best is trial 0 with value: -0.9465930317783684.\n"
     ]
    },
    {
     "name": "stdout",
     "output_type": "stream",
     "text": [
      "Stop training because you reached max_epochs = 181 with best_epoch = 169 and best_val_0_rmse = 0.95262\n",
      "Stop training because you reached max_epochs = 70 with best_epoch = 66 and best_val_0_rmse = 0.9272\n",
      "Stop training because you reached max_epochs = 70 with best_epoch = 69 and best_val_0_rmse = 0.95239\n",
      "Stop training because you reached max_epochs = 70 with best_epoch = 69 and best_val_0_rmse = 0.87378\n",
      "Stop training because you reached max_epochs = 70 with best_epoch = 67 and best_val_0_rmse = 0.91442\n"
     ]
    },
    {
     "name": "stderr",
     "output_type": "stream",
     "text": [
      "[I 2024-05-09 19:46:55,907] Trial 2 finished with value: -0.9260908169120569 and parameters: {'mask_type': 'entmax', 'n_da': 56, 'n_steps': 2, 'gamma': 1.3, 'n_shared': 4, 'lambda_sparse': 9.9625132220551e-08, 'patienceScheduler': 9, 'patience': 72, 'epochs': 70}. Best is trial 0 with value: -0.9465930317783684.\n"
     ]
    },
    {
     "name": "stdout",
     "output_type": "stream",
     "text": [
      "Stop training because you reached max_epochs = 70 with best_epoch = 62 and best_val_0_rmse = 0.91564\n",
      "Stop training because you reached max_epochs = 248 with best_epoch = 239 and best_val_0_rmse = 1.08835\n",
      "Stop training because you reached max_epochs = 248 with best_epoch = 241 and best_val_0_rmse = 0.96839\n",
      "Stop training because you reached max_epochs = 248 with best_epoch = 225 and best_val_0_rmse = 1.19497\n",
      "Stop training because you reached max_epochs = 248 with best_epoch = 245 and best_val_0_rmse = 1.00873\n"
     ]
    },
    {
     "name": "stderr",
     "output_type": "stream",
     "text": [
      "[I 2024-05-09 19:52:06,627] Trial 3 finished with value: -0.9035869495372204 and parameters: {'mask_type': 'entmax', 'n_da': 56, 'n_steps': 5, 'gamma': 1.6, 'n_shared': 5, 'lambda_sparse': 3.3347927286375814e-07, 'patienceScheduler': 4, 'patience': 78, 'epochs': 248}. Best is trial 0 with value: -0.9465930317783684.\n"
     ]
    },
    {
     "name": "stdout",
     "output_type": "stream",
     "text": [
      "Stop training because you reached max_epochs = 248 with best_epoch = 178 and best_val_0_rmse = 0.98523\n",
      "Stop training because you reached max_epochs = 133 with best_epoch = 128 and best_val_0_rmse = 1.07308\n",
      "Stop training because you reached max_epochs = 133 with best_epoch = 132 and best_val_0_rmse = 0.88552\n",
      "Stop training because you reached max_epochs = 133 with best_epoch = 127 and best_val_0_rmse = 0.93583\n",
      "Stop training because you reached max_epochs = 133 with best_epoch = 131 and best_val_0_rmse = 0.93615\n"
     ]
    },
    {
     "name": "stderr",
     "output_type": "stream",
     "text": [
      "[I 2024-05-09 19:54:27,780] Trial 4 finished with value: -0.9225521253323979 and parameters: {'mask_type': 'sparsemax', 'n_da': 56, 'n_steps': 5, 'gamma': 1.1, 'n_shared': 4, 'lambda_sparse': 3.618723330959616e-07, 'patienceScheduler': 9, 'patience': 68, 'epochs': 133}. Best is trial 0 with value: -0.9465930317783684.\n"
     ]
    },
    {
     "name": "stdout",
     "output_type": "stream",
     "text": [
      "Stop training because you reached max_epochs = 133 with best_epoch = 132 and best_val_0_rmse = 0.84482\n",
      "Stop training because you reached max_epochs = 196 with best_epoch = 183 and best_val_0_rmse = 0.88485\n",
      "\n",
      "Early stopping occurred at epoch 161 with best_epoch = 128 and best_val_0_rmse = 0.98291\n",
      "Stop training because you reached max_epochs = 196 with best_epoch = 194 and best_val_0_rmse = 0.94881\n",
      "\n",
      "Early stopping occurred at epoch 149 with best_epoch = 116 and best_val_0_rmse = 0.90193\n"
     ]
    },
    {
     "name": "stderr",
     "output_type": "stream",
     "text": [
      "[I 2024-05-09 19:58:18,138] Trial 5 finished with value: -0.9248784188226216 and parameters: {'mask_type': 'entmax', 'n_da': 64, 'n_steps': 5, 'gamma': 1.4, 'n_shared': 5, 'lambda_sparse': 2.7698899227562766e-08, 'patienceScheduler': 5, 'patience': 33, 'epochs': 196}. Best is trial 0 with value: -0.9465930317783684.\n"
     ]
    },
    {
     "name": "stdout",
     "output_type": "stream",
     "text": [
      "Stop training because you reached max_epochs = 196 with best_epoch = 169 and best_val_0_rmse = 0.90944\n",
      "\n",
      "Early stopping occurred at epoch 261 with best_epoch = 226 and best_val_0_rmse = 0.73566\n",
      "\n",
      "Early stopping occurred at epoch 316 with best_epoch = 281 and best_val_0_rmse = 0.66614\n",
      "\n",
      "Early stopping occurred at epoch 246 with best_epoch = 211 and best_val_0_rmse = 0.69443\n",
      "\n",
      "Early stopping occurred at epoch 310 with best_epoch = 275 and best_val_0_rmse = 0.71174\n"
     ]
    },
    {
     "name": "stderr",
     "output_type": "stream",
     "text": [
      "[I 2024-05-09 20:00:57,562] Trial 6 finished with value: -0.9575982277178381 and parameters: {'mask_type': 'entmax', 'n_da': 64, 'n_steps': 2, 'gamma': 1.1, 'n_shared': 3, 'lambda_sparse': 5.0654860639753365e-08, 'patienceScheduler': 13, 'patience': 35, 'epochs': 495}. Best is trial 6 with value: -0.9575982277178381.\n"
     ]
    },
    {
     "name": "stdout",
     "output_type": "stream",
     "text": [
      "\n",
      "Early stopping occurred at epoch 333 with best_epoch = 298 and best_val_0_rmse = 0.66651\n",
      "Stop training because you reached max_epochs = 102 with best_epoch = 101 and best_val_0_rmse = 1.04077\n",
      "Stop training because you reached max_epochs = 102 with best_epoch = 95 and best_val_0_rmse = 1.10167\n",
      "Stop training because you reached max_epochs = 102 with best_epoch = 101 and best_val_0_rmse = 0.97257\n",
      "Stop training because you reached max_epochs = 102 with best_epoch = 101 and best_val_0_rmse = 1.20847\n"
     ]
    },
    {
     "name": "stderr",
     "output_type": "stream",
     "text": [
      "[I 2024-05-09 20:02:50,294] Trial 7 finished with value: -0.8983062978336595 and parameters: {'mask_type': 'entmax', 'n_da': 56, 'n_steps': 5, 'gamma': 1.4, 'n_shared': 4, 'lambda_sparse': 7.183758655813986e-05, 'patienceScheduler': 3, 'patience': 55, 'epochs': 102}. Best is trial 6 with value: -0.9575982277178381.\n"
     ]
    },
    {
     "name": "stdout",
     "output_type": "stream",
     "text": [
      "Stop training because you reached max_epochs = 102 with best_epoch = 101 and best_val_0_rmse = 1.04166\n",
      "Stop training because you reached max_epochs = 262 with best_epoch = 261 and best_val_0_rmse = 0.79083\n",
      "Stop training because you reached max_epochs = 262 with best_epoch = 249 and best_val_0_rmse = 0.65871\n",
      "Stop training because you reached max_epochs = 262 with best_epoch = 248 and best_val_0_rmse = 0.7263\n",
      "Stop training because you reached max_epochs = 262 with best_epoch = 225 and best_val_0_rmse = 0.68576\n"
     ]
    },
    {
     "name": "stderr",
     "output_type": "stream",
     "text": [
      "[I 2024-05-09 20:04:05,684] Trial 8 finished with value: -0.9561958144964342 and parameters: {'mask_type': 'entmax', 'n_da': 56, 'n_steps': 1, 'gamma': 1.2, 'n_shared': 2, 'lambda_sparse': 4.446628955475447e-05, 'patienceScheduler': 11, 'patience': 92, 'epochs': 262}. Best is trial 6 with value: -0.9575982277178381.\n"
     ]
    },
    {
     "name": "stdout",
     "output_type": "stream",
     "text": [
      "Stop training because you reached max_epochs = 262 with best_epoch = 258 and best_val_0_rmse = 0.66257\n",
      "Stop training because you reached max_epochs = 98 with best_epoch = 85 and best_val_0_rmse = 1.09472\n",
      "Stop training because you reached max_epochs = 98 with best_epoch = 97 and best_val_0_rmse = 1.31641\n",
      "Stop training because you reached max_epochs = 98 with best_epoch = 97 and best_val_0_rmse = 1.0699\n",
      "Stop training because you reached max_epochs = 98 with best_epoch = 96 and best_val_0_rmse = 1.05192\n"
     ]
    },
    {
     "name": "stderr",
     "output_type": "stream",
     "text": [
      "[I 2024-05-09 20:05:10,319] Trial 9 finished with value: -0.8895297694297144 and parameters: {'mask_type': 'sparsemax', 'n_da': 64, 'n_steps': 3, 'gamma': 1.5, 'n_shared': 3, 'lambda_sparse': 4.1083188946999205e-06, 'patienceScheduler': 8, 'patience': 31, 'epochs': 98}. Best is trial 6 with value: -0.9575982277178381.\n"
     ]
    },
    {
     "name": "stdout",
     "output_type": "stream",
     "text": [
      "Stop training because you reached max_epochs = 98 with best_epoch = 94 and best_val_0_rmse = 1.03762\n",
      "\n",
      "Early stopping occurred at epoch 328 with best_epoch = 282 and best_val_0_rmse = 0.74304\n",
      "\n",
      "Early stopping occurred at epoch 395 with best_epoch = 349 and best_val_0_rmse = 0.63726\n",
      "\n",
      "Early stopping occurred at epoch 316 with best_epoch = 270 and best_val_0_rmse = 0.67342\n",
      "\n",
      "Early stopping occurred at epoch 317 with best_epoch = 271 and best_val_0_rmse = 0.68642\n"
     ]
    },
    {
     "name": "stderr",
     "output_type": "stream",
     "text": [
      "[I 2024-05-09 20:06:49,097] Trial 10 finished with value: -0.9599054529392832 and parameters: {'mask_type': 'entmax', 'n_da': 60, 'n_steps': 1, 'gamma': 1.0, 'n_shared': 2, 'lambda_sparse': 5.066634090043089e-06, 'patienceScheduler': 15, 'patience': 46, 'epochs': 487}. Best is trial 10 with value: -0.9599054529392832.\n"
     ]
    },
    {
     "name": "stdout",
     "output_type": "stream",
     "text": [
      "\n",
      "Early stopping occurred at epoch 368 with best_epoch = 322 and best_val_0_rmse = 0.63275\n",
      "\n",
      "Early stopping occurred at epoch 324 with best_epoch = 282 and best_val_0_rmse = 0.74371\n",
      "\n",
      "Early stopping occurred at epoch 291 with best_epoch = 249 and best_val_0_rmse = 0.65252\n",
      "\n",
      "Early stopping occurred at epoch 317 with best_epoch = 275 and best_val_0_rmse = 0.66514\n",
      "\n",
      "Early stopping occurred at epoch 313 with best_epoch = 271 and best_val_0_rmse = 0.68272\n"
     ]
    },
    {
     "name": "stderr",
     "output_type": "stream",
     "text": [
      "[I 2024-05-09 20:08:22,351] Trial 11 finished with value: -0.9597164801216161 and parameters: {'mask_type': 'entmax', 'n_da': 60, 'n_steps': 1, 'gamma': 1.0, 'n_shared': 2, 'lambda_sparse': 8.316169400244493e-06, 'patienceScheduler': 15, 'patience': 42, 'epochs': 500}. Best is trial 10 with value: -0.9599054529392832.\n"
     ]
    },
    {
     "name": "stdout",
     "output_type": "stream",
     "text": [
      "\n",
      "Early stopping occurred at epoch 325 with best_epoch = 283 and best_val_0_rmse = 0.63563\n",
      "\n",
      "Early stopping occurred at epoch 329 with best_epoch = 282 and best_val_0_rmse = 0.75422\n",
      "\n",
      "Early stopping occurred at epoch 351 with best_epoch = 304 and best_val_0_rmse = 0.64353\n",
      "\n",
      "Early stopping occurred at epoch 317 with best_epoch = 270 and best_val_0_rmse = 0.67501\n",
      "\n",
      "Early stopping occurred at epoch 319 with best_epoch = 272 and best_val_0_rmse = 0.68102\n"
     ]
    },
    {
     "name": "stderr",
     "output_type": "stream",
     "text": [
      "[I 2024-05-09 20:10:01,365] Trial 12 finished with value: -0.9594830562008182 and parameters: {'mask_type': 'entmax', 'n_da': 60, 'n_steps': 1, 'gamma': 1.0, 'n_shared': 2, 'lambda_sparse': 7.00719461285498e-06, 'patienceScheduler': 15, 'patience': 47, 'epochs': 497}. Best is trial 10 with value: -0.9599054529392832.\n"
     ]
    },
    {
     "name": "stdout",
     "output_type": "stream",
     "text": [
      "\n",
      "Early stopping occurred at epoch 366 with best_epoch = 319 and best_val_0_rmse = 0.63501\n",
      "\n",
      "Early stopping occurred at epoch 269 with best_epoch = 223 and best_val_0_rmse = 0.78078\n",
      "\n",
      "Early stopping occurred at epoch 318 with best_epoch = 272 and best_val_0_rmse = 0.6825\n",
      "\n",
      "Early stopping occurred at epoch 321 with best_epoch = 275 and best_val_0_rmse = 0.68488\n",
      "\n",
      "Early stopping occurred at epoch 310 with best_epoch = 264 and best_val_0_rmse = 0.68891\n"
     ]
    },
    {
     "name": "stderr",
     "output_type": "stream",
     "text": [
      "[I 2024-05-09 20:11:32,204] Trial 13 finished with value: -0.9569362925502007 and parameters: {'mask_type': 'entmax', 'n_da': 60, 'n_steps': 1, 'gamma': 1.0, 'n_shared': 2, 'lambda_sparse': 1.5257368639860137e-05, 'patienceScheduler': 12, 'patience': 46, 'epochs': 395}. Best is trial 10 with value: -0.9599054529392832.\n"
     ]
    },
    {
     "name": "stdout",
     "output_type": "stream",
     "text": [
      "\n",
      "Early stopping occurred at epoch 338 with best_epoch = 292 and best_val_0_rmse = 0.65373\n",
      "\n",
      "Early stopping occurred at epoch 339 with best_epoch = 295 and best_val_0_rmse = 0.75561\n",
      "\n",
      "Early stopping occurred at epoch 402 with best_epoch = 358 and best_val_0_rmse = 0.6429\n",
      "\n",
      "Early stopping occurred at epoch 235 with best_epoch = 191 and best_val_0_rmse = 0.66744\n",
      "\n",
      "Early stopping occurred at epoch 407 with best_epoch = 363 and best_val_0_rmse = 0.66844\n"
     ]
    },
    {
     "name": "stderr",
     "output_type": "stream",
     "text": [
      "[I 2024-05-09 20:13:14,685] Trial 14 finished with value: -0.9596020165547209 and parameters: {'mask_type': 'entmax', 'n_da': 60, 'n_steps': 1, 'gamma': 1.0, 'n_shared': 2, 'lambda_sparse': 0.0003228682044844314, 'patienceScheduler': 15, 'patience': 44, 'epochs': 420}. Best is trial 10 with value: -0.9599054529392832.\n"
     ]
    },
    {
     "name": "stdout",
     "output_type": "stream",
     "text": [
      "\n",
      "Early stopping occurred at epoch 336 with best_epoch = 292 and best_val_0_rmse = 0.64905\n"
     ]
    },
    {
     "name": "stderr",
     "output_type": "stream",
     "text": [
      "[I 2024-05-09 20:14:01,854] A new study created in memory with name: no-name-3204701d-9eb2-4760-a6dd-545497fcd68f\n"
     ]
    },
    {
     "name": "stdout",
     "output_type": "stream",
     "text": [
      "models/grid_tabnet_moran_xy_lasso_exp.model CV-R2 = 0.96\n",
      "\n",
      "Early stopping occurred at epoch 243 with best_epoch = 171 and best_val_0_rmse = 1.97926\n",
      "\n",
      "Early stopping occurred at epoch 314 with best_epoch = 242 and best_val_0_rmse = 1.87318\n",
      "\n",
      "Early stopping occurred at epoch 297 with best_epoch = 225 and best_val_0_rmse = 1.89253\n",
      "\n",
      "Early stopping occurred at epoch 137 with best_epoch = 65 and best_val_0_rmse = 2.334\n"
     ]
    },
    {
     "name": "stderr",
     "output_type": "stream",
     "text": [
      "[I 2024-05-09 20:16:40,463] Trial 0 finished with value: -0.6563260967486336 and parameters: {'mask_type': 'sparsemax', 'n_da': 64, 'n_steps': 3, 'gamma': 1.1, 'n_shared': 1, 'lambda_sparse': 1.951722464144948e-08, 'patienceScheduler': 14, 'patience': 72, 'epochs': 369}. Best is trial 0 with value: -0.6563260967486336.\n"
     ]
    },
    {
     "name": "stdout",
     "output_type": "stream",
     "text": [
      "\n",
      "Early stopping occurred at epoch 241 with best_epoch = 169 and best_val_0_rmse = 1.7785\n",
      "\n",
      "Early stopping occurred at epoch 130 with best_epoch = 70 and best_val_0_rmse = 3.16287\n",
      "\n",
      "Early stopping occurred at epoch 98 with best_epoch = 38 and best_val_0_rmse = 3.43065\n",
      "\n",
      "Early stopping occurred at epoch 171 with best_epoch = 111 and best_val_0_rmse = 2.72214\n",
      "\n",
      "Early stopping occurred at epoch 132 with best_epoch = 72 and best_val_0_rmse = 3.27964\n"
     ]
    },
    {
     "name": "stderr",
     "output_type": "stream",
     "text": [
      "[I 2024-05-09 20:17:54,491] Trial 1 finished with value: -0.12295805120317664 and parameters: {'mask_type': 'sparsemax', 'n_da': 64, 'n_steps': 2, 'gamma': 1.1, 'n_shared': 1, 'lambda_sparse': 3.3205591037519537e-07, 'patienceScheduler': 9, 'patience': 60, 'epochs': 181}. Best is trial 0 with value: -0.6563260967486336.\n"
     ]
    },
    {
     "name": "stdout",
     "output_type": "stream",
     "text": [
      "Stop training because you reached max_epochs = 181 with best_epoch = 159 and best_val_0_rmse = 3.12047\n",
      "Stop training because you reached max_epochs = 70 with best_epoch = 60 and best_val_0_rmse = 1.93\n",
      "Stop training because you reached max_epochs = 70 with best_epoch = 56 and best_val_0_rmse = 2.55969\n",
      "Stop training because you reached max_epochs = 70 with best_epoch = 53 and best_val_0_rmse = 2.62744\n",
      "Stop training because you reached max_epochs = 70 with best_epoch = 66 and best_val_0_rmse = 2.48452\n"
     ]
    },
    {
     "name": "stderr",
     "output_type": "stream",
     "text": [
      "[I 2024-05-09 20:18:50,712] Trial 2 finished with value: -0.49790069592122244 and parameters: {'mask_type': 'entmax', 'n_da': 56, 'n_steps': 2, 'gamma': 1.3, 'n_shared': 4, 'lambda_sparse': 9.9625132220551e-08, 'patienceScheduler': 9, 'patience': 72, 'epochs': 70}. Best is trial 0 with value: -0.6563260967486336.\n"
     ]
    },
    {
     "name": "stdout",
     "output_type": "stream",
     "text": [
      "Stop training because you reached max_epochs = 70 with best_epoch = 60 and best_val_0_rmse = 2.35364\n",
      "Stop training because you reached max_epochs = 248 with best_epoch = 177 and best_val_0_rmse = 2.77316\n",
      "\n",
      "Early stopping occurred at epoch 203 with best_epoch = 125 and best_val_0_rmse = 2.60899\n",
      "Stop training because you reached max_epochs = 248 with best_epoch = 183 and best_val_0_rmse = 2.68472\n",
      "Stop training because you reached max_epochs = 248 with best_epoch = 177 and best_val_0_rmse = 2.8369\n",
      "\n",
      "Early stopping occurred at epoch 139 with best_epoch = 61 and best_val_0_rmse = 2.69628\n"
     ]
    },
    {
     "name": "stderr",
     "output_type": "stream",
     "text": [
      "[I 2024-05-09 20:24:38,733] Trial 3 finished with value: -0.3515457709079533 and parameters: {'mask_type': 'entmax', 'n_da': 56, 'n_steps': 5, 'gamma': 1.6, 'n_shared': 5, 'lambda_sparse': 3.3347927286375814e-07, 'patienceScheduler': 4, 'patience': 78, 'epochs': 248}. Best is trial 0 with value: -0.6563260967486336.\n"
     ]
    },
    {
     "name": "stdout",
     "output_type": "stream",
     "text": [
      "Stop training because you reached max_epochs = 133 with best_epoch = 128 and best_val_0_rmse = 2.34077\n",
      "Stop training because you reached max_epochs = 133 with best_epoch = 131 and best_val_0_rmse = 2.46855\n",
      "Stop training because you reached max_epochs = 133 with best_epoch = 101 and best_val_0_rmse = 2.53666\n",
      "Stop training because you reached max_epochs = 133 with best_epoch = 128 and best_val_0_rmse = 2.46581\n"
     ]
    },
    {
     "name": "stderr",
     "output_type": "stream",
     "text": [
      "[I 2024-05-09 20:27:42,587] Trial 4 finished with value: -0.47693223984931077 and parameters: {'mask_type': 'sparsemax', 'n_da': 56, 'n_steps': 5, 'gamma': 1.1, 'n_shared': 4, 'lambda_sparse': 3.618723330959616e-07, 'patienceScheduler': 9, 'patience': 68, 'epochs': 133}. Best is trial 0 with value: -0.6563260967486336.\n"
     ]
    },
    {
     "name": "stdout",
     "output_type": "stream",
     "text": [
      "Stop training because you reached max_epochs = 133 with best_epoch = 128 and best_val_0_rmse = 2.41884\n",
      "\n",
      "Early stopping occurred at epoch 101 with best_epoch = 68 and best_val_0_rmse = 2.78556\n",
      "\n",
      "Early stopping occurred at epoch 121 with best_epoch = 88 and best_val_0_rmse = 2.48567\n",
      "\n",
      "Early stopping occurred at epoch 143 with best_epoch = 110 and best_val_0_rmse = 3.06328\n",
      "\n",
      "Early stopping occurred at epoch 116 with best_epoch = 83 and best_val_0_rmse = 2.65292\n",
      "\n",
      "Early stopping occurred at epoch 97 with best_epoch = 64 and best_val_0_rmse = 2.58334\n"
     ]
    },
    {
     "name": "stderr",
     "output_type": "stream",
     "text": [
      "[I 2024-05-09 20:30:48,872] Trial 5 finished with value: -0.35550703522717136 and parameters: {'mask_type': 'entmax', 'n_da': 64, 'n_steps': 5, 'gamma': 1.4, 'n_shared': 5, 'lambda_sparse': 2.7698899227562766e-08, 'patienceScheduler': 5, 'patience': 33, 'epochs': 196}. Best is trial 0 with value: -0.6563260967486336.\n"
     ]
    },
    {
     "name": "stdout",
     "output_type": "stream",
     "text": [
      "\n",
      "Early stopping occurred at epoch 121 with best_epoch = 86 and best_val_0_rmse = 2.4994\n",
      "\n",
      "Early stopping occurred at epoch 86 with best_epoch = 51 and best_val_0_rmse = 2.59449\n",
      "\n",
      "Early stopping occurred at epoch 267 with best_epoch = 232 and best_val_0_rmse = 1.68952\n",
      "\n",
      "Early stopping occurred at epoch 230 with best_epoch = 195 and best_val_0_rmse = 2.31733\n"
     ]
    },
    {
     "name": "stderr",
     "output_type": "stream",
     "text": [
      "[I 2024-05-09 20:32:42,553] Trial 6 finished with value: -0.5950135330241283 and parameters: {'mask_type': 'entmax', 'n_da': 64, 'n_steps': 2, 'gamma': 1.1, 'n_shared': 3, 'lambda_sparse': 5.0654860639753365e-08, 'patienceScheduler': 13, 'patience': 35, 'epochs': 495}. Best is trial 0 with value: -0.6563260967486336.\n"
     ]
    },
    {
     "name": "stdout",
     "output_type": "stream",
     "text": [
      "\n",
      "Early stopping occurred at epoch 201 with best_epoch = 166 and best_val_0_rmse = 1.17714\n",
      "Stop training because you reached max_epochs = 102 with best_epoch = 97 and best_val_0_rmse = 3.18259\n",
      "\n",
      "Early stopping occurred at epoch 61 with best_epoch = 6 and best_val_0_rmse = 3.34066\n",
      "Stop training because you reached max_epochs = 102 with best_epoch = 98 and best_val_0_rmse = 3.38101\n",
      "\n",
      "Early stopping occurred at epoch 63 with best_epoch = 8 and best_val_0_rmse = 3.45397\n",
      "\n",
      "Early stopping occurred at epoch 66 with best_epoch = 11 and best_val_0_rmse = 3.51637\n"
     ]
    },
    {
     "name": "stderr",
     "output_type": "stream",
     "text": [
      "[I 2024-05-09 20:34:34,667] Trial 7 finished with value: -0.003950830361598068 and parameters: {'mask_type': 'entmax', 'n_da': 56, 'n_steps': 5, 'gamma': 1.4, 'n_shared': 4, 'lambda_sparse': 7.183758655813986e-05, 'patienceScheduler': 3, 'patience': 55, 'epochs': 102}. Best is trial 0 with value: -0.6563260967486336.\n"
     ]
    },
    {
     "name": "stdout",
     "output_type": "stream",
     "text": [
      "Stop training because you reached max_epochs = 262 with best_epoch = 224 and best_val_0_rmse = 1.82464\n",
      "Stop training because you reached max_epochs = 262 with best_epoch = 193 and best_val_0_rmse = 1.8257\n",
      "Stop training because you reached max_epochs = 262 with best_epoch = 207 and best_val_0_rmse = 2.20209\n",
      "Stop training because you reached max_epochs = 262 with best_epoch = 186 and best_val_0_rmse = 2.10482\n"
     ]
    },
    {
     "name": "stderr",
     "output_type": "stream",
     "text": [
      "[I 2024-05-09 20:36:08,983] Trial 8 finished with value: -0.6551234083145172 and parameters: {'mask_type': 'entmax', 'n_da': 56, 'n_steps': 1, 'gamma': 1.2, 'n_shared': 2, 'lambda_sparse': 4.446628955475447e-05, 'patienceScheduler': 11, 'patience': 92, 'epochs': 262}. Best is trial 0 with value: -0.6563260967486336.\n"
     ]
    },
    {
     "name": "stdout",
     "output_type": "stream",
     "text": [
      "Stop training because you reached max_epochs = 262 with best_epoch = 205 and best_val_0_rmse = 1.98514\n",
      "Stop training because you reached max_epochs = 98 with best_epoch = 90 and best_val_0_rmse = 2.55242\n",
      "Stop training because you reached max_epochs = 98 with best_epoch = 86 and best_val_0_rmse = 2.55305\n",
      "\n",
      "Early stopping occurred at epoch 79 with best_epoch = 48 and best_val_0_rmse = 3.62381\n",
      "Stop training because you reached max_epochs = 98 with best_epoch = 97 and best_val_0_rmse = 3.27198\n"
     ]
    },
    {
     "name": "stderr",
     "output_type": "stream",
     "text": [
      "[I 2024-05-09 20:37:37,278] Trial 9 finished with value: -0.24007176301669056 and parameters: {'mask_type': 'sparsemax', 'n_da': 64, 'n_steps': 3, 'gamma': 1.5, 'n_shared': 3, 'lambda_sparse': 4.1083188946999205e-06, 'patienceScheduler': 8, 'patience': 31, 'epochs': 98}. Best is trial 0 with value: -0.6563260967486336.\n"
     ]
    },
    {
     "name": "stdout",
     "output_type": "stream",
     "text": [
      "\n",
      "Early stopping occurred at epoch 82 with best_epoch = 51 and best_val_0_rmse = 2.70246\n",
      "\n",
      "Early stopping occurred at epoch 193 with best_epoch = 96 and best_val_0_rmse = 2.60662\n",
      "\n",
      "Early stopping occurred at epoch 176 with best_epoch = 79 and best_val_0_rmse = 2.41463\n",
      "\n",
      "Early stopping occurred at epoch 171 with best_epoch = 74 and best_val_0_rmse = 2.37893\n",
      "\n",
      "Early stopping occurred at epoch 252 with best_epoch = 155 and best_val_0_rmse = 2.44685\n"
     ]
    },
    {
     "name": "stderr",
     "output_type": "stream",
     "text": [
      "[I 2024-05-09 20:40:27,362] Trial 10 finished with value: -0.4698314338119089 and parameters: {'mask_type': 'sparsemax', 'n_da': 60, 'n_steps': 4, 'gamma': 1.0, 'n_shared': 1, 'lambda_sparse': 5.066634090043089e-06, 'patienceScheduler': 15, 'patience': 97, 'epochs': 403}. Best is trial 0 with value: -0.6563260967486336.\n"
     ]
    },
    {
     "name": "stdout",
     "output_type": "stream",
     "text": [
      "\n",
      "Early stopping occurred at epoch 214 with best_epoch = 117 and best_val_0_rmse = 2.42979\n",
      "Stop training because you reached max_epochs = 345 with best_epoch = 315 and best_val_0_rmse = 2.12751\n",
      "\n",
      "Early stopping occurred at epoch 245 with best_epoch = 152 and best_val_0_rmse = 2.54675\n",
      "\n",
      "Early stopping occurred at epoch 279 with best_epoch = 186 and best_val_0_rmse = 2.81535\n",
      "Stop training because you reached max_epochs = 345 with best_epoch = 264 and best_val_0_rmse = 2.69735\n"
     ]
    },
    {
     "name": "stderr",
     "output_type": "stream",
     "text": [
      "[I 2024-05-09 20:42:16,305] Trial 11 finished with value: -0.4327151348014513 and parameters: {'mask_type': 'sparsemax', 'n_da': 60, 'n_steps': 1, 'gamma': 1.2, 'n_shared': 2, 'lambda_sparse': 0.0005555224641141055, 'patienceScheduler': 12, 'patience': 93, 'epochs': 345}. Best is trial 0 with value: -0.6563260967486336.\n"
     ]
    },
    {
     "name": "stdout",
     "output_type": "stream",
     "text": [
      "\n",
      "Early stopping occurred at epoch 223 with best_epoch = 130 and best_val_0_rmse = 2.54795\n",
      "Stop training because you reached max_epochs = 321 with best_epoch = 310 and best_val_0_rmse = 2.27038\n",
      "\n",
      "Early stopping occurred at epoch 289 with best_epoch = 205 and best_val_0_rmse = 1.89544\n",
      "\n",
      "Early stopping occurred at epoch 242 with best_epoch = 158 and best_val_0_rmse = 1.92869\n",
      "Stop training because you reached max_epochs = 321 with best_epoch = 273 and best_val_0_rmse = 1.98272\n"
     ]
    },
    {
     "name": "stderr",
     "output_type": "stream",
     "text": [
      "[I 2024-05-09 20:44:08,707] Trial 12 finished with value: -0.6516654636069712 and parameters: {'mask_type': 'entmax', 'n_da': 60, 'n_steps': 1, 'gamma': 1.2, 'n_shared': 2, 'lambda_sparse': 4.791526679772836e-05, 'patienceScheduler': 12, 'patience': 84, 'epochs': 321}. Best is trial 0 with value: -0.6563260967486336.\n"
     ]
    },
    {
     "name": "stdout",
     "output_type": "stream",
     "text": [
      "\n",
      "Early stopping occurred at epoch 285 with best_epoch = 201 and best_val_0_rmse = 1.83754\n",
      "models/grid_tabnet_moran_all_lasso_exp.model CV-R2 = 0.656\n"
     ]
    },
    {
     "name": "stderr",
     "output_type": "stream",
     "text": [
      "[I 2024-05-09 20:45:28,471] A new study created in memory with name: no-name-0d5288eb-0805-4311-b304-f8c1116fc430\n"
     ]
    },
    {
     "name": "stdout",
     "output_type": "stream",
     "text": [
      "MSE LASSO CV R2 score:  0.8328460914833382\n",
      "\n",
      "Early stopping occurred at epoch 186 with best_epoch = 114 and best_val_0_rmse = 2.14152\n",
      "\n",
      "Early stopping occurred at epoch 248 with best_epoch = 176 and best_val_0_rmse = 1.96495\n",
      "\n",
      "Early stopping occurred at epoch 209 with best_epoch = 137 and best_val_0_rmse = 2.10332\n",
      "\n",
      "Early stopping occurred at epoch 189 with best_epoch = 117 and best_val_0_rmse = 2.465\n"
     ]
    },
    {
     "name": "stderr",
     "output_type": "stream",
     "text": [
      "[I 2024-05-09 20:47:26,785] Trial 0 finished with value: -0.6233531134319822 and parameters: {'mask_type': 'sparsemax', 'n_da': 64, 'n_steps': 3, 'gamma': 1.1, 'n_shared': 1, 'lambda_sparse': 1.951722464144948e-08, 'patienceScheduler': 14, 'patience': 72, 'epochs': 369}. Best is trial 0 with value: -0.6233531134319822.\n"
     ]
    },
    {
     "name": "stdout",
     "output_type": "stream",
     "text": [
      "\n",
      "Early stopping occurred at epoch 327 with best_epoch = 255 and best_val_0_rmse = 1.60031\n",
      "Stop training because you reached max_epochs = 181 with best_epoch = 151 and best_val_0_rmse = 1.92299\n",
      "Stop training because you reached max_epochs = 181 with best_epoch = 148 and best_val_0_rmse = 1.8507\n",
      "Stop training because you reached max_epochs = 181 with best_epoch = 152 and best_val_0_rmse = 1.99617\n",
      "Stop training because you reached max_epochs = 181 with best_epoch = 162 and best_val_0_rmse = 2.10763\n"
     ]
    },
    {
     "name": "stderr",
     "output_type": "stream",
     "text": [
      "[I 2024-05-09 20:48:34,939] Trial 1 finished with value: -0.6625990313176235 and parameters: {'mask_type': 'sparsemax', 'n_da': 64, 'n_steps': 2, 'gamma': 1.1, 'n_shared': 1, 'lambda_sparse': 3.3205591037519537e-07, 'patienceScheduler': 9, 'patience': 60, 'epochs': 181}. Best is trial 1 with value: -0.6625990313176235.\n"
     ]
    },
    {
     "name": "stdout",
     "output_type": "stream",
     "text": [
      "Stop training because you reached max_epochs = 181 with best_epoch = 178 and best_val_0_rmse = 1.94293\n",
      "Stop training because you reached max_epochs = 70 with best_epoch = 68 and best_val_0_rmse = 1.5778\n",
      "Stop training because you reached max_epochs = 70 with best_epoch = 57 and best_val_0_rmse = 1.92696\n",
      "Stop training because you reached max_epochs = 70 with best_epoch = 69 and best_val_0_rmse = 1.84115\n",
      "Stop training because you reached max_epochs = 70 with best_epoch = 69 and best_val_0_rmse = 1.6154\n"
     ]
    },
    {
     "name": "stderr",
     "output_type": "stream",
     "text": [
      "[I 2024-05-09 20:49:18,615] Trial 2 finished with value: -0.7538043183211409 and parameters: {'mask_type': 'entmax', 'n_da': 56, 'n_steps': 2, 'gamma': 1.3, 'n_shared': 4, 'lambda_sparse': 9.9625132220551e-08, 'patienceScheduler': 9, 'patience': 72, 'epochs': 70}. Best is trial 2 with value: -0.7538043183211409.\n"
     ]
    },
    {
     "name": "stdout",
     "output_type": "stream",
     "text": [
      "Stop training because you reached max_epochs = 70 with best_epoch = 67 and best_val_0_rmse = 1.36\n",
      "\n",
      "Early stopping occurred at epoch 240 with best_epoch = 162 and best_val_0_rmse = 2.65313\n",
      "\n",
      "Early stopping occurred at epoch 131 with best_epoch = 53 and best_val_0_rmse = 2.49256\n",
      "Stop training because you reached max_epochs = 248 with best_epoch = 202 and best_val_0_rmse = 2.49228\n",
      "Stop training because you reached max_epochs = 248 with best_epoch = 178 and best_val_0_rmse = 2.7415\n"
     ]
    },
    {
     "name": "stderr",
     "output_type": "stream",
     "text": [
      "[I 2024-05-09 20:54:05,264] Trial 3 finished with value: -0.4172535987150668 and parameters: {'mask_type': 'entmax', 'n_da': 56, 'n_steps': 5, 'gamma': 1.6, 'n_shared': 5, 'lambda_sparse': 3.3347927286375814e-07, 'patienceScheduler': 4, 'patience': 78, 'epochs': 248}. Best is trial 2 with value: -0.7538043183211409.\n"
     ]
    },
    {
     "name": "stdout",
     "output_type": "stream",
     "text": [
      "\n",
      "Early stopping occurred at epoch 166 with best_epoch = 88 and best_val_0_rmse = 2.49894\n",
      "Stop training because you reached max_epochs = 133 with best_epoch = 117 and best_val_0_rmse = 2.27116\n",
      "Stop training because you reached max_epochs = 133 with best_epoch = 124 and best_val_0_rmse = 2.39431\n",
      "Stop training because you reached max_epochs = 133 with best_epoch = 131 and best_val_0_rmse = 2.24976\n",
      "Stop training because you reached max_epochs = 133 with best_epoch = 131 and best_val_0_rmse = 2.28161\n"
     ]
    },
    {
     "name": "stderr",
     "output_type": "stream",
     "text": [
      "[I 2024-05-09 20:56:45,302] Trial 4 finished with value: -0.5276759443126803 and parameters: {'mask_type': 'sparsemax', 'n_da': 56, 'n_steps': 5, 'gamma': 1.1, 'n_shared': 4, 'lambda_sparse': 3.618723330959616e-07, 'patienceScheduler': 9, 'patience': 68, 'epochs': 133}. Best is trial 2 with value: -0.7538043183211409.\n"
     ]
    },
    {
     "name": "stdout",
     "output_type": "stream",
     "text": [
      "Stop training because you reached max_epochs = 133 with best_epoch = 119 and best_val_0_rmse = 2.40244\n",
      "\n",
      "Early stopping occurred at epoch 96 with best_epoch = 63 and best_val_0_rmse = 2.55927\n",
      "\n",
      "Early stopping occurred at epoch 188 with best_epoch = 155 and best_val_0_rmse = 2.20249\n",
      "\n",
      "Early stopping occurred at epoch 189 with best_epoch = 156 and best_val_0_rmse = 2.54508\n",
      "\n",
      "Early stopping occurred at epoch 156 with best_epoch = 123 and best_val_0_rmse = 2.50521\n"
     ]
    },
    {
     "name": "stderr",
     "output_type": "stream",
     "text": [
      "[I 2024-05-09 21:00:44,398] Trial 5 finished with value: -0.4732205984840112 and parameters: {'mask_type': 'entmax', 'n_da': 64, 'n_steps': 5, 'gamma': 1.4, 'n_shared': 5, 'lambda_sparse': 2.7698899227562766e-08, 'patienceScheduler': 5, 'patience': 33, 'epochs': 196}. Best is trial 2 with value: -0.7538043183211409.\n"
     ]
    },
    {
     "name": "stdout",
     "output_type": "stream",
     "text": [
      "Stop training because you reached max_epochs = 196 with best_epoch = 180 and best_val_0_rmse = 2.45123\n",
      "\n",
      "Early stopping occurred at epoch 170 with best_epoch = 135 and best_val_0_rmse = 1.66344\n",
      "\n",
      "Early stopping occurred at epoch 182 with best_epoch = 147 and best_val_0_rmse = 1.08069\n",
      "\n",
      "Early stopping occurred at epoch 229 with best_epoch = 194 and best_val_0_rmse = 1.146\n",
      "\n",
      "Early stopping occurred at epoch 176 with best_epoch = 141 and best_val_0_rmse = 1.15037\n"
     ]
    },
    {
     "name": "stderr",
     "output_type": "stream",
     "text": [
      "[I 2024-05-09 21:02:45,626] Trial 6 finished with value: -0.8682057971633552 and parameters: {'mask_type': 'entmax', 'n_da': 64, 'n_steps': 2, 'gamma': 1.1, 'n_shared': 3, 'lambda_sparse': 5.0654860639753365e-08, 'patienceScheduler': 13, 'patience': 35, 'epochs': 495}. Best is trial 6 with value: -0.8682057971633552.\n"
     ]
    },
    {
     "name": "stdout",
     "output_type": "stream",
     "text": [
      "\n",
      "Early stopping occurred at epoch 259 with best_epoch = 224 and best_val_0_rmse = 0.91364\n",
      "Stop training because you reached max_epochs = 102 with best_epoch = 97 and best_val_0_rmse = 2.70364\n",
      "Stop training because you reached max_epochs = 102 with best_epoch = 100 and best_val_0_rmse = 2.51055\n",
      "Stop training because you reached max_epochs = 102 with best_epoch = 98 and best_val_0_rmse = 2.35391\n",
      "Stop training because you reached max_epochs = 102 with best_epoch = 95 and best_val_0_rmse = 2.5149\n"
     ]
    },
    {
     "name": "stderr",
     "output_type": "stream",
     "text": [
      "[I 2024-05-09 21:05:02,860] Trial 7 finished with value: -0.4263330488855123 and parameters: {'mask_type': 'entmax', 'n_da': 56, 'n_steps': 5, 'gamma': 1.4, 'n_shared': 4, 'lambda_sparse': 7.183758655813986e-05, 'patienceScheduler': 3, 'patience': 55, 'epochs': 102}. Best is trial 6 with value: -0.8682057971633552.\n"
     ]
    },
    {
     "name": "stdout",
     "output_type": "stream",
     "text": [
      "Stop training because you reached max_epochs = 102 with best_epoch = 80 and best_val_0_rmse = 2.67037\n",
      "Stop training because you reached max_epochs = 262 with best_epoch = 259 and best_val_0_rmse = 1.43648\n",
      "Stop training because you reached max_epochs = 262 with best_epoch = 202 and best_val_0_rmse = 1.30155\n",
      "Stop training because you reached max_epochs = 262 with best_epoch = 185 and best_val_0_rmse = 1.50021\n",
      "Stop training because you reached max_epochs = 262 with best_epoch = 220 and best_val_0_rmse = 1.35926\n"
     ]
    },
    {
     "name": "stderr",
     "output_type": "stream",
     "text": [
      "[I 2024-05-09 21:06:27,275] Trial 8 finished with value: -0.8311678979708006 and parameters: {'mask_type': 'entmax', 'n_da': 56, 'n_steps': 1, 'gamma': 1.2, 'n_shared': 2, 'lambda_sparse': 4.446628955475447e-05, 'patienceScheduler': 11, 'patience': 92, 'epochs': 262}. Best is trial 6 with value: -0.8682057971633552.\n"
     ]
    },
    {
     "name": "stdout",
     "output_type": "stream",
     "text": [
      "\n",
      "Early stopping occurred at epoch 232 with best_epoch = 140 and best_val_0_rmse = 1.34822\n",
      "Stop training because you reached max_epochs = 98 with best_epoch = 76 and best_val_0_rmse = 2.54775\n",
      "Stop training because you reached max_epochs = 98 with best_epoch = 94 and best_val_0_rmse = 2.46116\n",
      "Stop training because you reached max_epochs = 98 with best_epoch = 94 and best_val_0_rmse = 2.31717\n",
      "Stop training because you reached max_epochs = 98 with best_epoch = 87 and best_val_0_rmse = 2.33391\n"
     ]
    },
    {
     "name": "stderr",
     "output_type": "stream",
     "text": [
      "[I 2024-05-09 21:07:46,410] Trial 9 finished with value: -0.4918074661087373 and parameters: {'mask_type': 'sparsemax', 'n_da': 64, 'n_steps': 3, 'gamma': 1.5, 'n_shared': 3, 'lambda_sparse': 4.1083188946999205e-06, 'patienceScheduler': 8, 'patience': 31, 'epochs': 98}. Best is trial 6 with value: -0.8682057971633552.\n"
     ]
    },
    {
     "name": "stdout",
     "output_type": "stream",
     "text": [
      "Stop training because you reached max_epochs = 98 with best_epoch = 84 and best_val_0_rmse = 2.34833\n",
      "\n",
      "Early stopping occurred at epoch 264 with best_epoch = 218 and best_val_0_rmse = 1.45868\n",
      "\n",
      "Early stopping occurred at epoch 275 with best_epoch = 229 and best_val_0_rmse = 1.46314\n",
      "\n",
      "Early stopping occurred at epoch 179 with best_epoch = 133 and best_val_0_rmse = 1.37066\n",
      "\n",
      "Early stopping occurred at epoch 299 with best_epoch = 253 and best_val_0_rmse = 1.26045\n"
     ]
    },
    {
     "name": "stderr",
     "output_type": "stream",
     "text": [
      "[I 2024-05-09 21:09:07,111] Trial 10 finished with value: -0.8322165852003757 and parameters: {'mask_type': 'entmax', 'n_da': 60, 'n_steps': 1, 'gamma': 1.0, 'n_shared': 2, 'lambda_sparse': 5.066634090043089e-06, 'patienceScheduler': 15, 'patience': 46, 'epochs': 487}. Best is trial 6 with value: -0.8682057971633552.\n"
     ]
    },
    {
     "name": "stdout",
     "output_type": "stream",
     "text": [
      "\n",
      "Early stopping occurred at epoch 212 with best_epoch = 166 and best_val_0_rmse = 1.34067\n",
      "\n",
      "Early stopping occurred at epoch 299 with best_epoch = 257 and best_val_0_rmse = 1.43334\n",
      "\n",
      "Early stopping occurred at epoch 205 with best_epoch = 163 and best_val_0_rmse = 1.45685\n",
      "\n",
      "Early stopping occurred at epoch 227 with best_epoch = 185 and best_val_0_rmse = 1.33612\n",
      "\n",
      "Early stopping occurred at epoch 241 with best_epoch = 199 and best_val_0_rmse = 1.33665\n"
     ]
    },
    {
     "name": "stderr",
     "output_type": "stream",
     "text": [
      "[I 2024-05-09 21:10:24,911] Trial 11 finished with value: -0.8318708355993973 and parameters: {'mask_type': 'entmax', 'n_da': 60, 'n_steps': 1, 'gamma': 1.0, 'n_shared': 2, 'lambda_sparse': 8.316169400244493e-06, 'patienceScheduler': 15, 'patience': 42, 'epochs': 500}. Best is trial 6 with value: -0.8682057971633552.\n"
     ]
    },
    {
     "name": "stdout",
     "output_type": "stream",
     "text": [
      "\n",
      "Early stopping occurred at epoch 184 with best_epoch = 142 and best_val_0_rmse = 1.34355\n",
      "\n",
      "Early stopping occurred at epoch 264 with best_epoch = 216 and best_val_0_rmse = 1.40808\n",
      "\n",
      "Early stopping occurred at epoch 244 with best_epoch = 196 and best_val_0_rmse = 1.38436\n",
      "\n",
      "Early stopping occurred at epoch 260 with best_epoch = 212 and best_val_0_rmse = 1.26955\n",
      "\n",
      "Early stopping occurred at epoch 184 with best_epoch = 136 and best_val_0_rmse = 1.26255\n"
     ]
    },
    {
     "name": "stderr",
     "output_type": "stream",
     "text": [
      "[I 2024-05-09 21:12:35,775] Trial 12 finished with value: -0.8408560572954726 and parameters: {'mask_type': 'entmax', 'n_da': 60, 'n_steps': 2, 'gamma': 1.0, 'n_shared': 2, 'lambda_sparse': 0.00022861459327001146, 'patienceScheduler': 13, 'patience': 48, 'epochs': 499}. Best is trial 6 with value: -0.8682057971633552.\n"
     ]
    },
    {
     "name": "stdout",
     "output_type": "stream",
     "text": [
      "\n",
      "Early stopping occurred at epoch 254 with best_epoch = 206 and best_val_0_rmse = 1.39194\n",
      "\n",
      "Early stopping occurred at epoch 243 with best_epoch = 195 and best_val_0_rmse = 1.34165\n",
      "\n",
      "Early stopping occurred at epoch 219 with best_epoch = 171 and best_val_0_rmse = 1.12397\n",
      "\n",
      "Early stopping occurred at epoch 172 with best_epoch = 124 and best_val_0_rmse = 1.19262\n",
      "\n",
      "Early stopping occurred at epoch 304 with best_epoch = 256 and best_val_0_rmse = 1.0961\n"
     ]
    },
    {
     "name": "stderr",
     "output_type": "stream",
     "text": [
      "[I 2024-05-09 21:14:52,139] Trial 13 finished with value: -0.8784265945516421 and parameters: {'mask_type': 'entmax', 'n_da': 60, 'n_steps': 2, 'gamma': 1.2, 'n_shared': 3, 'lambda_sparse': 0.0003875118313218489, 'patienceScheduler': 12, 'patience': 48, 'epochs': 395}. Best is trial 13 with value: -0.8784265945516421.\n"
     ]
    },
    {
     "name": "stdout",
     "output_type": "stream",
     "text": [
      "\n",
      "Early stopping occurred at epoch 169 with best_epoch = 121 and best_val_0_rmse = 1.10694\n",
      "\n",
      "Early stopping occurred at epoch 342 with best_epoch = 302 and best_val_0_rmse = 0.95852\n",
      "\n",
      "Early stopping occurred at epoch 219 with best_epoch = 179 and best_val_0_rmse = 1.01298\n",
      "\n",
      "Early stopping occurred at epoch 239 with best_epoch = 199 and best_val_0_rmse = 0.90583\n",
      "\n",
      "Early stopping occurred at epoch 284 with best_epoch = 244 and best_val_0_rmse = 0.86441\n"
     ]
    },
    {
     "name": "stderr",
     "output_type": "stream",
     "text": [
      "[I 2024-05-09 21:19:21,175] Trial 14 finished with value: -0.9176981341663556 and parameters: {'mask_type': 'entmax', 'n_da': 60, 'n_steps': 4, 'gamma': 1.2, 'n_shared': 3, 'lambda_sparse': 0.0005261924806544306, 'patienceScheduler': 12, 'patience': 40, 'epochs': 384}. Best is trial 14 with value: -0.9176981341663556.\n"
     ]
    },
    {
     "name": "stdout",
     "output_type": "stream",
     "text": [
      "\n",
      "Early stopping occurred at epoch 215 with best_epoch = 175 and best_val_0_rmse = 1.08229\n",
      "models/grid_tabnet_moran_mse_lasso_exp.model CV-R2 = 0.918\n"
     ]
    },
    {
     "name": "stderr",
     "output_type": "stream",
     "text": [
      "[I 2024-05-09 21:21:50,062] A new study created in memory with name: no-name-bba41bb9-0e5e-4d2e-9e1f-019752fe31b3\n"
     ]
    },
    {
     "name": "stdout",
     "output_type": "stream",
     "text": [
      "BIC LASSO CV R2 score:  0.825459791260851\n",
      "\n",
      "Early stopping occurred at epoch 270 with best_epoch = 198 and best_val_0_rmse = 1.12107\n",
      "Stop training because you reached max_epochs = 369 with best_epoch = 347 and best_val_0_rmse = 1.55206\n",
      "\n",
      "Early stopping occurred at epoch 304 with best_epoch = 232 and best_val_0_rmse = 1.22792\n",
      "Stop training because you reached max_epochs = 369 with best_epoch = 338 and best_val_0_rmse = 1.49598\n"
     ]
    },
    {
     "name": "stderr",
     "output_type": "stream",
     "text": [
      "[I 2024-05-09 21:24:45,893] Trial 0 finished with value: -0.8494724173072703 and parameters: {'mask_type': 'sparsemax', 'n_da': 64, 'n_steps': 3, 'gamma': 1.1, 'n_shared': 1, 'lambda_sparse': 1.951722464144948e-08, 'patienceScheduler': 14, 'patience': 72, 'epochs': 369}. Best is trial 0 with value: -0.8494724173072703.\n"
     ]
    },
    {
     "name": "stdout",
     "output_type": "stream",
     "text": [
      "Stop training because you reached max_epochs = 369 with best_epoch = 348 and best_val_0_rmse = 1.06896\n",
      "Stop training because you reached max_epochs = 181 with best_epoch = 180 and best_val_0_rmse = 1.04284\n",
      "Stop training because you reached max_epochs = 181 with best_epoch = 175 and best_val_0_rmse = 1.30937\n",
      "Stop training because you reached max_epochs = 181 with best_epoch = 175 and best_val_0_rmse = 1.44188\n",
      "Stop training because you reached max_epochs = 181 with best_epoch = 180 and best_val_0_rmse = 1.35189\n"
     ]
    },
    {
     "name": "stderr",
     "output_type": "stream",
     "text": [
      "[I 2024-05-09 21:25:58,698] Trial 1 finished with value: -0.8512740325830428 and parameters: {'mask_type': 'sparsemax', 'n_da': 64, 'n_steps': 2, 'gamma': 1.1, 'n_shared': 1, 'lambda_sparse': 3.3205591037519537e-07, 'patienceScheduler': 9, 'patience': 60, 'epochs': 181}. Best is trial 1 with value: -0.8512740325830428.\n"
     ]
    },
    {
     "name": "stdout",
     "output_type": "stream",
     "text": [
      "Stop training because you reached max_epochs = 181 with best_epoch = 172 and best_val_0_rmse = 1.3697\n",
      "Stop training because you reached max_epochs = 70 with best_epoch = 69 and best_val_0_rmse = 1.23149\n",
      "Stop training because you reached max_epochs = 70 with best_epoch = 68 and best_val_0_rmse = 1.16088\n",
      "Stop training because you reached max_epochs = 70 with best_epoch = 63 and best_val_0_rmse = 1.1614\n",
      "Stop training because you reached max_epochs = 70 with best_epoch = 68 and best_val_0_rmse = 1.10691\n"
     ]
    },
    {
     "name": "stderr",
     "output_type": "stream",
     "text": [
      "[I 2024-05-09 21:26:46,335] Trial 2 finished with value: -0.8839527415631036 and parameters: {'mask_type': 'entmax', 'n_da': 56, 'n_steps': 2, 'gamma': 1.3, 'n_shared': 4, 'lambda_sparse': 9.9625132220551e-08, 'patienceScheduler': 9, 'patience': 72, 'epochs': 70}. Best is trial 2 with value: -0.8839527415631036.\n"
     ]
    },
    {
     "name": "stdout",
     "output_type": "stream",
     "text": [
      "Stop training because you reached max_epochs = 70 with best_epoch = 63 and best_val_0_rmse = 1.08004\n",
      "\n",
      "Early stopping occurred at epoch 161 with best_epoch = 83 and best_val_0_rmse = 2.41029\n",
      "\n",
      "Early stopping occurred at epoch 243 with best_epoch = 165 and best_val_0_rmse = 2.27883\n",
      "\n",
      "Early stopping occurred at epoch 124 with best_epoch = 46 and best_val_0_rmse = 2.50975\n",
      "\n",
      "Early stopping occurred at epoch 178 with best_epoch = 100 and best_val_0_rmse = 2.55475\n",
      "\n",
      "Early stopping occurred at epoch 133 with best_epoch = 55 and best_val_0_rmse = 2.40072\n"
     ]
    },
    {
     "name": "stderr",
     "output_type": "stream",
     "text": [
      "[I 2024-05-09 21:30:56,333] Trial 3 finished with value: -0.4834787149105602 and parameters: {'mask_type': 'entmax', 'n_da': 56, 'n_steps': 5, 'gamma': 1.6, 'n_shared': 5, 'lambda_sparse': 3.3347927286375814e-07, 'patienceScheduler': 4, 'patience': 78, 'epochs': 248}. Best is trial 2 with value: -0.8839527415631036.\n"
     ]
    },
    {
     "name": "stdout",
     "output_type": "stream",
     "text": [
      "Stop training because you reached max_epochs = 133 with best_epoch = 130 and best_val_0_rmse = 2.04184\n",
      "Stop training because you reached max_epochs = 133 with best_epoch = 132 and best_val_0_rmse = 1.40797\n",
      "Stop training because you reached max_epochs = 133 with best_epoch = 132 and best_val_0_rmse = 1.99474\n",
      "Stop training because you reached max_epochs = 133 with best_epoch = 120 and best_val_0_rmse = 1.99422\n"
     ]
    },
    {
     "name": "stderr",
     "output_type": "stream",
     "text": [
      "[I 2024-05-09 21:33:42,140] Trial 4 finished with value: -0.7014542278513367 and parameters: {'mask_type': 'sparsemax', 'n_da': 56, 'n_steps': 5, 'gamma': 1.1, 'n_shared': 4, 'lambda_sparse': 3.618723330959616e-07, 'patienceScheduler': 9, 'patience': 68, 'epochs': 133}. Best is trial 2 with value: -0.8839527415631036.\n"
     ]
    },
    {
     "name": "stdout",
     "output_type": "stream",
     "text": [
      "Stop training because you reached max_epochs = 133 with best_epoch = 132 and best_val_0_rmse = 1.74183\n",
      "\n",
      "Early stopping occurred at epoch 118 with best_epoch = 85 and best_val_0_rmse = 2.18347\n",
      "\n",
      "Early stopping occurred at epoch 153 with best_epoch = 120 and best_val_0_rmse = 2.08542\n",
      "\n",
      "Early stopping occurred at epoch 181 with best_epoch = 148 and best_val_0_rmse = 1.76251\n",
      "\n",
      "Early stopping occurred at epoch 171 with best_epoch = 138 and best_val_0_rmse = 2.14181\n"
     ]
    },
    {
     "name": "stderr",
     "output_type": "stream",
     "text": [
      "[I 2024-05-09 21:37:55,176] Trial 5 finished with value: -0.6516558172313628 and parameters: {'mask_type': 'entmax', 'n_da': 64, 'n_steps': 5, 'gamma': 1.4, 'n_shared': 5, 'lambda_sparse': 2.7698899227562766e-08, 'patienceScheduler': 5, 'patience': 33, 'epochs': 196}. Best is trial 2 with value: -0.8839527415631036.\n"
     ]
    },
    {
     "name": "stdout",
     "output_type": "stream",
     "text": [
      "Stop training because you reached max_epochs = 196 with best_epoch = 166 and best_val_0_rmse = 1.69626\n",
      "\n",
      "Early stopping occurred at epoch 236 with best_epoch = 201 and best_val_0_rmse = 0.92386\n",
      "\n",
      "Early stopping occurred at epoch 201 with best_epoch = 166 and best_val_0_rmse = 0.82755\n",
      "\n",
      "Early stopping occurred at epoch 231 with best_epoch = 196 and best_val_0_rmse = 0.86972\n",
      "\n",
      "Early stopping occurred at epoch 168 with best_epoch = 133 and best_val_0_rmse = 0.94464\n"
     ]
    },
    {
     "name": "stderr",
     "output_type": "stream",
     "text": [
      "[I 2024-05-09 21:40:03,784] Trial 6 finished with value: -0.9325928550469245 and parameters: {'mask_type': 'entmax', 'n_da': 64, 'n_steps': 2, 'gamma': 1.1, 'n_shared': 3, 'lambda_sparse': 5.0654860639753365e-08, 'patienceScheduler': 13, 'patience': 35, 'epochs': 495}. Best is trial 6 with value: -0.9325928550469245.\n"
     ]
    },
    {
     "name": "stdout",
     "output_type": "stream",
     "text": [
      "\n",
      "Early stopping occurred at epoch 242 with best_epoch = 207 and best_val_0_rmse = 0.81115\n",
      "Stop training because you reached max_epochs = 102 with best_epoch = 91 and best_val_0_rmse = 2.3069\n",
      "Stop training because you reached max_epochs = 102 with best_epoch = 89 and best_val_0_rmse = 2.14184\n",
      "Stop training because you reached max_epochs = 102 with best_epoch = 101 and best_val_0_rmse = 2.28568\n",
      "Stop training because you reached max_epochs = 102 with best_epoch = 66 and best_val_0_rmse = 2.1569\n"
     ]
    },
    {
     "name": "stderr",
     "output_type": "stream",
     "text": [
      "[I 2024-05-09 21:42:16,117] Trial 7 finished with value: -0.5688679280186815 and parameters: {'mask_type': 'entmax', 'n_da': 56, 'n_steps': 5, 'gamma': 1.4, 'n_shared': 4, 'lambda_sparse': 7.183758655813986e-05, 'patienceScheduler': 3, 'patience': 55, 'epochs': 102}. Best is trial 6 with value: -0.9325928550469245.\n"
     ]
    },
    {
     "name": "stdout",
     "output_type": "stream",
     "text": [
      "Stop training because you reached max_epochs = 102 with best_epoch = 90 and best_val_0_rmse = 2.20063\n",
      "Stop training because you reached max_epochs = 262 with best_epoch = 261 and best_val_0_rmse = 0.8915\n",
      "Stop training because you reached max_epochs = 262 with best_epoch = 230 and best_val_0_rmse = 0.89178\n",
      "\n",
      "Early stopping occurred at epoch 220 with best_epoch = 128 and best_val_0_rmse = 0.8076\n",
      "Stop training because you reached max_epochs = 262 with best_epoch = 223 and best_val_0_rmse = 0.96783\n"
     ]
    },
    {
     "name": "stderr",
     "output_type": "stream",
     "text": [
      "[I 2024-05-09 21:43:34,182] Trial 8 finished with value: -0.931526868755399 and parameters: {'mask_type': 'entmax', 'n_da': 56, 'n_steps': 1, 'gamma': 1.2, 'n_shared': 2, 'lambda_sparse': 4.446628955475447e-05, 'patienceScheduler': 11, 'patience': 92, 'epochs': 262}. Best is trial 6 with value: -0.9325928550469245.\n"
     ]
    },
    {
     "name": "stdout",
     "output_type": "stream",
     "text": [
      "Stop training because you reached max_epochs = 262 with best_epoch = 208 and best_val_0_rmse = 0.84568\n",
      "Stop training because you reached max_epochs = 98 with best_epoch = 97 and best_val_0_rmse = 1.9932\n",
      "Stop training because you reached max_epochs = 98 with best_epoch = 97 and best_val_0_rmse = 1.77556\n",
      "Stop training because you reached max_epochs = 98 with best_epoch = 97 and best_val_0_rmse = 1.66684\n",
      "Stop training because you reached max_epochs = 98 with best_epoch = 97 and best_val_0_rmse = 1.98251\n"
     ]
    },
    {
     "name": "stderr",
     "output_type": "stream",
     "text": [
      "[I 2024-05-09 21:44:50,878] Trial 9 finished with value: -0.6816848260519695 and parameters: {'mask_type': 'sparsemax', 'n_da': 64, 'n_steps': 3, 'gamma': 1.5, 'n_shared': 3, 'lambda_sparse': 4.1083188946999205e-06, 'patienceScheduler': 8, 'patience': 31, 'epochs': 98}. Best is trial 6 with value: -0.9325928550469245.\n"
     ]
    },
    {
     "name": "stdout",
     "output_type": "stream",
     "text": [
      "Stop training because you reached max_epochs = 98 with best_epoch = 85 and best_val_0_rmse = 2.06734\n",
      "\n",
      "Early stopping occurred at epoch 223 with best_epoch = 177 and best_val_0_rmse = 1.09063\n",
      "\n",
      "Early stopping occurred at epoch 173 with best_epoch = 127 and best_val_0_rmse = 1.02713\n",
      "\n",
      "Early stopping occurred at epoch 222 with best_epoch = 176 and best_val_0_rmse = 1.07017\n",
      "\n",
      "Early stopping occurred at epoch 203 with best_epoch = 157 and best_val_0_rmse = 0.96848\n"
     ]
    },
    {
     "name": "stderr",
     "output_type": "stream",
     "text": [
      "[I 2024-05-09 21:45:56,478] Trial 10 finished with value: -0.9099935848335278 and parameters: {'mask_type': 'entmax', 'n_da': 60, 'n_steps': 1, 'gamma': 1.0, 'n_shared': 2, 'lambda_sparse': 5.066634090043089e-06, 'patienceScheduler': 15, 'patience': 46, 'epochs': 487}. Best is trial 6 with value: -0.9325928550469245.\n"
     ]
    },
    {
     "name": "stdout",
     "output_type": "stream",
     "text": [
      "\n",
      "Early stopping occurred at epoch 223 with best_epoch = 177 and best_val_0_rmse = 0.89497\n",
      "\n",
      "Early stopping occurred at epoch 240 with best_epoch = 140 and best_val_0_rmse = 1.07984\n",
      "\n",
      "Early stopping occurred at epoch 216 with best_epoch = 116 and best_val_0_rmse = 1.01151\n",
      "\n",
      "Early stopping occurred at epoch 337 with best_epoch = 237 and best_val_0_rmse = 1.03507\n",
      "\n",
      "Early stopping occurred at epoch 310 with best_epoch = 210 and best_val_0_rmse = 0.99599\n"
     ]
    },
    {
     "name": "stderr",
     "output_type": "stream",
     "text": [
      "[I 2024-05-09 21:47:23,870] Trial 11 finished with value: -0.909916158101832 and parameters: {'mask_type': 'entmax', 'n_da': 60, 'n_steps': 1, 'gamma': 1.2, 'n_shared': 2, 'lambda_sparse': 0.0005001147308280169, 'patienceScheduler': 12, 'patience': 100, 'epochs': 348}. Best is trial 6 with value: -0.9325928550469245.\n"
     ]
    },
    {
     "name": "stdout",
     "output_type": "stream",
     "text": [
      "\n",
      "Early stopping occurred at epoch 240 with best_epoch = 140 and best_val_0_rmse = 0.93787\n",
      "\n",
      "Early stopping occurred at epoch 292 with best_epoch = 201 and best_val_0_rmse = 0.92617\n",
      "\n",
      "Early stopping occurred at epoch 250 with best_epoch = 159 and best_val_0_rmse = 0.97879\n",
      "\n",
      "Early stopping occurred at epoch 319 with best_epoch = 228 and best_val_0_rmse = 1.12137\n",
      "\n",
      "Early stopping occurred at epoch 278 with best_epoch = 187 and best_val_0_rmse = 0.97246\n"
     ]
    },
    {
     "name": "stderr",
     "output_type": "stream",
     "text": [
      "[I 2024-05-09 21:49:48,524] Trial 12 finished with value: -0.9176776895391733 and parameters: {'mask_type': 'entmax', 'n_da': 60, 'n_steps': 2, 'gamma': 1.2, 'n_shared': 2, 'lambda_sparse': 4.791526679772836e-05, 'patienceScheduler': 12, 'patience': 91, 'epochs': 497}. Best is trial 6 with value: -0.9325928550469245.\n"
     ]
    },
    {
     "name": "stdout",
     "output_type": "stream",
     "text": [
      "\n",
      "Early stopping occurred at epoch 370 with best_epoch = 279 and best_val_0_rmse = 0.8449\n",
      "\n",
      "Early stopping occurred at epoch 236 with best_epoch = 150 and best_val_0_rmse = 0.95049\n",
      "\n",
      "Early stopping occurred at epoch 215 with best_epoch = 129 and best_val_0_rmse = 0.89841\n",
      "\n",
      "Early stopping occurred at epoch 245 with best_epoch = 159 and best_val_0_rmse = 1.02271\n",
      "\n",
      "Early stopping occurred at epoch 245 with best_epoch = 159 and best_val_0_rmse = 1.00869\n"
     ]
    },
    {
     "name": "stderr",
     "output_type": "stream",
     "text": [
      "[I 2024-05-09 21:51:20,396] Trial 13 finished with value: -0.9226339463101993 and parameters: {'mask_type': 'entmax', 'n_da': 60, 'n_steps': 1, 'gamma': 1.0, 'n_shared': 3, 'lambda_sparse': 1.984329576941398e-05, 'patienceScheduler': 12, 'patience': 86, 'epochs': 340}. Best is trial 6 with value: -0.9325928550469245.\n"
     ]
    },
    {
     "name": "stdout",
     "output_type": "stream",
     "text": [
      "\n",
      "Early stopping occurred at epoch 277 with best_epoch = 191 and best_val_0_rmse = 0.81248\n",
      "\n",
      "Early stopping occurred at epoch 246 with best_epoch = 203 and best_val_0_rmse = 0.92644\n",
      "\n",
      "Early stopping occurred at epoch 313 with best_epoch = 270 and best_val_0_rmse = 1.02771\n",
      "\n",
      "Early stopping occurred at epoch 199 with best_epoch = 156 and best_val_0_rmse = 0.98665\n",
      "\n",
      "Early stopping occurred at epoch 235 with best_epoch = 192 and best_val_0_rmse = 0.96584\n"
     ]
    },
    {
     "name": "stderr",
     "output_type": "stream",
     "text": [
      "[I 2024-05-09 21:52:59,233] Trial 14 finished with value: -0.9190754434024951 and parameters: {'mask_type': 'entmax', 'n_da': 60, 'n_steps': 2, 'gamma': 1.2, 'n_shared': 2, 'lambda_sparse': 0.0004102780207828637, 'patienceScheduler': 13, 'patience': 43, 'epochs': 420}. Best is trial 6 with value: -0.9325928550469245.\n"
     ]
    },
    {
     "name": "stdout",
     "output_type": "stream",
     "text": [
      "\n",
      "Early stopping occurred at epoch 229 with best_epoch = 186 and best_val_0_rmse = 0.89286\n",
      "models/grid_tabnet_moran_bic_lasso_exp.model CV-R2 = 0.933\n"
     ]
    }
   ],
   "source": [
    "warnings.filterwarnings('ignore')\n",
    "\n",
    "for w in weights:\n",
    "    data = pd.read_csv('data/grid_moran_' + w + '.csv',index_col=0)\n",
    "    \n",
    "    for s in selection:\n",
    "        \n",
    "        if s == 'all':\n",
    "            selected = list(data.columns[2:-3])\n",
    "        if s == 'xy':\n",
    "            selected = list(data.columns[-3: -1])\n",
    "        if s =='mse':\n",
    "            selected = lasso_moran_select(data,s)\n",
    "        if s == 'bic':\n",
    "            selected = lasso_moran_select(data,s)\n",
    "        if s == 'aic':\n",
    "            selected = lasso_moran_select(data,s)\n",
    "            \n",
    "        \n",
    "        X_coords = data[['X1','X2']  + selected]\n",
    "        \n",
    "        moran = X_coords[selected]\n",
    "        moran = (np.array(moran) - np.array(moran).mean(axis=0))/np.array(moran).std(axis=0)\n",
    "        X_coords[selected] = moran\n",
    "        \n",
    "        y = data['y']\n",
    "\n",
    "        for m in models:\n",
    "            \n",
    "            model,best_loss = TabNet_fit(X_coords.values, y.values.reshape(-1,1), timeout=60*30)\n",
    "            \n",
    "            #model.fit(X_coords, y, estimator_list = [m], **settings)\n",
    "            \n",
    "            name = \"models/grid_\" + m + \"_moran_\" + s + \"_lasso_\" + w + \".model\"\n",
    "            \n",
    "            pickle.dump(model, open(name, 'wb'))\n",
    "            \n",
    "            print(name + ' CV-R2 = {0:.3g}'.format(best_loss))"
   ]
  },
  {
   "cell_type": "code",
   "execution_count": null,
   "metadata": {},
   "outputs": [],
   "source": []
  },
  {
   "cell_type": "markdown",
   "metadata": {},
   "source": [
    "### LASSO Results"
   ]
  },
  {
   "cell_type": "code",
   "execution_count": null,
   "metadata": {},
   "outputs": [
    {
     "name": "stdout",
     "output_type": "stream",
     "text": [
      "MSE LASSO CV R2 score:  0.7952897584979441\n",
      "172\n"
     ]
    }
   ],
   "source": [
    "for w in weights:\n",
    "    data = pd.read_csv('data/grid_moran_' + w + '.csv',index_col=0)\n",
    "    \n",
    "    for s in ['mse','bic','aic']:\n",
    "        \n",
    "        if s =='mse':\n",
    "            selected = lasso_moran_select(data,s)\n",
    "            print(len(selected))\n",
    "        if s == 'bic':\n",
    "            selected = lasso_moran_select(data,s)\n",
    "            print(len(selected))"
   ]
  },
  {
   "cell_type": "markdown",
   "metadata": {},
   "source": [
    "### Linear Model"
   ]
  },
  {
   "cell_type": "code",
   "execution_count": null,
   "metadata": {},
   "outputs": [],
   "source": [
    "data = pd.read_csv('data/grid_moran_' + w + '.csv',index_col=0)\n",
    "X_coords = data.iloc[:,:2]\n",
    "\n",
    "model = LinearRegression()\n",
    "\n",
    "# Set up cross-validation strategy\n",
    "kf = KFold(n_splits=5, shuffle=True, random_state=42)\n",
    "\n",
    "# Perform cross-validation and calculate R2 scores\n",
    "r2_scores = cross_val_score(model, X_coords, y, cv=kf, scoring='r2')"
   ]
  },
  {
   "cell_type": "code",
   "execution_count": null,
   "metadata": {},
   "outputs": [],
   "source": [
    "r2_scores.mean()"
   ]
  },
  {
   "cell_type": "code",
   "execution_count": null,
   "metadata": {},
   "outputs": [],
   "source": []
  }
 ],
 "metadata": {
  "kernelspec": {
   "display_name": "Python 3 (ipykernel)",
   "language": "python",
   "name": "python3"
  },
  "language_info": {
   "codemirror_mode": {
    "name": "ipython",
    "version": 3
   },
   "file_extension": ".py",
   "mimetype": "text/x-python",
   "name": "python",
   "nbconvert_exporter": "python",
   "pygments_lexer": "ipython3",
   "version": "3.11.5"
  }
 },
 "nbformat": 4,
 "nbformat_minor": 4
}
